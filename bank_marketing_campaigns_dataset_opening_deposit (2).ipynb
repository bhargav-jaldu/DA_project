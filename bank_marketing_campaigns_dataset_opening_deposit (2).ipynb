{
  "nbformat": 4,
  "nbformat_minor": 5,
  "metadata": {
    "kernelspec": {
      "display_name": "Python 3",
      "language": "python",
      "name": "python3"
    },
    "language_info": {
      "codemirror_mode": {
        "name": "ipython",
        "version": 3
      },
      "file_extension": ".py",
      "mimetype": "text/x-python",
      "name": "python",
      "nbconvert_exporter": "python",
      "pygments_lexer": "ipython3",
      "version": "3.7.9"
    },
    "papermill": {
      "default_parameters": {},
      "duration": 377.668874,
      "end_time": "2021-04-12T07:21:25.783760",
      "environment_variables": {},
      "exception": null,
      "input_path": "__notebook__.ipynb",
      "output_path": "__notebook__.ipynb",
      "parameters": {},
      "start_time": "2021-04-12T07:15:08.114886",
      "version": "2.3.2"
    },
    "colab": {
      "name": "bank-marketing-campaigns-dataset-opening-deposit.ipynb",
      "provenance": []
    }
  },
  "cells": [
    {
      "cell_type": "markdown",
      "metadata": {
        "papermill": {
          "duration": 0.121553,
          "end_time": "2021-04-12T07:15:16.929601",
          "exception": false,
          "start_time": "2021-04-12T07:15:16.808048",
          "status": "completed"
        },
        "tags": [],
        "id": "textile-escape"
      },
      "source": [
        "# Bank marketing campaigns dataset - Opening Term Deposit"
      ],
      "id": "textile-escape"
    },
    {
      "cell_type": "markdown",
      "metadata": {
        "papermill": {
          "duration": 0.11499,
          "end_time": "2021-04-12T07:15:17.161311",
          "exception": false,
          "start_time": "2021-04-12T07:15:17.046321",
          "status": "completed"
        },
        "tags": [],
        "id": "placed-hacker"
      },
      "source": [
        "## Problem Statement"
      ],
      "id": "placed-hacker"
    },
    {
      "cell_type": "markdown",
      "metadata": {
        "papermill": {
          "duration": 0.118695,
          "end_time": "2021-04-12T07:15:17.396971",
          "exception": false,
          "start_time": "2021-04-12T07:15:17.278276",
          "status": "completed"
        },
        "tags": [],
        "id": "equal-behalf"
      },
      "source": [
        "#### Bank marketing campaigns dataset analysis # Opening a Term Deposit. It is a dataset that describing Portugal bank marketing campaigns results. Conducted campaigns were based mostly on direct phone calls, offering bank client to place a term deposit. If after all marking afforts client had agreed to place deposit - target variable marked 'yes', otherwise 'no'\n",
        "\n",
        "#### To identify potential customers who opened term deposit in their bank."
      ],
      "id": "equal-behalf"
    },
    {
      "cell_type": "markdown",
      "metadata": {
        "papermill": {
          "duration": 0.116227,
          "end_time": "2021-04-12T07:15:17.631690",
          "exception": false,
          "start_time": "2021-04-12T07:15:17.515463",
          "status": "completed"
        },
        "tags": [],
        "id": "considered-scratch"
      },
      "source": [
        "## Packages used:-"
      ],
      "id": "considered-scratch"
    },
    {
      "cell_type": "code",
      "metadata": {
        "_cell_guid": "b1076dfc-b9ad-4769-8c92-a6c4dae69d19",
        "_uuid": "8f2839f25d086af736a60e9eeb907d3b93b6e0e5",
        "execution": {
          "iopub.execute_input": "2021-04-12T07:15:17.871256Z",
          "iopub.status.busy": "2021-04-12T07:15:17.870469Z",
          "iopub.status.idle": "2021-04-12T07:15:17.937808Z",
          "shell.execute_reply": "2021-04-12T07:15:17.936832Z"
        },
        "papermill": {
          "duration": 0.19258,
          "end_time": "2021-04-12T07:15:17.938049",
          "exception": false,
          "start_time": "2021-04-12T07:15:17.745469",
          "status": "completed"
        },
        "tags": [],
        "id": "occasional-endorsement"
      },
      "source": [
        "import pandas as pd\n",
        "\n",
        "import numpy as np\n",
        "\n",
        "import scipy"
      ],
      "id": "occasional-endorsement",
      "execution_count": null,
      "outputs": []
    },
    {
      "cell_type": "code",
      "metadata": {
        "execution": {
          "iopub.execute_input": "2021-04-12T07:15:18.183574Z",
          "iopub.status.busy": "2021-04-12T07:15:18.182538Z",
          "iopub.status.idle": "2021-04-12T07:15:19.936105Z",
          "shell.execute_reply": "2021-04-12T07:15:19.935081Z"
        },
        "papermill": {
          "duration": 1.874493,
          "end_time": "2021-04-12T07:15:19.936305",
          "exception": false,
          "start_time": "2021-04-12T07:15:18.061812",
          "status": "completed"
        },
        "tags": [],
        "id": "threaded-hartford"
      },
      "source": [
        "from sklearn.linear_model import LogisticRegression\n",
        "\n",
        "from sklearn.tree import DecisionTreeClassifier\n",
        "\n",
        "from sklearn.ensemble import RandomForestClassifier\n",
        "\n",
        "from sklearn.neighbors import KNeighborsClassifier\n",
        "\n",
        "from sklearn.svm import SVC\n",
        "\n",
        "from sklearn.naive_bayes import GaussianNB"
      ],
      "id": "threaded-hartford",
      "execution_count": null,
      "outputs": []
    },
    {
      "cell_type": "code",
      "metadata": {
        "execution": {
          "iopub.execute_input": "2021-04-12T07:15:20.182407Z",
          "iopub.status.busy": "2021-04-12T07:15:20.181581Z",
          "iopub.status.idle": "2021-04-12T07:15:20.185667Z",
          "shell.execute_reply": "2021-04-12T07:15:20.184907Z"
        },
        "papermill": {
          "duration": 0.130748,
          "end_time": "2021-04-12T07:15:20.185842",
          "exception": false,
          "start_time": "2021-04-12T07:15:20.055094",
          "status": "completed"
        },
        "tags": [],
        "id": "committed-gibraltar"
      },
      "source": [
        "from sklearn.ensemble import BaggingClassifier\n",
        "\n",
        "from sklearn.ensemble import AdaBoostClassifier\n",
        "\n",
        "from sklearn.ensemble import GradientBoostingClassifier\n",
        "\n",
        "from sklearn.ensemble import RandomForestClassifier"
      ],
      "id": "committed-gibraltar",
      "execution_count": null,
      "outputs": []
    },
    {
      "cell_type": "code",
      "metadata": {
        "execution": {
          "iopub.execute_input": "2021-04-12T07:15:20.426317Z",
          "iopub.status.busy": "2021-04-12T07:15:20.425276Z",
          "iopub.status.idle": "2021-04-12T07:15:20.653269Z",
          "shell.execute_reply": "2021-04-12T07:15:20.651953Z"
        },
        "papermill": {
          "duration": 0.35516,
          "end_time": "2021-04-12T07:15:20.653486",
          "exception": false,
          "start_time": "2021-04-12T07:15:20.298326",
          "status": "completed"
        },
        "tags": [],
        "id": "certain-trigger"
      },
      "source": [
        "from sklearn.preprocessing import LabelEncoder\n",
        "\n",
        "from sklearn.model_selection import train_test_split,KFold\n",
        "\n",
        "from sklearn.model_selection import GridSearchCV,RandomizedSearchCV\n",
        "\n",
        "from imblearn.over_sampling import SMOTE\n",
        "\n",
        "from scipy.stats import skew,kurtosis,boxcox,boxcox_normmax"
      ],
      "id": "certain-trigger",
      "execution_count": null,
      "outputs": []
    },
    {
      "cell_type": "code",
      "metadata": {
        "execution": {
          "iopub.execute_input": "2021-04-12T07:15:20.893767Z",
          "iopub.status.busy": "2021-04-12T07:15:20.892931Z",
          "iopub.status.idle": "2021-04-12T07:15:20.898091Z",
          "shell.execute_reply": "2021-04-12T07:15:20.897247Z"
        },
        "papermill": {
          "duration": 0.129697,
          "end_time": "2021-04-12T07:15:20.898268",
          "exception": false,
          "start_time": "2021-04-12T07:15:20.768571",
          "status": "completed"
        },
        "tags": [],
        "id": "tutorial-zoning"
      },
      "source": [
        "from sklearn import metrics\n",
        "\n",
        "from sklearn.metrics import accuracy_score,precision_score,roc_auc_score,f1_score,recall_score,auc,make_scorer\n",
        "\n",
        "from sklearn.metrics import confusion_matrix,classification_report"
      ],
      "id": "tutorial-zoning",
      "execution_count": null,
      "outputs": []
    },
    {
      "cell_type": "code",
      "metadata": {
        "execution": {
          "iopub.execute_input": "2021-04-12T07:15:21.141742Z",
          "iopub.status.busy": "2021-04-12T07:15:21.140911Z",
          "iopub.status.idle": "2021-04-12T07:15:22.234941Z",
          "shell.execute_reply": "2021-04-12T07:15:22.233995Z"
        },
        "papermill": {
          "duration": 1.219428,
          "end_time": "2021-04-12T07:15:22.235141",
          "exception": false,
          "start_time": "2021-04-12T07:15:21.015713",
          "status": "completed"
        },
        "tags": [],
        "colab": {
          "base_uri": "https://localhost:8080/"
        },
        "id": "foreign-knitting",
        "outputId": "0348e3a5-d6c7-431f-d9be-14f52b5ed94c"
      },
      "source": [
        "import matplotlib.pyplot as plt\n",
        "%matplotlib inline\n",
        "\n",
        "import statsmodels.api as sm\n",
        "\n",
        "import seaborn as sns"
      ],
      "id": "foreign-knitting",
      "execution_count": null,
      "outputs": [
        {
          "output_type": "stream",
          "text": [
            "/usr/local/lib/python3.7/dist-packages/statsmodels/tools/_testing.py:19: FutureWarning: pandas.util.testing is deprecated. Use the functions in the public API at pandas.testing instead.\n",
            "  import pandas.util.testing as tm\n"
          ],
          "name": "stderr"
        }
      ]
    },
    {
      "cell_type": "markdown",
      "metadata": {
        "papermill": {
          "duration": 0.11511,
          "end_time": "2021-04-12T07:15:22.466035",
          "exception": false,
          "start_time": "2021-04-12T07:15:22.350925",
          "status": "completed"
        },
        "tags": [],
        "id": "unexpected-alignment"
      },
      "source": [
        "## Algorithms Used:-\n",
        "\n",
        "1.     Logistic Regression\n",
        "           1.1 LR Bagging Classifier\n",
        "           1.2 LR Adaboost Classifier\n",
        "           1.3 LR Kfold Bagging Classifier\n",
        "2.     Decision Tree\n",
        "           2.1 Decision Tree - Gini - Regularized\n",
        "           2.2 Decision Tree - Entropy - Regularized\n",
        "           2.3 Decision Tree - Bagging Classifier\n",
        "           2.4 Decision Tree - Adaboost Classifier\n",
        "           2.5 Decision Tree - Gradient Classifier\n",
        "3.     Random Forest\n",
        "           3.1 Random Forest - Entropy - Regularized\n",
        "           3.2 Random Forest - Kfold Bagging Classifier\n",
        "           3.3 Random Forest - Adaboost Classifier\n",
        "           3.4 Random Forest - Gradient Classifier\n",
        "4.     KNN\n",
        "           4.1 KNN - Bagging Classifier\n",
        "           4.2 KNN - Parameter Optimization\n",
        "5.     SVM\n",
        "6.     Naive Bayes - GausianNB"
      ],
      "id": "unexpected-alignment"
    },
    {
      "cell_type": "markdown",
      "metadata": {
        "papermill": {
          "duration": 0.119415,
          "end_time": "2021-04-12T07:15:22.701747",
          "exception": false,
          "start_time": "2021-04-12T07:15:22.582332",
          "status": "completed"
        },
        "tags": [],
        "id": "marked-clause"
      },
      "source": [
        "## Import dataset"
      ],
      "id": "marked-clause"
    },
    {
      "cell_type": "code",
      "metadata": {
        "execution": {
          "iopub.execute_input": "2021-04-12T07:15:22.947062Z",
          "iopub.status.busy": "2021-04-12T07:15:22.946013Z",
          "iopub.status.idle": "2021-04-12T07:15:23.251740Z",
          "shell.execute_reply": "2021-04-12T07:15:23.250976Z"
        },
        "papermill": {
          "duration": 0.434073,
          "end_time": "2021-04-12T07:15:23.251953",
          "exception": false,
          "start_time": "2021-04-12T07:15:22.817880",
          "status": "completed"
        },
        "tags": [],
        "id": "collected-public"
      },
      "source": [
        "df = pd.read_csv('bank-additional-full.csv',sep=';')"
      ],
      "id": "collected-public",
      "execution_count": null,
      "outputs": []
    },
    {
      "cell_type": "code",
      "metadata": {
        "execution": {
          "iopub.execute_input": "2021-04-12T07:15:23.513066Z",
          "iopub.status.busy": "2021-04-12T07:15:23.512191Z",
          "iopub.status.idle": "2021-04-12T07:15:23.592615Z",
          "shell.execute_reply": "2021-04-12T07:15:23.593230Z"
        },
        "papermill": {
          "duration": 0.220971,
          "end_time": "2021-04-12T07:15:23.593448",
          "exception": false,
          "start_time": "2021-04-12T07:15:23.372477",
          "status": "completed"
        },
        "tags": [],
        "colab": {
          "base_uri": "https://localhost:8080/",
          "height": 420
        },
        "id": "breeding-journalist",
        "outputId": "4cf8fb60-1f12-4ed4-d5e6-6c8356c857db"
      },
      "source": [
        "df"
      ],
      "id": "breeding-journalist",
      "execution_count": null,
      "outputs": [
        {
          "output_type": "execute_result",
          "data": {
            "text/html": [
              "<div>\n",
              "<style scoped>\n",
              "    .dataframe tbody tr th:only-of-type {\n",
              "        vertical-align: middle;\n",
              "    }\n",
              "\n",
              "    .dataframe tbody tr th {\n",
              "        vertical-align: top;\n",
              "    }\n",
              "\n",
              "    .dataframe thead th {\n",
              "        text-align: right;\n",
              "    }\n",
              "</style>\n",
              "<table border=\"1\" class=\"dataframe\">\n",
              "  <thead>\n",
              "    <tr style=\"text-align: right;\">\n",
              "      <th></th>\n",
              "      <th>age</th>\n",
              "      <th>job</th>\n",
              "      <th>marital</th>\n",
              "      <th>education</th>\n",
              "      <th>default</th>\n",
              "      <th>housing</th>\n",
              "      <th>loan</th>\n",
              "      <th>contact</th>\n",
              "      <th>month</th>\n",
              "      <th>day_of_week</th>\n",
              "      <th>duration</th>\n",
              "      <th>campaign</th>\n",
              "      <th>pdays</th>\n",
              "      <th>previous</th>\n",
              "      <th>poutcome</th>\n",
              "      <th>emp.var.rate</th>\n",
              "      <th>cons.price.idx</th>\n",
              "      <th>cons.conf.idx</th>\n",
              "      <th>euribor3m</th>\n",
              "      <th>nr.employed</th>\n",
              "      <th>y</th>\n",
              "    </tr>\n",
              "  </thead>\n",
              "  <tbody>\n",
              "    <tr>\n",
              "      <th>0</th>\n",
              "      <td>56</td>\n",
              "      <td>housemaid</td>\n",
              "      <td>married</td>\n",
              "      <td>basic.4y</td>\n",
              "      <td>no</td>\n",
              "      <td>no</td>\n",
              "      <td>no</td>\n",
              "      <td>telephone</td>\n",
              "      <td>may</td>\n",
              "      <td>mon</td>\n",
              "      <td>261</td>\n",
              "      <td>1</td>\n",
              "      <td>999</td>\n",
              "      <td>0</td>\n",
              "      <td>nonexistent</td>\n",
              "      <td>1.1</td>\n",
              "      <td>93.994</td>\n",
              "      <td>-36.4</td>\n",
              "      <td>4.857</td>\n",
              "      <td>5191.0</td>\n",
              "      <td>no</td>\n",
              "    </tr>\n",
              "    <tr>\n",
              "      <th>1</th>\n",
              "      <td>57</td>\n",
              "      <td>services</td>\n",
              "      <td>married</td>\n",
              "      <td>high.school</td>\n",
              "      <td>unknown</td>\n",
              "      <td>no</td>\n",
              "      <td>no</td>\n",
              "      <td>telephone</td>\n",
              "      <td>may</td>\n",
              "      <td>mon</td>\n",
              "      <td>149</td>\n",
              "      <td>1</td>\n",
              "      <td>999</td>\n",
              "      <td>0</td>\n",
              "      <td>nonexistent</td>\n",
              "      <td>1.1</td>\n",
              "      <td>93.994</td>\n",
              "      <td>-36.4</td>\n",
              "      <td>4.857</td>\n",
              "      <td>5191.0</td>\n",
              "      <td>no</td>\n",
              "    </tr>\n",
              "    <tr>\n",
              "      <th>2</th>\n",
              "      <td>37</td>\n",
              "      <td>services</td>\n",
              "      <td>married</td>\n",
              "      <td>high.school</td>\n",
              "      <td>no</td>\n",
              "      <td>yes</td>\n",
              "      <td>no</td>\n",
              "      <td>telephone</td>\n",
              "      <td>may</td>\n",
              "      <td>mon</td>\n",
              "      <td>226</td>\n",
              "      <td>1</td>\n",
              "      <td>999</td>\n",
              "      <td>0</td>\n",
              "      <td>nonexistent</td>\n",
              "      <td>1.1</td>\n",
              "      <td>93.994</td>\n",
              "      <td>-36.4</td>\n",
              "      <td>4.857</td>\n",
              "      <td>5191.0</td>\n",
              "      <td>no</td>\n",
              "    </tr>\n",
              "    <tr>\n",
              "      <th>3</th>\n",
              "      <td>40</td>\n",
              "      <td>admin.</td>\n",
              "      <td>married</td>\n",
              "      <td>basic.6y</td>\n",
              "      <td>no</td>\n",
              "      <td>no</td>\n",
              "      <td>no</td>\n",
              "      <td>telephone</td>\n",
              "      <td>may</td>\n",
              "      <td>mon</td>\n",
              "      <td>151</td>\n",
              "      <td>1</td>\n",
              "      <td>999</td>\n",
              "      <td>0</td>\n",
              "      <td>nonexistent</td>\n",
              "      <td>1.1</td>\n",
              "      <td>93.994</td>\n",
              "      <td>-36.4</td>\n",
              "      <td>4.857</td>\n",
              "      <td>5191.0</td>\n",
              "      <td>no</td>\n",
              "    </tr>\n",
              "    <tr>\n",
              "      <th>4</th>\n",
              "      <td>56</td>\n",
              "      <td>services</td>\n",
              "      <td>married</td>\n",
              "      <td>high.school</td>\n",
              "      <td>no</td>\n",
              "      <td>no</td>\n",
              "      <td>yes</td>\n",
              "      <td>telephone</td>\n",
              "      <td>may</td>\n",
              "      <td>mon</td>\n",
              "      <td>307</td>\n",
              "      <td>1</td>\n",
              "      <td>999</td>\n",
              "      <td>0</td>\n",
              "      <td>nonexistent</td>\n",
              "      <td>1.1</td>\n",
              "      <td>93.994</td>\n",
              "      <td>-36.4</td>\n",
              "      <td>4.857</td>\n",
              "      <td>5191.0</td>\n",
              "      <td>no</td>\n",
              "    </tr>\n",
              "    <tr>\n",
              "      <th>...</th>\n",
              "      <td>...</td>\n",
              "      <td>...</td>\n",
              "      <td>...</td>\n",
              "      <td>...</td>\n",
              "      <td>...</td>\n",
              "      <td>...</td>\n",
              "      <td>...</td>\n",
              "      <td>...</td>\n",
              "      <td>...</td>\n",
              "      <td>...</td>\n",
              "      <td>...</td>\n",
              "      <td>...</td>\n",
              "      <td>...</td>\n",
              "      <td>...</td>\n",
              "      <td>...</td>\n",
              "      <td>...</td>\n",
              "      <td>...</td>\n",
              "      <td>...</td>\n",
              "      <td>...</td>\n",
              "      <td>...</td>\n",
              "      <td>...</td>\n",
              "    </tr>\n",
              "    <tr>\n",
              "      <th>41183</th>\n",
              "      <td>73</td>\n",
              "      <td>retired</td>\n",
              "      <td>married</td>\n",
              "      <td>professional.course</td>\n",
              "      <td>no</td>\n",
              "      <td>yes</td>\n",
              "      <td>no</td>\n",
              "      <td>cellular</td>\n",
              "      <td>nov</td>\n",
              "      <td>fri</td>\n",
              "      <td>334</td>\n",
              "      <td>1</td>\n",
              "      <td>999</td>\n",
              "      <td>0</td>\n",
              "      <td>nonexistent</td>\n",
              "      <td>-1.1</td>\n",
              "      <td>94.767</td>\n",
              "      <td>-50.8</td>\n",
              "      <td>1.028</td>\n",
              "      <td>4963.6</td>\n",
              "      <td>yes</td>\n",
              "    </tr>\n",
              "    <tr>\n",
              "      <th>41184</th>\n",
              "      <td>46</td>\n",
              "      <td>blue-collar</td>\n",
              "      <td>married</td>\n",
              "      <td>professional.course</td>\n",
              "      <td>no</td>\n",
              "      <td>no</td>\n",
              "      <td>no</td>\n",
              "      <td>cellular</td>\n",
              "      <td>nov</td>\n",
              "      <td>fri</td>\n",
              "      <td>383</td>\n",
              "      <td>1</td>\n",
              "      <td>999</td>\n",
              "      <td>0</td>\n",
              "      <td>nonexistent</td>\n",
              "      <td>-1.1</td>\n",
              "      <td>94.767</td>\n",
              "      <td>-50.8</td>\n",
              "      <td>1.028</td>\n",
              "      <td>4963.6</td>\n",
              "      <td>no</td>\n",
              "    </tr>\n",
              "    <tr>\n",
              "      <th>41185</th>\n",
              "      <td>56</td>\n",
              "      <td>retired</td>\n",
              "      <td>married</td>\n",
              "      <td>university.degree</td>\n",
              "      <td>no</td>\n",
              "      <td>yes</td>\n",
              "      <td>no</td>\n",
              "      <td>cellular</td>\n",
              "      <td>nov</td>\n",
              "      <td>fri</td>\n",
              "      <td>189</td>\n",
              "      <td>2</td>\n",
              "      <td>999</td>\n",
              "      <td>0</td>\n",
              "      <td>nonexistent</td>\n",
              "      <td>-1.1</td>\n",
              "      <td>94.767</td>\n",
              "      <td>-50.8</td>\n",
              "      <td>1.028</td>\n",
              "      <td>4963.6</td>\n",
              "      <td>no</td>\n",
              "    </tr>\n",
              "    <tr>\n",
              "      <th>41186</th>\n",
              "      <td>44</td>\n",
              "      <td>technician</td>\n",
              "      <td>married</td>\n",
              "      <td>professional.course</td>\n",
              "      <td>no</td>\n",
              "      <td>no</td>\n",
              "      <td>no</td>\n",
              "      <td>cellular</td>\n",
              "      <td>nov</td>\n",
              "      <td>fri</td>\n",
              "      <td>442</td>\n",
              "      <td>1</td>\n",
              "      <td>999</td>\n",
              "      <td>0</td>\n",
              "      <td>nonexistent</td>\n",
              "      <td>-1.1</td>\n",
              "      <td>94.767</td>\n",
              "      <td>-50.8</td>\n",
              "      <td>1.028</td>\n",
              "      <td>4963.6</td>\n",
              "      <td>yes</td>\n",
              "    </tr>\n",
              "    <tr>\n",
              "      <th>41187</th>\n",
              "      <td>74</td>\n",
              "      <td>retired</td>\n",
              "      <td>married</td>\n",
              "      <td>professional.course</td>\n",
              "      <td>no</td>\n",
              "      <td>yes</td>\n",
              "      <td>no</td>\n",
              "      <td>cellular</td>\n",
              "      <td>nov</td>\n",
              "      <td>fri</td>\n",
              "      <td>239</td>\n",
              "      <td>3</td>\n",
              "      <td>999</td>\n",
              "      <td>1</td>\n",
              "      <td>failure</td>\n",
              "      <td>-1.1</td>\n",
              "      <td>94.767</td>\n",
              "      <td>-50.8</td>\n",
              "      <td>1.028</td>\n",
              "      <td>4963.6</td>\n",
              "      <td>no</td>\n",
              "    </tr>\n",
              "  </tbody>\n",
              "</table>\n",
              "<p>41188 rows × 21 columns</p>\n",
              "</div>"
            ],
            "text/plain": [
              "       age          job  marital  ... euribor3m nr.employed    y\n",
              "0       56    housemaid  married  ...     4.857      5191.0   no\n",
              "1       57     services  married  ...     4.857      5191.0   no\n",
              "2       37     services  married  ...     4.857      5191.0   no\n",
              "3       40       admin.  married  ...     4.857      5191.0   no\n",
              "4       56     services  married  ...     4.857      5191.0   no\n",
              "...    ...          ...      ...  ...       ...         ...  ...\n",
              "41183   73      retired  married  ...     1.028      4963.6  yes\n",
              "41184   46  blue-collar  married  ...     1.028      4963.6   no\n",
              "41185   56      retired  married  ...     1.028      4963.6   no\n",
              "41186   44   technician  married  ...     1.028      4963.6  yes\n",
              "41187   74      retired  married  ...     1.028      4963.6   no\n",
              "\n",
              "[41188 rows x 21 columns]"
            ]
          },
          "metadata": {
            "tags": []
          },
          "execution_count": 10
        }
      ]
    },
    {
      "cell_type": "markdown",
      "metadata": {
        "papermill": {
          "duration": 0.11786,
          "end_time": "2021-04-12T07:15:23.831212",
          "exception": false,
          "start_time": "2021-04-12T07:15:23.713352",
          "status": "completed"
        },
        "tags": [],
        "id": "thousand-monaco"
      },
      "source": [
        "## Data Preprocessing or Data Cleaning:-"
      ],
      "id": "thousand-monaco"
    },
    {
      "cell_type": "markdown",
      "metadata": {
        "papermill": {
          "duration": 0.115476,
          "end_time": "2021-04-12T07:15:24.061561",
          "exception": false,
          "start_time": "2021-04-12T07:15:23.946085",
          "status": "completed"
        },
        "tags": [],
        "id": "defined-profession"
      },
      "source": [
        "### Check duplicates:-"
      ],
      "id": "defined-profession"
    },
    {
      "cell_type": "code",
      "metadata": {
        "execution": {
          "iopub.execute_input": "2021-04-12T07:15:24.311324Z",
          "iopub.status.busy": "2021-04-12T07:15:24.310228Z",
          "iopub.status.idle": "2021-04-12T07:15:24.408944Z",
          "shell.execute_reply": "2021-04-12T07:15:24.408104Z"
        },
        "papermill": {
          "duration": 0.229929,
          "end_time": "2021-04-12T07:15:24.409136",
          "exception": false,
          "start_time": "2021-04-12T07:15:24.179207",
          "status": "completed"
        },
        "tags": [],
        "colab": {
          "base_uri": "https://localhost:8080/"
        },
        "id": "informal-challenge",
        "outputId": "d591a9e8-93b8-4486-f423-715cd5592d62"
      },
      "source": [
        "df[df.duplicated()]"
      ],
      "id": "informal-challenge",
      "execution_count": null,
      "outputs": [
        {
          "output_type": "execute_result",
          "data": {
            "text/html": [
              "<div>\n",
              "<style scoped>\n",
              "    .dataframe tbody tr th:only-of-type {\n",
              "        vertical-align: middle;\n",
              "    }\n",
              "\n",
              "    .dataframe tbody tr th {\n",
              "        vertical-align: top;\n",
              "    }\n",
              "\n",
              "    .dataframe thead th {\n",
              "        text-align: right;\n",
              "    }\n",
              "</style>\n",
              "<table border=\"1\" class=\"dataframe\">\n",
              "  <thead>\n",
              "    <tr style=\"text-align: right;\">\n",
              "      <th></th>\n",
              "      <th>age</th>\n",
              "      <th>job</th>\n",
              "      <th>marital</th>\n",
              "      <th>education</th>\n",
              "      <th>default</th>\n",
              "      <th>housing</th>\n",
              "      <th>loan</th>\n",
              "      <th>contact</th>\n",
              "      <th>month</th>\n",
              "      <th>day_of_week</th>\n",
              "      <th>duration</th>\n",
              "      <th>campaign</th>\n",
              "      <th>pdays</th>\n",
              "      <th>previous</th>\n",
              "      <th>poutcome</th>\n",
              "      <th>emp.var.rate</th>\n",
              "      <th>cons.price.idx</th>\n",
              "      <th>cons.conf.idx</th>\n",
              "      <th>euribor3m</th>\n",
              "      <th>nr.employed</th>\n",
              "      <th>y</th>\n",
              "    </tr>\n",
              "  </thead>\n",
              "  <tbody>\n",
              "    <tr>\n",
              "      <th>1266</th>\n",
              "      <td>39</td>\n",
              "      <td>blue-collar</td>\n",
              "      <td>married</td>\n",
              "      <td>basic.6y</td>\n",
              "      <td>no</td>\n",
              "      <td>no</td>\n",
              "      <td>no</td>\n",
              "      <td>telephone</td>\n",
              "      <td>may</td>\n",
              "      <td>thu</td>\n",
              "      <td>124</td>\n",
              "      <td>1</td>\n",
              "      <td>999</td>\n",
              "      <td>0</td>\n",
              "      <td>nonexistent</td>\n",
              "      <td>1.1</td>\n",
              "      <td>93.994</td>\n",
              "      <td>-36.4</td>\n",
              "      <td>4.855</td>\n",
              "      <td>5191.0</td>\n",
              "      <td>no</td>\n",
              "    </tr>\n",
              "    <tr>\n",
              "      <th>12261</th>\n",
              "      <td>36</td>\n",
              "      <td>retired</td>\n",
              "      <td>married</td>\n",
              "      <td>unknown</td>\n",
              "      <td>no</td>\n",
              "      <td>no</td>\n",
              "      <td>no</td>\n",
              "      <td>telephone</td>\n",
              "      <td>jul</td>\n",
              "      <td>thu</td>\n",
              "      <td>88</td>\n",
              "      <td>1</td>\n",
              "      <td>999</td>\n",
              "      <td>0</td>\n",
              "      <td>nonexistent</td>\n",
              "      <td>1.4</td>\n",
              "      <td>93.918</td>\n",
              "      <td>-42.7</td>\n",
              "      <td>4.966</td>\n",
              "      <td>5228.1</td>\n",
              "      <td>no</td>\n",
              "    </tr>\n",
              "    <tr>\n",
              "      <th>14234</th>\n",
              "      <td>27</td>\n",
              "      <td>technician</td>\n",
              "      <td>single</td>\n",
              "      <td>professional.course</td>\n",
              "      <td>no</td>\n",
              "      <td>no</td>\n",
              "      <td>no</td>\n",
              "      <td>cellular</td>\n",
              "      <td>jul</td>\n",
              "      <td>mon</td>\n",
              "      <td>331</td>\n",
              "      <td>2</td>\n",
              "      <td>999</td>\n",
              "      <td>0</td>\n",
              "      <td>nonexistent</td>\n",
              "      <td>1.4</td>\n",
              "      <td>93.918</td>\n",
              "      <td>-42.7</td>\n",
              "      <td>4.962</td>\n",
              "      <td>5228.1</td>\n",
              "      <td>no</td>\n",
              "    </tr>\n",
              "    <tr>\n",
              "      <th>16956</th>\n",
              "      <td>47</td>\n",
              "      <td>technician</td>\n",
              "      <td>divorced</td>\n",
              "      <td>high.school</td>\n",
              "      <td>no</td>\n",
              "      <td>yes</td>\n",
              "      <td>no</td>\n",
              "      <td>cellular</td>\n",
              "      <td>jul</td>\n",
              "      <td>thu</td>\n",
              "      <td>43</td>\n",
              "      <td>3</td>\n",
              "      <td>999</td>\n",
              "      <td>0</td>\n",
              "      <td>nonexistent</td>\n",
              "      <td>1.4</td>\n",
              "      <td>93.918</td>\n",
              "      <td>-42.7</td>\n",
              "      <td>4.962</td>\n",
              "      <td>5228.1</td>\n",
              "      <td>no</td>\n",
              "    </tr>\n",
              "    <tr>\n",
              "      <th>18465</th>\n",
              "      <td>32</td>\n",
              "      <td>technician</td>\n",
              "      <td>single</td>\n",
              "      <td>professional.course</td>\n",
              "      <td>no</td>\n",
              "      <td>yes</td>\n",
              "      <td>no</td>\n",
              "      <td>cellular</td>\n",
              "      <td>jul</td>\n",
              "      <td>thu</td>\n",
              "      <td>128</td>\n",
              "      <td>1</td>\n",
              "      <td>999</td>\n",
              "      <td>0</td>\n",
              "      <td>nonexistent</td>\n",
              "      <td>1.4</td>\n",
              "      <td>93.918</td>\n",
              "      <td>-42.7</td>\n",
              "      <td>4.968</td>\n",
              "      <td>5228.1</td>\n",
              "      <td>no</td>\n",
              "    </tr>\n",
              "    <tr>\n",
              "      <th>20216</th>\n",
              "      <td>55</td>\n",
              "      <td>services</td>\n",
              "      <td>married</td>\n",
              "      <td>high.school</td>\n",
              "      <td>unknown</td>\n",
              "      <td>no</td>\n",
              "      <td>no</td>\n",
              "      <td>cellular</td>\n",
              "      <td>aug</td>\n",
              "      <td>mon</td>\n",
              "      <td>33</td>\n",
              "      <td>1</td>\n",
              "      <td>999</td>\n",
              "      <td>0</td>\n",
              "      <td>nonexistent</td>\n",
              "      <td>1.4</td>\n",
              "      <td>93.444</td>\n",
              "      <td>-36.1</td>\n",
              "      <td>4.965</td>\n",
              "      <td>5228.1</td>\n",
              "      <td>no</td>\n",
              "    </tr>\n",
              "    <tr>\n",
              "      <th>20534</th>\n",
              "      <td>41</td>\n",
              "      <td>technician</td>\n",
              "      <td>married</td>\n",
              "      <td>professional.course</td>\n",
              "      <td>no</td>\n",
              "      <td>yes</td>\n",
              "      <td>no</td>\n",
              "      <td>cellular</td>\n",
              "      <td>aug</td>\n",
              "      <td>tue</td>\n",
              "      <td>127</td>\n",
              "      <td>1</td>\n",
              "      <td>999</td>\n",
              "      <td>0</td>\n",
              "      <td>nonexistent</td>\n",
              "      <td>1.4</td>\n",
              "      <td>93.444</td>\n",
              "      <td>-36.1</td>\n",
              "      <td>4.966</td>\n",
              "      <td>5228.1</td>\n",
              "      <td>no</td>\n",
              "    </tr>\n",
              "    <tr>\n",
              "      <th>25217</th>\n",
              "      <td>39</td>\n",
              "      <td>admin.</td>\n",
              "      <td>married</td>\n",
              "      <td>university.degree</td>\n",
              "      <td>no</td>\n",
              "      <td>no</td>\n",
              "      <td>no</td>\n",
              "      <td>cellular</td>\n",
              "      <td>nov</td>\n",
              "      <td>tue</td>\n",
              "      <td>123</td>\n",
              "      <td>2</td>\n",
              "      <td>999</td>\n",
              "      <td>0</td>\n",
              "      <td>nonexistent</td>\n",
              "      <td>-0.1</td>\n",
              "      <td>93.200</td>\n",
              "      <td>-42.0</td>\n",
              "      <td>4.153</td>\n",
              "      <td>5195.8</td>\n",
              "      <td>no</td>\n",
              "    </tr>\n",
              "    <tr>\n",
              "      <th>28477</th>\n",
              "      <td>24</td>\n",
              "      <td>services</td>\n",
              "      <td>single</td>\n",
              "      <td>high.school</td>\n",
              "      <td>no</td>\n",
              "      <td>yes</td>\n",
              "      <td>no</td>\n",
              "      <td>cellular</td>\n",
              "      <td>apr</td>\n",
              "      <td>tue</td>\n",
              "      <td>114</td>\n",
              "      <td>1</td>\n",
              "      <td>999</td>\n",
              "      <td>0</td>\n",
              "      <td>nonexistent</td>\n",
              "      <td>-1.8</td>\n",
              "      <td>93.075</td>\n",
              "      <td>-47.1</td>\n",
              "      <td>1.423</td>\n",
              "      <td>5099.1</td>\n",
              "      <td>no</td>\n",
              "    </tr>\n",
              "    <tr>\n",
              "      <th>32516</th>\n",
              "      <td>35</td>\n",
              "      <td>admin.</td>\n",
              "      <td>married</td>\n",
              "      <td>university.degree</td>\n",
              "      <td>no</td>\n",
              "      <td>yes</td>\n",
              "      <td>no</td>\n",
              "      <td>cellular</td>\n",
              "      <td>may</td>\n",
              "      <td>fri</td>\n",
              "      <td>348</td>\n",
              "      <td>4</td>\n",
              "      <td>999</td>\n",
              "      <td>0</td>\n",
              "      <td>nonexistent</td>\n",
              "      <td>-1.8</td>\n",
              "      <td>92.893</td>\n",
              "      <td>-46.2</td>\n",
              "      <td>1.313</td>\n",
              "      <td>5099.1</td>\n",
              "      <td>no</td>\n",
              "    </tr>\n",
              "    <tr>\n",
              "      <th>36951</th>\n",
              "      <td>45</td>\n",
              "      <td>admin.</td>\n",
              "      <td>married</td>\n",
              "      <td>university.degree</td>\n",
              "      <td>no</td>\n",
              "      <td>no</td>\n",
              "      <td>no</td>\n",
              "      <td>cellular</td>\n",
              "      <td>jul</td>\n",
              "      <td>thu</td>\n",
              "      <td>252</td>\n",
              "      <td>1</td>\n",
              "      <td>999</td>\n",
              "      <td>0</td>\n",
              "      <td>nonexistent</td>\n",
              "      <td>-2.9</td>\n",
              "      <td>92.469</td>\n",
              "      <td>-33.6</td>\n",
              "      <td>1.072</td>\n",
              "      <td>5076.2</td>\n",
              "      <td>yes</td>\n",
              "    </tr>\n",
              "    <tr>\n",
              "      <th>38281</th>\n",
              "      <td>71</td>\n",
              "      <td>retired</td>\n",
              "      <td>single</td>\n",
              "      <td>university.degree</td>\n",
              "      <td>no</td>\n",
              "      <td>no</td>\n",
              "      <td>no</td>\n",
              "      <td>telephone</td>\n",
              "      <td>oct</td>\n",
              "      <td>tue</td>\n",
              "      <td>120</td>\n",
              "      <td>1</td>\n",
              "      <td>999</td>\n",
              "      <td>0</td>\n",
              "      <td>nonexistent</td>\n",
              "      <td>-3.4</td>\n",
              "      <td>92.431</td>\n",
              "      <td>-26.9</td>\n",
              "      <td>0.742</td>\n",
              "      <td>5017.5</td>\n",
              "      <td>no</td>\n",
              "    </tr>\n",
              "  </tbody>\n",
              "</table>\n",
              "</div>"
            ],
            "text/plain": [
              "       age          job   marital  ... euribor3m nr.employed    y\n",
              "1266    39  blue-collar   married  ...     4.855      5191.0   no\n",
              "12261   36      retired   married  ...     4.966      5228.1   no\n",
              "14234   27   technician    single  ...     4.962      5228.1   no\n",
              "16956   47   technician  divorced  ...     4.962      5228.1   no\n",
              "18465   32   technician    single  ...     4.968      5228.1   no\n",
              "20216   55     services   married  ...     4.965      5228.1   no\n",
              "20534   41   technician   married  ...     4.966      5228.1   no\n",
              "25217   39       admin.   married  ...     4.153      5195.8   no\n",
              "28477   24     services    single  ...     1.423      5099.1   no\n",
              "32516   35       admin.   married  ...     1.313      5099.1   no\n",
              "36951   45       admin.   married  ...     1.072      5076.2  yes\n",
              "38281   71      retired    single  ...     0.742      5017.5   no\n",
              "\n",
              "[12 rows x 21 columns]"
            ]
          },
          "metadata": {
            "tags": []
          },
          "execution_count": 11
        }
      ]
    },
    {
      "cell_type": "markdown",
      "metadata": {
        "papermill": {
          "duration": 0.115683,
          "end_time": "2021-04-12T07:15:24.644706",
          "exception": false,
          "start_time": "2021-04-12T07:15:24.529023",
          "status": "completed"
        },
        "tags": [],
        "id": "quantitative-skirt"
      },
      "source": [
        "### Remove duplicates:-"
      ],
      "id": "quantitative-skirt"
    },
    {
      "cell_type": "code",
      "metadata": {
        "execution": {
          "iopub.execute_input": "2021-04-12T07:15:24.889603Z",
          "iopub.status.busy": "2021-04-12T07:15:24.888583Z",
          "iopub.status.idle": "2021-04-12T07:15:24.954351Z",
          "shell.execute_reply": "2021-04-12T07:15:24.953634Z"
        },
        "papermill": {
          "duration": 0.191417,
          "end_time": "2021-04-12T07:15:24.954563",
          "exception": false,
          "start_time": "2021-04-12T07:15:24.763146",
          "status": "completed"
        },
        "tags": [],
        "id": "naked-photography"
      },
      "source": [
        "df.drop_duplicates(inplace=True)"
      ],
      "id": "naked-photography",
      "execution_count": null,
      "outputs": []
    },
    {
      "cell_type": "markdown",
      "metadata": {
        "papermill": {
          "duration": 0.120551,
          "end_time": "2021-04-12T07:15:25.196710",
          "exception": false,
          "start_time": "2021-04-12T07:15:25.076159",
          "status": "completed"
        },
        "tags": [],
        "id": "selective-tampa"
      },
      "source": [
        "### Reseting Index:-"
      ],
      "id": "selective-tampa"
    },
    {
      "cell_type": "code",
      "metadata": {
        "execution": {
          "iopub.execute_input": "2021-04-12T07:15:25.446836Z",
          "iopub.status.busy": "2021-04-12T07:15:25.445455Z",
          "iopub.status.idle": "2021-04-12T07:15:25.450020Z",
          "shell.execute_reply": "2021-04-12T07:15:25.450585Z"
        },
        "papermill": {
          "duration": 0.137784,
          "end_time": "2021-04-12T07:15:25.450891",
          "exception": false,
          "start_time": "2021-04-12T07:15:25.313107",
          "status": "completed"
        },
        "tags": [],
        "id": "lucky-respect"
      },
      "source": [
        "df.reset_index(inplace=True)"
      ],
      "id": "lucky-respect",
      "execution_count": null,
      "outputs": []
    },
    {
      "cell_type": "code",
      "metadata": {
        "execution": {
          "iopub.execute_input": "2021-04-12T07:15:25.697000Z",
          "iopub.status.busy": "2021-04-12T07:15:25.696214Z",
          "iopub.status.idle": "2021-04-12T07:15:25.710418Z",
          "shell.execute_reply": "2021-04-12T07:15:25.709756Z"
        },
        "papermill": {
          "duration": 0.141988,
          "end_time": "2021-04-12T07:15:25.710650",
          "exception": false,
          "start_time": "2021-04-12T07:15:25.568662",
          "status": "completed"
        },
        "tags": [],
        "id": "civic-mounting"
      },
      "source": [
        "df.drop('index',axis=1,inplace=True)"
      ],
      "id": "civic-mounting",
      "execution_count": null,
      "outputs": []
    },
    {
      "cell_type": "code",
      "metadata": {
        "execution": {
          "iopub.execute_input": "2021-04-12T07:15:25.969018Z",
          "iopub.status.busy": "2021-04-12T07:15:25.968094Z",
          "iopub.status.idle": "2021-04-12T07:15:26.037856Z",
          "shell.execute_reply": "2021-04-12T07:15:26.038463Z"
        },
        "papermill": {
          "duration": 0.204002,
          "end_time": "2021-04-12T07:15:26.038698",
          "exception": false,
          "start_time": "2021-04-12T07:15:25.834696",
          "status": "completed"
        },
        "tags": [],
        "colab": {
          "base_uri": "https://localhost:8080/",
          "height": 420
        },
        "id": "mysterious-bronze",
        "outputId": "0075c172-6e6c-4d31-d071-7c606f992887"
      },
      "source": [
        "df"
      ],
      "id": "mysterious-bronze",
      "execution_count": null,
      "outputs": [
        {
          "output_type": "execute_result",
          "data": {
            "text/html": [
              "<div>\n",
              "<style scoped>\n",
              "    .dataframe tbody tr th:only-of-type {\n",
              "        vertical-align: middle;\n",
              "    }\n",
              "\n",
              "    .dataframe tbody tr th {\n",
              "        vertical-align: top;\n",
              "    }\n",
              "\n",
              "    .dataframe thead th {\n",
              "        text-align: right;\n",
              "    }\n",
              "</style>\n",
              "<table border=\"1\" class=\"dataframe\">\n",
              "  <thead>\n",
              "    <tr style=\"text-align: right;\">\n",
              "      <th></th>\n",
              "      <th>level_0</th>\n",
              "      <th>age</th>\n",
              "      <th>job</th>\n",
              "      <th>marital</th>\n",
              "      <th>education</th>\n",
              "      <th>default</th>\n",
              "      <th>housing</th>\n",
              "      <th>loan</th>\n",
              "      <th>contact</th>\n",
              "      <th>month</th>\n",
              "      <th>day_of_week</th>\n",
              "      <th>duration</th>\n",
              "      <th>campaign</th>\n",
              "      <th>pdays</th>\n",
              "      <th>previous</th>\n",
              "      <th>poutcome</th>\n",
              "      <th>emp.var.rate</th>\n",
              "      <th>cons.price.idx</th>\n",
              "      <th>cons.conf.idx</th>\n",
              "      <th>euribor3m</th>\n",
              "      <th>nr.employed</th>\n",
              "      <th>y</th>\n",
              "    </tr>\n",
              "  </thead>\n",
              "  <tbody>\n",
              "    <tr>\n",
              "      <th>0</th>\n",
              "      <td>0</td>\n",
              "      <td>56</td>\n",
              "      <td>housemaid</td>\n",
              "      <td>married</td>\n",
              "      <td>basic.4y</td>\n",
              "      <td>no</td>\n",
              "      <td>no</td>\n",
              "      <td>no</td>\n",
              "      <td>telephone</td>\n",
              "      <td>may</td>\n",
              "      <td>mon</td>\n",
              "      <td>261</td>\n",
              "      <td>1</td>\n",
              "      <td>999</td>\n",
              "      <td>0</td>\n",
              "      <td>nonexistent</td>\n",
              "      <td>1.1</td>\n",
              "      <td>93.994</td>\n",
              "      <td>-36.4</td>\n",
              "      <td>4.857</td>\n",
              "      <td>5191.0</td>\n",
              "      <td>no</td>\n",
              "    </tr>\n",
              "    <tr>\n",
              "      <th>1</th>\n",
              "      <td>1</td>\n",
              "      <td>57</td>\n",
              "      <td>services</td>\n",
              "      <td>married</td>\n",
              "      <td>high.school</td>\n",
              "      <td>unknown</td>\n",
              "      <td>no</td>\n",
              "      <td>no</td>\n",
              "      <td>telephone</td>\n",
              "      <td>may</td>\n",
              "      <td>mon</td>\n",
              "      <td>149</td>\n",
              "      <td>1</td>\n",
              "      <td>999</td>\n",
              "      <td>0</td>\n",
              "      <td>nonexistent</td>\n",
              "      <td>1.1</td>\n",
              "      <td>93.994</td>\n",
              "      <td>-36.4</td>\n",
              "      <td>4.857</td>\n",
              "      <td>5191.0</td>\n",
              "      <td>no</td>\n",
              "    </tr>\n",
              "    <tr>\n",
              "      <th>2</th>\n",
              "      <td>2</td>\n",
              "      <td>37</td>\n",
              "      <td>services</td>\n",
              "      <td>married</td>\n",
              "      <td>high.school</td>\n",
              "      <td>no</td>\n",
              "      <td>yes</td>\n",
              "      <td>no</td>\n",
              "      <td>telephone</td>\n",
              "      <td>may</td>\n",
              "      <td>mon</td>\n",
              "      <td>226</td>\n",
              "      <td>1</td>\n",
              "      <td>999</td>\n",
              "      <td>0</td>\n",
              "      <td>nonexistent</td>\n",
              "      <td>1.1</td>\n",
              "      <td>93.994</td>\n",
              "      <td>-36.4</td>\n",
              "      <td>4.857</td>\n",
              "      <td>5191.0</td>\n",
              "      <td>no</td>\n",
              "    </tr>\n",
              "    <tr>\n",
              "      <th>3</th>\n",
              "      <td>3</td>\n",
              "      <td>40</td>\n",
              "      <td>admin.</td>\n",
              "      <td>married</td>\n",
              "      <td>basic.6y</td>\n",
              "      <td>no</td>\n",
              "      <td>no</td>\n",
              "      <td>no</td>\n",
              "      <td>telephone</td>\n",
              "      <td>may</td>\n",
              "      <td>mon</td>\n",
              "      <td>151</td>\n",
              "      <td>1</td>\n",
              "      <td>999</td>\n",
              "      <td>0</td>\n",
              "      <td>nonexistent</td>\n",
              "      <td>1.1</td>\n",
              "      <td>93.994</td>\n",
              "      <td>-36.4</td>\n",
              "      <td>4.857</td>\n",
              "      <td>5191.0</td>\n",
              "      <td>no</td>\n",
              "    </tr>\n",
              "    <tr>\n",
              "      <th>4</th>\n",
              "      <td>4</td>\n",
              "      <td>56</td>\n",
              "      <td>services</td>\n",
              "      <td>married</td>\n",
              "      <td>high.school</td>\n",
              "      <td>no</td>\n",
              "      <td>no</td>\n",
              "      <td>yes</td>\n",
              "      <td>telephone</td>\n",
              "      <td>may</td>\n",
              "      <td>mon</td>\n",
              "      <td>307</td>\n",
              "      <td>1</td>\n",
              "      <td>999</td>\n",
              "      <td>0</td>\n",
              "      <td>nonexistent</td>\n",
              "      <td>1.1</td>\n",
              "      <td>93.994</td>\n",
              "      <td>-36.4</td>\n",
              "      <td>4.857</td>\n",
              "      <td>5191.0</td>\n",
              "      <td>no</td>\n",
              "    </tr>\n",
              "    <tr>\n",
              "      <th>...</th>\n",
              "      <td>...</td>\n",
              "      <td>...</td>\n",
              "      <td>...</td>\n",
              "      <td>...</td>\n",
              "      <td>...</td>\n",
              "      <td>...</td>\n",
              "      <td>...</td>\n",
              "      <td>...</td>\n",
              "      <td>...</td>\n",
              "      <td>...</td>\n",
              "      <td>...</td>\n",
              "      <td>...</td>\n",
              "      <td>...</td>\n",
              "      <td>...</td>\n",
              "      <td>...</td>\n",
              "      <td>...</td>\n",
              "      <td>...</td>\n",
              "      <td>...</td>\n",
              "      <td>...</td>\n",
              "      <td>...</td>\n",
              "      <td>...</td>\n",
              "      <td>...</td>\n",
              "    </tr>\n",
              "    <tr>\n",
              "      <th>41171</th>\n",
              "      <td>41171</td>\n",
              "      <td>73</td>\n",
              "      <td>retired</td>\n",
              "      <td>married</td>\n",
              "      <td>professional.course</td>\n",
              "      <td>no</td>\n",
              "      <td>yes</td>\n",
              "      <td>no</td>\n",
              "      <td>cellular</td>\n",
              "      <td>nov</td>\n",
              "      <td>fri</td>\n",
              "      <td>334</td>\n",
              "      <td>1</td>\n",
              "      <td>999</td>\n",
              "      <td>0</td>\n",
              "      <td>nonexistent</td>\n",
              "      <td>-1.1</td>\n",
              "      <td>94.767</td>\n",
              "      <td>-50.8</td>\n",
              "      <td>1.028</td>\n",
              "      <td>4963.6</td>\n",
              "      <td>yes</td>\n",
              "    </tr>\n",
              "    <tr>\n",
              "      <th>41172</th>\n",
              "      <td>41172</td>\n",
              "      <td>46</td>\n",
              "      <td>blue-collar</td>\n",
              "      <td>married</td>\n",
              "      <td>professional.course</td>\n",
              "      <td>no</td>\n",
              "      <td>no</td>\n",
              "      <td>no</td>\n",
              "      <td>cellular</td>\n",
              "      <td>nov</td>\n",
              "      <td>fri</td>\n",
              "      <td>383</td>\n",
              "      <td>1</td>\n",
              "      <td>999</td>\n",
              "      <td>0</td>\n",
              "      <td>nonexistent</td>\n",
              "      <td>-1.1</td>\n",
              "      <td>94.767</td>\n",
              "      <td>-50.8</td>\n",
              "      <td>1.028</td>\n",
              "      <td>4963.6</td>\n",
              "      <td>no</td>\n",
              "    </tr>\n",
              "    <tr>\n",
              "      <th>41173</th>\n",
              "      <td>41173</td>\n",
              "      <td>56</td>\n",
              "      <td>retired</td>\n",
              "      <td>married</td>\n",
              "      <td>university.degree</td>\n",
              "      <td>no</td>\n",
              "      <td>yes</td>\n",
              "      <td>no</td>\n",
              "      <td>cellular</td>\n",
              "      <td>nov</td>\n",
              "      <td>fri</td>\n",
              "      <td>189</td>\n",
              "      <td>2</td>\n",
              "      <td>999</td>\n",
              "      <td>0</td>\n",
              "      <td>nonexistent</td>\n",
              "      <td>-1.1</td>\n",
              "      <td>94.767</td>\n",
              "      <td>-50.8</td>\n",
              "      <td>1.028</td>\n",
              "      <td>4963.6</td>\n",
              "      <td>no</td>\n",
              "    </tr>\n",
              "    <tr>\n",
              "      <th>41174</th>\n",
              "      <td>41174</td>\n",
              "      <td>44</td>\n",
              "      <td>technician</td>\n",
              "      <td>married</td>\n",
              "      <td>professional.course</td>\n",
              "      <td>no</td>\n",
              "      <td>no</td>\n",
              "      <td>no</td>\n",
              "      <td>cellular</td>\n",
              "      <td>nov</td>\n",
              "      <td>fri</td>\n",
              "      <td>442</td>\n",
              "      <td>1</td>\n",
              "      <td>999</td>\n",
              "      <td>0</td>\n",
              "      <td>nonexistent</td>\n",
              "      <td>-1.1</td>\n",
              "      <td>94.767</td>\n",
              "      <td>-50.8</td>\n",
              "      <td>1.028</td>\n",
              "      <td>4963.6</td>\n",
              "      <td>yes</td>\n",
              "    </tr>\n",
              "    <tr>\n",
              "      <th>41175</th>\n",
              "      <td>41175</td>\n",
              "      <td>74</td>\n",
              "      <td>retired</td>\n",
              "      <td>married</td>\n",
              "      <td>professional.course</td>\n",
              "      <td>no</td>\n",
              "      <td>yes</td>\n",
              "      <td>no</td>\n",
              "      <td>cellular</td>\n",
              "      <td>nov</td>\n",
              "      <td>fri</td>\n",
              "      <td>239</td>\n",
              "      <td>3</td>\n",
              "      <td>999</td>\n",
              "      <td>1</td>\n",
              "      <td>failure</td>\n",
              "      <td>-1.1</td>\n",
              "      <td>94.767</td>\n",
              "      <td>-50.8</td>\n",
              "      <td>1.028</td>\n",
              "      <td>4963.6</td>\n",
              "      <td>no</td>\n",
              "    </tr>\n",
              "  </tbody>\n",
              "</table>\n",
              "<p>41176 rows × 22 columns</p>\n",
              "</div>"
            ],
            "text/plain": [
              "       level_0  age          job  ... euribor3m nr.employed    y\n",
              "0            0   56    housemaid  ...     4.857      5191.0   no\n",
              "1            1   57     services  ...     4.857      5191.0   no\n",
              "2            2   37     services  ...     4.857      5191.0   no\n",
              "3            3   40       admin.  ...     4.857      5191.0   no\n",
              "4            4   56     services  ...     4.857      5191.0   no\n",
              "...        ...  ...          ...  ...       ...         ...  ...\n",
              "41171    41171   73      retired  ...     1.028      4963.6  yes\n",
              "41172    41172   46  blue-collar  ...     1.028      4963.6   no\n",
              "41173    41173   56      retired  ...     1.028      4963.6   no\n",
              "41174    41174   44   technician  ...     1.028      4963.6  yes\n",
              "41175    41175   74      retired  ...     1.028      4963.6   no\n",
              "\n",
              "[41176 rows x 22 columns]"
            ]
          },
          "metadata": {
            "tags": []
          },
          "execution_count": 17
        }
      ]
    },
    {
      "cell_type": "markdown",
      "metadata": {
        "papermill": {
          "duration": 0.126172,
          "end_time": "2021-04-12T07:15:26.287306",
          "exception": false,
          "start_time": "2021-04-12T07:15:26.161134",
          "status": "completed"
        },
        "tags": [],
        "id": "sought-catalyst"
      },
      "source": [
        "### Null Check:-"
      ],
      "id": "sought-catalyst"
    },
    {
      "cell_type": "code",
      "metadata": {
        "execution": {
          "iopub.execute_input": "2021-04-12T07:15:26.579240Z",
          "iopub.status.busy": "2021-04-12T07:15:26.577984Z",
          "iopub.status.idle": "2021-04-12T07:15:26.590758Z",
          "shell.execute_reply": "2021-04-12T07:15:26.589714Z"
        },
        "papermill": {
          "duration": 0.18301,
          "end_time": "2021-04-12T07:15:26.590952",
          "exception": false,
          "start_time": "2021-04-12T07:15:26.407942",
          "status": "completed"
        },
        "tags": [],
        "colab": {
          "base_uri": "https://localhost:8080/"
        },
        "id": "representative-premises",
        "outputId": "2c22affe-13f6-4cb5-9320-51e7b6a8ed69"
      },
      "source": [
        "df.isnull().sum()"
      ],
      "id": "representative-premises",
      "execution_count": null,
      "outputs": [
        {
          "output_type": "execute_result",
          "data": {
            "text/plain": [
              "level_0           0\n",
              "age               0\n",
              "job               0\n",
              "marital           0\n",
              "education         0\n",
              "default           0\n",
              "housing           0\n",
              "loan              0\n",
              "contact           0\n",
              "month             0\n",
              "day_of_week       0\n",
              "duration          0\n",
              "campaign          0\n",
              "pdays             0\n",
              "previous          0\n",
              "poutcome          0\n",
              "emp.var.rate      0\n",
              "cons.price.idx    0\n",
              "cons.conf.idx     0\n",
              "euribor3m         0\n",
              "nr.employed       0\n",
              "y                 0\n",
              "dtype: int64"
            ]
          },
          "metadata": {
            "tags": []
          },
          "execution_count": 18
        }
      ]
    },
    {
      "cell_type": "markdown",
      "metadata": {
        "papermill": {
          "duration": 0.125174,
          "end_time": "2021-04-12T07:15:26.841282",
          "exception": false,
          "start_time": "2021-04-12T07:15:26.716108",
          "status": "completed"
        },
        "tags": [],
        "id": "ordinary-cooperative"
      },
      "source": [
        "### Datatype Check:-"
      ],
      "id": "ordinary-cooperative"
    },
    {
      "cell_type": "code",
      "metadata": {
        "execution": {
          "iopub.execute_input": "2021-04-12T07:15:27.138578Z",
          "iopub.status.busy": "2021-04-12T07:15:27.137762Z",
          "iopub.status.idle": "2021-04-12T07:15:27.160415Z",
          "shell.execute_reply": "2021-04-12T07:15:27.161120Z"
        },
        "papermill": {
          "duration": 0.195414,
          "end_time": "2021-04-12T07:15:27.161396",
          "exception": false,
          "start_time": "2021-04-12T07:15:26.965982",
          "status": "completed"
        },
        "tags": [],
        "colab": {
          "base_uri": "https://localhost:8080/"
        },
        "id": "judicial-regular",
        "outputId": "8399f1db-8948-4d1f-b035-d63deb07fc02"
      },
      "source": [
        "df.info()"
      ],
      "id": "judicial-regular",
      "execution_count": null,
      "outputs": [
        {
          "output_type": "stream",
          "text": [
            "<class 'pandas.core.frame.DataFrame'>\n",
            "RangeIndex: 41176 entries, 0 to 41175\n",
            "Data columns (total 22 columns):\n",
            " #   Column          Non-Null Count  Dtype  \n",
            "---  ------          --------------  -----  \n",
            " 0   level_0         41176 non-null  int64  \n",
            " 1   age             41176 non-null  int64  \n",
            " 2   job             41176 non-null  object \n",
            " 3   marital         41176 non-null  object \n",
            " 4   education       41176 non-null  object \n",
            " 5   default         41176 non-null  object \n",
            " 6   housing         41176 non-null  object \n",
            " 7   loan            41176 non-null  object \n",
            " 8   contact         41176 non-null  object \n",
            " 9   month           41176 non-null  object \n",
            " 10  day_of_week     41176 non-null  object \n",
            " 11  duration        41176 non-null  int64  \n",
            " 12  campaign        41176 non-null  int64  \n",
            " 13  pdays           41176 non-null  int64  \n",
            " 14  previous        41176 non-null  int64  \n",
            " 15  poutcome        41176 non-null  object \n",
            " 16  emp.var.rate    41176 non-null  float64\n",
            " 17  cons.price.idx  41176 non-null  float64\n",
            " 18  cons.conf.idx   41176 non-null  float64\n",
            " 19  euribor3m       41176 non-null  float64\n",
            " 20  nr.employed     41176 non-null  float64\n",
            " 21  y               41176 non-null  object \n",
            "dtypes: float64(5), int64(6), object(11)\n",
            "memory usage: 6.9+ MB\n"
          ],
          "name": "stdout"
        }
      ]
    },
    {
      "cell_type": "markdown",
      "metadata": {
        "papermill": {
          "duration": 0.155311,
          "end_time": "2021-04-12T07:15:27.448065",
          "exception": false,
          "start_time": "2021-04-12T07:15:27.292754",
          "status": "completed"
        },
        "tags": [],
        "id": "hairy-color"
      },
      "source": [
        "### Stats Check:-"
      ],
      "id": "hairy-color"
    },
    {
      "cell_type": "code",
      "metadata": {
        "execution": {
          "iopub.execute_input": "2021-04-12T07:15:27.710054Z",
          "iopub.status.busy": "2021-04-12T07:15:27.709205Z",
          "iopub.status.idle": "2021-04-12T07:15:27.769236Z",
          "shell.execute_reply": "2021-04-12T07:15:27.769880Z"
        },
        "papermill": {
          "duration": 0.195221,
          "end_time": "2021-04-12T07:15:27.770131",
          "exception": false,
          "start_time": "2021-04-12T07:15:27.574910",
          "status": "completed"
        },
        "tags": [],
        "colab": {
          "base_uri": "https://localhost:8080/",
          "height": 297
        },
        "id": "artificial-chemical",
        "outputId": "a6b50efd-3f57-4b1f-9a5f-992ad03332e4"
      },
      "source": [
        "df.describe()"
      ],
      "id": "artificial-chemical",
      "execution_count": null,
      "outputs": [
        {
          "output_type": "execute_result",
          "data": {
            "text/html": [
              "<div>\n",
              "<style scoped>\n",
              "    .dataframe tbody tr th:only-of-type {\n",
              "        vertical-align: middle;\n",
              "    }\n",
              "\n",
              "    .dataframe tbody tr th {\n",
              "        vertical-align: top;\n",
              "    }\n",
              "\n",
              "    .dataframe thead th {\n",
              "        text-align: right;\n",
              "    }\n",
              "</style>\n",
              "<table border=\"1\" class=\"dataframe\">\n",
              "  <thead>\n",
              "    <tr style=\"text-align: right;\">\n",
              "      <th></th>\n",
              "      <th>level_0</th>\n",
              "      <th>age</th>\n",
              "      <th>duration</th>\n",
              "      <th>campaign</th>\n",
              "      <th>pdays</th>\n",
              "      <th>previous</th>\n",
              "      <th>emp.var.rate</th>\n",
              "      <th>cons.price.idx</th>\n",
              "      <th>cons.conf.idx</th>\n",
              "      <th>euribor3m</th>\n",
              "      <th>nr.employed</th>\n",
              "    </tr>\n",
              "  </thead>\n",
              "  <tbody>\n",
              "    <tr>\n",
              "      <th>count</th>\n",
              "      <td>41176.000000</td>\n",
              "      <td>41176.00000</td>\n",
              "      <td>41176.000000</td>\n",
              "      <td>41176.000000</td>\n",
              "      <td>41176.000000</td>\n",
              "      <td>41176.000000</td>\n",
              "      <td>41176.000000</td>\n",
              "      <td>41176.000000</td>\n",
              "      <td>41176.000000</td>\n",
              "      <td>41176.000000</td>\n",
              "      <td>41176.000000</td>\n",
              "    </tr>\n",
              "    <tr>\n",
              "      <th>mean</th>\n",
              "      <td>20587.500000</td>\n",
              "      <td>40.02380</td>\n",
              "      <td>258.315815</td>\n",
              "      <td>2.567879</td>\n",
              "      <td>962.464810</td>\n",
              "      <td>0.173013</td>\n",
              "      <td>0.081922</td>\n",
              "      <td>93.575720</td>\n",
              "      <td>-40.502863</td>\n",
              "      <td>3.621293</td>\n",
              "      <td>5167.034870</td>\n",
              "    </tr>\n",
              "    <tr>\n",
              "      <th>std</th>\n",
              "      <td>11886.631679</td>\n",
              "      <td>10.42068</td>\n",
              "      <td>259.305321</td>\n",
              "      <td>2.770318</td>\n",
              "      <td>186.937102</td>\n",
              "      <td>0.494964</td>\n",
              "      <td>1.570883</td>\n",
              "      <td>0.578839</td>\n",
              "      <td>4.627860</td>\n",
              "      <td>1.734437</td>\n",
              "      <td>72.251364</td>\n",
              "    </tr>\n",
              "    <tr>\n",
              "      <th>min</th>\n",
              "      <td>0.000000</td>\n",
              "      <td>17.00000</td>\n",
              "      <td>0.000000</td>\n",
              "      <td>1.000000</td>\n",
              "      <td>0.000000</td>\n",
              "      <td>0.000000</td>\n",
              "      <td>-3.400000</td>\n",
              "      <td>92.201000</td>\n",
              "      <td>-50.800000</td>\n",
              "      <td>0.634000</td>\n",
              "      <td>4963.600000</td>\n",
              "    </tr>\n",
              "    <tr>\n",
              "      <th>25%</th>\n",
              "      <td>10293.750000</td>\n",
              "      <td>32.00000</td>\n",
              "      <td>102.000000</td>\n",
              "      <td>1.000000</td>\n",
              "      <td>999.000000</td>\n",
              "      <td>0.000000</td>\n",
              "      <td>-1.800000</td>\n",
              "      <td>93.075000</td>\n",
              "      <td>-42.700000</td>\n",
              "      <td>1.344000</td>\n",
              "      <td>5099.100000</td>\n",
              "    </tr>\n",
              "    <tr>\n",
              "      <th>50%</th>\n",
              "      <td>20587.500000</td>\n",
              "      <td>38.00000</td>\n",
              "      <td>180.000000</td>\n",
              "      <td>2.000000</td>\n",
              "      <td>999.000000</td>\n",
              "      <td>0.000000</td>\n",
              "      <td>1.100000</td>\n",
              "      <td>93.749000</td>\n",
              "      <td>-41.800000</td>\n",
              "      <td>4.857000</td>\n",
              "      <td>5191.000000</td>\n",
              "    </tr>\n",
              "    <tr>\n",
              "      <th>75%</th>\n",
              "      <td>30881.250000</td>\n",
              "      <td>47.00000</td>\n",
              "      <td>319.000000</td>\n",
              "      <td>3.000000</td>\n",
              "      <td>999.000000</td>\n",
              "      <td>0.000000</td>\n",
              "      <td>1.400000</td>\n",
              "      <td>93.994000</td>\n",
              "      <td>-36.400000</td>\n",
              "      <td>4.961000</td>\n",
              "      <td>5228.100000</td>\n",
              "    </tr>\n",
              "    <tr>\n",
              "      <th>max</th>\n",
              "      <td>41175.000000</td>\n",
              "      <td>98.00000</td>\n",
              "      <td>4918.000000</td>\n",
              "      <td>56.000000</td>\n",
              "      <td>999.000000</td>\n",
              "      <td>7.000000</td>\n",
              "      <td>1.400000</td>\n",
              "      <td>94.767000</td>\n",
              "      <td>-26.900000</td>\n",
              "      <td>5.045000</td>\n",
              "      <td>5228.100000</td>\n",
              "    </tr>\n",
              "  </tbody>\n",
              "</table>\n",
              "</div>"
            ],
            "text/plain": [
              "            level_0          age  ...     euribor3m   nr.employed\n",
              "count  41176.000000  41176.00000  ...  41176.000000  41176.000000\n",
              "mean   20587.500000     40.02380  ...      3.621293   5167.034870\n",
              "std    11886.631679     10.42068  ...      1.734437     72.251364\n",
              "min        0.000000     17.00000  ...      0.634000   4963.600000\n",
              "25%    10293.750000     32.00000  ...      1.344000   5099.100000\n",
              "50%    20587.500000     38.00000  ...      4.857000   5191.000000\n",
              "75%    30881.250000     47.00000  ...      4.961000   5228.100000\n",
              "max    41175.000000     98.00000  ...      5.045000   5228.100000\n",
              "\n",
              "[8 rows x 11 columns]"
            ]
          },
          "metadata": {
            "tags": []
          },
          "execution_count": 20
        }
      ]
    },
    {
      "cell_type": "markdown",
      "metadata": {
        "papermill": {
          "duration": 0.127397,
          "end_time": "2021-04-12T07:15:28.018875",
          "exception": false,
          "start_time": "2021-04-12T07:15:27.891478",
          "status": "completed"
        },
        "tags": [],
        "id": "juvenile-australian"
      },
      "source": [
        "### Columns Check:-"
      ],
      "id": "juvenile-australian"
    },
    {
      "cell_type": "code",
      "metadata": {
        "execution": {
          "iopub.execute_input": "2021-04-12T07:15:28.264755Z",
          "iopub.status.busy": "2021-04-12T07:15:28.263613Z",
          "iopub.status.idle": "2021-04-12T07:15:28.269427Z",
          "shell.execute_reply": "2021-04-12T07:15:28.268696Z"
        },
        "papermill": {
          "duration": 0.131381,
          "end_time": "2021-04-12T07:15:28.269664",
          "exception": false,
          "start_time": "2021-04-12T07:15:28.138283",
          "status": "completed"
        },
        "tags": [],
        "colab": {
          "base_uri": "https://localhost:8080/"
        },
        "id": "american-resort",
        "outputId": "9617328e-bd77-4a48-bc81-8d54ac074b93"
      },
      "source": [
        "df.columns"
      ],
      "id": "american-resort",
      "execution_count": null,
      "outputs": [
        {
          "output_type": "execute_result",
          "data": {
            "text/plain": [
              "Index(['level_0', 'age', 'job', 'marital', 'education', 'default', 'housing',\n",
              "       'loan', 'contact', 'month', 'day_of_week', 'duration', 'campaign',\n",
              "       'pdays', 'previous', 'poutcome', 'emp.var.rate', 'cons.price.idx',\n",
              "       'cons.conf.idx', 'euribor3m', 'nr.employed', 'y'],\n",
              "      dtype='object')"
            ]
          },
          "metadata": {
            "tags": []
          },
          "execution_count": 21
        }
      ]
    },
    {
      "cell_type": "code",
      "metadata": {
        "execution": {
          "iopub.execute_input": "2021-04-12T07:15:28.520962Z",
          "iopub.status.busy": "2021-04-12T07:15:28.520102Z",
          "iopub.status.idle": "2021-04-12T07:15:28.583916Z",
          "shell.execute_reply": "2021-04-12T07:15:28.584544Z"
        },
        "papermill": {
          "duration": 0.19409,
          "end_time": "2021-04-12T07:15:28.584758",
          "exception": false,
          "start_time": "2021-04-12T07:15:28.390668",
          "status": "completed"
        },
        "tags": [],
        "colab": {
          "base_uri": "https://localhost:8080/",
          "height": 420
        },
        "id": "mathematical-hardware",
        "outputId": "8c3510cd-8989-4989-aed1-7f979c209fef"
      },
      "source": [
        "df"
      ],
      "id": "mathematical-hardware",
      "execution_count": null,
      "outputs": [
        {
          "output_type": "execute_result",
          "data": {
            "text/html": [
              "<div>\n",
              "<style scoped>\n",
              "    .dataframe tbody tr th:only-of-type {\n",
              "        vertical-align: middle;\n",
              "    }\n",
              "\n",
              "    .dataframe tbody tr th {\n",
              "        vertical-align: top;\n",
              "    }\n",
              "\n",
              "    .dataframe thead th {\n",
              "        text-align: right;\n",
              "    }\n",
              "</style>\n",
              "<table border=\"1\" class=\"dataframe\">\n",
              "  <thead>\n",
              "    <tr style=\"text-align: right;\">\n",
              "      <th></th>\n",
              "      <th>level_0</th>\n",
              "      <th>age</th>\n",
              "      <th>job</th>\n",
              "      <th>marital</th>\n",
              "      <th>education</th>\n",
              "      <th>default</th>\n",
              "      <th>housing</th>\n",
              "      <th>loan</th>\n",
              "      <th>contact</th>\n",
              "      <th>month</th>\n",
              "      <th>day_of_week</th>\n",
              "      <th>duration</th>\n",
              "      <th>campaign</th>\n",
              "      <th>pdays</th>\n",
              "      <th>previous</th>\n",
              "      <th>poutcome</th>\n",
              "      <th>emp.var.rate</th>\n",
              "      <th>cons.price.idx</th>\n",
              "      <th>cons.conf.idx</th>\n",
              "      <th>euribor3m</th>\n",
              "      <th>nr.employed</th>\n",
              "      <th>y</th>\n",
              "    </tr>\n",
              "  </thead>\n",
              "  <tbody>\n",
              "    <tr>\n",
              "      <th>0</th>\n",
              "      <td>0</td>\n",
              "      <td>56</td>\n",
              "      <td>housemaid</td>\n",
              "      <td>married</td>\n",
              "      <td>basic.4y</td>\n",
              "      <td>no</td>\n",
              "      <td>no</td>\n",
              "      <td>no</td>\n",
              "      <td>telephone</td>\n",
              "      <td>may</td>\n",
              "      <td>mon</td>\n",
              "      <td>261</td>\n",
              "      <td>1</td>\n",
              "      <td>999</td>\n",
              "      <td>0</td>\n",
              "      <td>nonexistent</td>\n",
              "      <td>1.1</td>\n",
              "      <td>93.994</td>\n",
              "      <td>-36.4</td>\n",
              "      <td>4.857</td>\n",
              "      <td>5191.0</td>\n",
              "      <td>no</td>\n",
              "    </tr>\n",
              "    <tr>\n",
              "      <th>1</th>\n",
              "      <td>1</td>\n",
              "      <td>57</td>\n",
              "      <td>services</td>\n",
              "      <td>married</td>\n",
              "      <td>high.school</td>\n",
              "      <td>unknown</td>\n",
              "      <td>no</td>\n",
              "      <td>no</td>\n",
              "      <td>telephone</td>\n",
              "      <td>may</td>\n",
              "      <td>mon</td>\n",
              "      <td>149</td>\n",
              "      <td>1</td>\n",
              "      <td>999</td>\n",
              "      <td>0</td>\n",
              "      <td>nonexistent</td>\n",
              "      <td>1.1</td>\n",
              "      <td>93.994</td>\n",
              "      <td>-36.4</td>\n",
              "      <td>4.857</td>\n",
              "      <td>5191.0</td>\n",
              "      <td>no</td>\n",
              "    </tr>\n",
              "    <tr>\n",
              "      <th>2</th>\n",
              "      <td>2</td>\n",
              "      <td>37</td>\n",
              "      <td>services</td>\n",
              "      <td>married</td>\n",
              "      <td>high.school</td>\n",
              "      <td>no</td>\n",
              "      <td>yes</td>\n",
              "      <td>no</td>\n",
              "      <td>telephone</td>\n",
              "      <td>may</td>\n",
              "      <td>mon</td>\n",
              "      <td>226</td>\n",
              "      <td>1</td>\n",
              "      <td>999</td>\n",
              "      <td>0</td>\n",
              "      <td>nonexistent</td>\n",
              "      <td>1.1</td>\n",
              "      <td>93.994</td>\n",
              "      <td>-36.4</td>\n",
              "      <td>4.857</td>\n",
              "      <td>5191.0</td>\n",
              "      <td>no</td>\n",
              "    </tr>\n",
              "    <tr>\n",
              "      <th>3</th>\n",
              "      <td>3</td>\n",
              "      <td>40</td>\n",
              "      <td>admin.</td>\n",
              "      <td>married</td>\n",
              "      <td>basic.6y</td>\n",
              "      <td>no</td>\n",
              "      <td>no</td>\n",
              "      <td>no</td>\n",
              "      <td>telephone</td>\n",
              "      <td>may</td>\n",
              "      <td>mon</td>\n",
              "      <td>151</td>\n",
              "      <td>1</td>\n",
              "      <td>999</td>\n",
              "      <td>0</td>\n",
              "      <td>nonexistent</td>\n",
              "      <td>1.1</td>\n",
              "      <td>93.994</td>\n",
              "      <td>-36.4</td>\n",
              "      <td>4.857</td>\n",
              "      <td>5191.0</td>\n",
              "      <td>no</td>\n",
              "    </tr>\n",
              "    <tr>\n",
              "      <th>4</th>\n",
              "      <td>4</td>\n",
              "      <td>56</td>\n",
              "      <td>services</td>\n",
              "      <td>married</td>\n",
              "      <td>high.school</td>\n",
              "      <td>no</td>\n",
              "      <td>no</td>\n",
              "      <td>yes</td>\n",
              "      <td>telephone</td>\n",
              "      <td>may</td>\n",
              "      <td>mon</td>\n",
              "      <td>307</td>\n",
              "      <td>1</td>\n",
              "      <td>999</td>\n",
              "      <td>0</td>\n",
              "      <td>nonexistent</td>\n",
              "      <td>1.1</td>\n",
              "      <td>93.994</td>\n",
              "      <td>-36.4</td>\n",
              "      <td>4.857</td>\n",
              "      <td>5191.0</td>\n",
              "      <td>no</td>\n",
              "    </tr>\n",
              "    <tr>\n",
              "      <th>...</th>\n",
              "      <td>...</td>\n",
              "      <td>...</td>\n",
              "      <td>...</td>\n",
              "      <td>...</td>\n",
              "      <td>...</td>\n",
              "      <td>...</td>\n",
              "      <td>...</td>\n",
              "      <td>...</td>\n",
              "      <td>...</td>\n",
              "      <td>...</td>\n",
              "      <td>...</td>\n",
              "      <td>...</td>\n",
              "      <td>...</td>\n",
              "      <td>...</td>\n",
              "      <td>...</td>\n",
              "      <td>...</td>\n",
              "      <td>...</td>\n",
              "      <td>...</td>\n",
              "      <td>...</td>\n",
              "      <td>...</td>\n",
              "      <td>...</td>\n",
              "      <td>...</td>\n",
              "    </tr>\n",
              "    <tr>\n",
              "      <th>41171</th>\n",
              "      <td>41171</td>\n",
              "      <td>73</td>\n",
              "      <td>retired</td>\n",
              "      <td>married</td>\n",
              "      <td>professional.course</td>\n",
              "      <td>no</td>\n",
              "      <td>yes</td>\n",
              "      <td>no</td>\n",
              "      <td>cellular</td>\n",
              "      <td>nov</td>\n",
              "      <td>fri</td>\n",
              "      <td>334</td>\n",
              "      <td>1</td>\n",
              "      <td>999</td>\n",
              "      <td>0</td>\n",
              "      <td>nonexistent</td>\n",
              "      <td>-1.1</td>\n",
              "      <td>94.767</td>\n",
              "      <td>-50.8</td>\n",
              "      <td>1.028</td>\n",
              "      <td>4963.6</td>\n",
              "      <td>yes</td>\n",
              "    </tr>\n",
              "    <tr>\n",
              "      <th>41172</th>\n",
              "      <td>41172</td>\n",
              "      <td>46</td>\n",
              "      <td>blue-collar</td>\n",
              "      <td>married</td>\n",
              "      <td>professional.course</td>\n",
              "      <td>no</td>\n",
              "      <td>no</td>\n",
              "      <td>no</td>\n",
              "      <td>cellular</td>\n",
              "      <td>nov</td>\n",
              "      <td>fri</td>\n",
              "      <td>383</td>\n",
              "      <td>1</td>\n",
              "      <td>999</td>\n",
              "      <td>0</td>\n",
              "      <td>nonexistent</td>\n",
              "      <td>-1.1</td>\n",
              "      <td>94.767</td>\n",
              "      <td>-50.8</td>\n",
              "      <td>1.028</td>\n",
              "      <td>4963.6</td>\n",
              "      <td>no</td>\n",
              "    </tr>\n",
              "    <tr>\n",
              "      <th>41173</th>\n",
              "      <td>41173</td>\n",
              "      <td>56</td>\n",
              "      <td>retired</td>\n",
              "      <td>married</td>\n",
              "      <td>university.degree</td>\n",
              "      <td>no</td>\n",
              "      <td>yes</td>\n",
              "      <td>no</td>\n",
              "      <td>cellular</td>\n",
              "      <td>nov</td>\n",
              "      <td>fri</td>\n",
              "      <td>189</td>\n",
              "      <td>2</td>\n",
              "      <td>999</td>\n",
              "      <td>0</td>\n",
              "      <td>nonexistent</td>\n",
              "      <td>-1.1</td>\n",
              "      <td>94.767</td>\n",
              "      <td>-50.8</td>\n",
              "      <td>1.028</td>\n",
              "      <td>4963.6</td>\n",
              "      <td>no</td>\n",
              "    </tr>\n",
              "    <tr>\n",
              "      <th>41174</th>\n",
              "      <td>41174</td>\n",
              "      <td>44</td>\n",
              "      <td>technician</td>\n",
              "      <td>married</td>\n",
              "      <td>professional.course</td>\n",
              "      <td>no</td>\n",
              "      <td>no</td>\n",
              "      <td>no</td>\n",
              "      <td>cellular</td>\n",
              "      <td>nov</td>\n",
              "      <td>fri</td>\n",
              "      <td>442</td>\n",
              "      <td>1</td>\n",
              "      <td>999</td>\n",
              "      <td>0</td>\n",
              "      <td>nonexistent</td>\n",
              "      <td>-1.1</td>\n",
              "      <td>94.767</td>\n",
              "      <td>-50.8</td>\n",
              "      <td>1.028</td>\n",
              "      <td>4963.6</td>\n",
              "      <td>yes</td>\n",
              "    </tr>\n",
              "    <tr>\n",
              "      <th>41175</th>\n",
              "      <td>41175</td>\n",
              "      <td>74</td>\n",
              "      <td>retired</td>\n",
              "      <td>married</td>\n",
              "      <td>professional.course</td>\n",
              "      <td>no</td>\n",
              "      <td>yes</td>\n",
              "      <td>no</td>\n",
              "      <td>cellular</td>\n",
              "      <td>nov</td>\n",
              "      <td>fri</td>\n",
              "      <td>239</td>\n",
              "      <td>3</td>\n",
              "      <td>999</td>\n",
              "      <td>1</td>\n",
              "      <td>failure</td>\n",
              "      <td>-1.1</td>\n",
              "      <td>94.767</td>\n",
              "      <td>-50.8</td>\n",
              "      <td>1.028</td>\n",
              "      <td>4963.6</td>\n",
              "      <td>no</td>\n",
              "    </tr>\n",
              "  </tbody>\n",
              "</table>\n",
              "<p>41176 rows × 22 columns</p>\n",
              "</div>"
            ],
            "text/plain": [
              "       level_0  age          job  ... euribor3m nr.employed    y\n",
              "0            0   56    housemaid  ...     4.857      5191.0   no\n",
              "1            1   57     services  ...     4.857      5191.0   no\n",
              "2            2   37     services  ...     4.857      5191.0   no\n",
              "3            3   40       admin.  ...     4.857      5191.0   no\n",
              "4            4   56     services  ...     4.857      5191.0   no\n",
              "...        ...  ...          ...  ...       ...         ...  ...\n",
              "41171    41171   73      retired  ...     1.028      4963.6  yes\n",
              "41172    41172   46  blue-collar  ...     1.028      4963.6   no\n",
              "41173    41173   56      retired  ...     1.028      4963.6   no\n",
              "41174    41174   44   technician  ...     1.028      4963.6  yes\n",
              "41175    41175   74      retired  ...     1.028      4963.6   no\n",
              "\n",
              "[41176 rows x 22 columns]"
            ]
          },
          "metadata": {
            "tags": []
          },
          "execution_count": 22
        }
      ]
    },
    {
      "cell_type": "markdown",
      "metadata": {
        "papermill": {
          "duration": 0.120223,
          "end_time": "2021-04-12T07:15:28.826953",
          "exception": false,
          "start_time": "2021-04-12T07:15:28.706730",
          "status": "completed"
        },
        "tags": [],
        "id": "rational-celebrity"
      },
      "source": [
        "#### Age:-\n",
        "* Check Outliers ,Skewness or Kurtosis detected or not.\n",
        "* Outliers - Data points deviates significantly than other data points\n",
        "            - Data points which falls long way than other data points\n",
        "Note : If any Outliers,Skewness or Kurtosis detected, then do boxcox transformation            "
      ],
      "id": "rational-celebrity"
    },
    {
      "cell_type": "code",
      "metadata": {
        "execution": {
          "iopub.execute_input": "2021-04-12T07:15:29.086710Z",
          "iopub.status.busy": "2021-04-12T07:15:29.085845Z",
          "iopub.status.idle": "2021-04-12T07:15:29.728370Z",
          "shell.execute_reply": "2021-04-12T07:15:29.727419Z"
        },
        "papermill": {
          "duration": 0.776502,
          "end_time": "2021-04-12T07:15:29.728577",
          "exception": false,
          "start_time": "2021-04-12T07:15:28.952075",
          "status": "completed"
        },
        "tags": [],
        "colab": {
          "base_uri": "https://localhost:8080/",
          "height": 475
        },
        "id": "activated-tragedy",
        "outputId": "d029afd8-ca10-4ddc-9fa8-4a3b40c2a2d5"
      },
      "source": [
        "plt.figure(figsize=(8,6))\n",
        "sns.distplot(df.age)\n",
        "plt.xlabel('Age')\n",
        "plt.ylabel('Frequency')\n",
        "plt.title('Distribution of age')"
      ],
      "id": "activated-tragedy",
      "execution_count": null,
      "outputs": [
        {
          "output_type": "stream",
          "text": [
            "/usr/local/lib/python3.7/dist-packages/seaborn/distributions.py:2557: FutureWarning: `distplot` is a deprecated function and will be removed in a future version. Please adapt your code to use either `displot` (a figure-level function with similar flexibility) or `histplot` (an axes-level function for histograms).\n",
            "  warnings.warn(msg, FutureWarning)\n"
          ],
          "name": "stderr"
        },
        {
          "output_type": "execute_result",
          "data": {
            "text/plain": [
              "Text(0.5, 1.0, 'Distribution of age')"
            ]
          },
          "metadata": {
            "tags": []
          },
          "execution_count": 25
        },
        {
          "output_type": "display_data",
          "data": {
            "image/png": "[encoded data removed]",
            "text/plain": [
              "<Figure size 576x432 with 1 Axes>"
            ]
          },
          "metadata": {
            "tags": [],
            "needs_background": "light"
          }
        }
      ]
    },
    {
      "cell_type": "markdown",
      "metadata": {
        "papermill": {
          "duration": 0.124125,
          "end_time": "2021-04-12T07:15:29.975302",
          "exception": false,
          "start_time": "2021-04-12T07:15:29.851177",
          "status": "completed"
        },
        "tags": [],
        "id": "portable-macedonia"
      },
      "source": [
        "**Its deviate slightly at right side.**\n",
        "It should follow the normal distrubution"
      ],
      "id": "portable-macedonia"
    },
    {
      "cell_type": "code",
      "metadata": {
        "execution": {
          "iopub.execute_input": "2021-04-12T07:15:30.246082Z",
          "iopub.status.busy": "2021-04-12T07:15:30.245249Z",
          "iopub.status.idle": "2021-04-12T07:15:30.570526Z",
          "shell.execute_reply": "2021-04-12T07:15:30.569748Z"
        },
        "papermill": {
          "duration": 0.467991,
          "end_time": "2021-04-12T07:15:30.570722",
          "exception": false,
          "start_time": "2021-04-12T07:15:30.102731",
          "status": "completed"
        },
        "tags": [],
        "colab": {
          "base_uri": "https://localhost:8080/",
          "height": 475
        },
        "id": "first-forward",
        "outputId": "b47a9c79-ee8c-44e4-cbd2-1a17037aa011"
      },
      "source": [
        "plt.figure(figsize=(8,6))\n",
        "sns.boxplot(df.age)\n",
        "plt.xlabel('Age')\n",
        "plt.ylabel('Frequency')\n",
        "plt.title('Boxplot - Outliers Detection')"
      ],
      "id": "first-forward",
      "execution_count": null,
      "outputs": [
        {
          "output_type": "stream",
          "text": [
            "/usr/local/lib/python3.7/dist-packages/seaborn/_decorators.py:43: FutureWarning: Pass the following variable as a keyword arg: x. From version 0.12, the only valid positional argument will be `data`, and passing other arguments without an explicit keyword will result in an error or misinterpretation.\n",
            "  FutureWarning\n"
          ],
          "name": "stderr"
        },
        {
          "output_type": "execute_result",
          "data": {
            "text/plain": [
              "Text(0.5, 1.0, 'Boxplot - Outliers Detection')"
            ]
          },
          "metadata": {
            "tags": []
          },
          "execution_count": 26
        },
        {
          "output_type": "display_data",
          "data": {
            "image/png": "[encoded data removed]",
            "text/plain": [
              "<Figure size 576x432 with 1 Axes>"
            ]
          },
          "metadata": {
            "tags": [],
            "needs_background": "light"
          }
        }
      ]
    },
    {
      "cell_type": "markdown",
      "metadata": {
        "papermill": {
          "duration": 0.127872,
          "end_time": "2021-04-12T07:15:30.828494",
          "exception": false,
          "start_time": "2021-04-12T07:15:30.700622",
          "status": "completed"
        },
        "tags": [],
        "id": "minute-abortion"
      },
      "source": [
        "**Outliers detected, so we do boxcox transformation**"
      ],
      "id": "minute-abortion"
    },
    {
      "cell_type": "markdown",
      "metadata": {
        "papermill": {
          "duration": 0.133277,
          "end_time": "2021-04-12T07:15:31.095621",
          "exception": false,
          "start_time": "2021-04-12T07:15:30.962344",
          "status": "completed"
        },
        "tags": [],
        "id": "junior-communist"
      },
      "source": [
        "### Skewness & Kurtosis\n",
        "* #### skewness = 0 : normally distributed.\n",
        "* #### skewness > 0 : more weight in the left tail of the distribution.\n",
        "* #### skewness < 0 : more weight in the right tail of the distribution.\n",
        "* #### Kurtosis = 3 : normally distributed - Mesokurtic\n",
        "* #### Kurtosis > 3 : normally distributed - Leptokurtic\n",
        "* #### Kurtosis < 3 : normally distributed - Platykurtic"
      ],
      "id": "junior-communist"
    },
    {
      "cell_type": "code",
      "metadata": {
        "execution": {
          "iopub.execute_input": "2021-04-12T07:15:31.366980Z",
          "iopub.status.busy": "2021-04-12T07:15:31.365852Z",
          "iopub.status.idle": "2021-04-12T07:15:31.373402Z",
          "shell.execute_reply": "2021-04-12T07:15:31.372727Z"
        },
        "papermill": {
          "duration": 0.148591,
          "end_time": "2021-04-12T07:15:31.373604",
          "exception": false,
          "start_time": "2021-04-12T07:15:31.225013",
          "status": "completed"
        },
        "tags": [],
        "colab": {
          "base_uri": "https://localhost:8080/"
        },
        "id": "explicit-underwear",
        "outputId": "4ca2b121-1043-4617-bd38-d78b069d5bc3"
      },
      "source": [
        "import scipy #Scientific Python\n",
        "print('Skewness',scipy.stats.skew(df.age))"
      ],
      "id": "explicit-underwear",
      "execution_count": null,
      "outputs": [
        {
          "output_type": "stream",
          "text": [
            "Skewness 0.7845316793906337\n"
          ],
          "name": "stdout"
        }
      ]
    },
    {
      "cell_type": "code",
      "metadata": {
        "execution": {
          "iopub.execute_input": "2021-04-12T07:15:31.634925Z",
          "iopub.status.busy": "2021-04-12T07:15:31.633762Z",
          "iopub.status.idle": "2021-04-12T07:15:31.641907Z",
          "shell.execute_reply": "2021-04-12T07:15:31.641197Z"
        },
        "papermill": {
          "duration": 0.142091,
          "end_time": "2021-04-12T07:15:31.642096",
          "exception": false,
          "start_time": "2021-04-12T07:15:31.500005",
          "status": "completed"
        },
        "tags": [],
        "colab": {
          "base_uri": "https://localhost:8080/"
        },
        "id": "separate-pepper",
        "outputId": "cbfff3d4-fa2c-4359-a63d-29edba636ad2"
      },
      "source": [
        "import scipy #Scientific Python\n",
        "print('Kurtosis',scipy.stats.kurtosis(df.age))"
      ],
      "id": "separate-pepper",
      "execution_count": null,
      "outputs": [
        {
          "output_type": "stream",
          "text": [
            "Kurtosis 0.7908715485573286\n"
          ],
          "name": "stdout"
        }
      ]
    },
    {
      "cell_type": "markdown",
      "metadata": {
        "papermill": {
          "duration": 0.12787,
          "end_time": "2021-04-12T07:15:31.898975",
          "exception": false,
          "start_time": "2021-04-12T07:15:31.771105",
          "status": "completed"
        },
        "tags": [],
        "id": "expanded-project"
      },
      "source": [
        "### Boxcox Transformation Technique:-"
      ],
      "id": "expanded-project"
    },
    {
      "cell_type": "code",
      "metadata": {
        "execution": {
          "iopub.execute_input": "2021-04-12T07:15:32.236019Z",
          "iopub.status.busy": "2021-04-12T07:15:32.234794Z",
          "iopub.status.idle": "2021-04-12T07:15:32.239767Z",
          "shell.execute_reply": "2021-04-12T07:15:32.240334Z"
        },
        "papermill": {
          "duration": 0.142417,
          "end_time": "2021-04-12T07:15:32.240603",
          "exception": false,
          "start_time": "2021-04-12T07:15:32.098186",
          "status": "completed"
        },
        "tags": [],
        "id": "authorized-modern"
      },
      "source": [
        "from scipy.stats import boxcox,boxcox_normmax"
      ],
      "id": "authorized-modern",
      "execution_count": null,
      "outputs": []
    },
    {
      "cell_type": "code",
      "metadata": {
        "execution": {
          "iopub.execute_input": "2021-04-12T07:15:32.504222Z",
          "iopub.status.busy": "2021-04-12T07:15:32.501923Z",
          "iopub.status.idle": "2021-04-12T07:15:32.674667Z",
          "shell.execute_reply": "2021-04-12T07:15:32.675832Z"
        },
        "papermill": {
          "duration": 0.307715,
          "end_time": "2021-04-12T07:15:32.676213",
          "exception": false,
          "start_time": "2021-04-12T07:15:32.368498",
          "status": "completed"
        },
        "tags": [],
        "id": "different-bidder"
      },
      "source": [
        "df.age = boxcox(df.age,boxcox_normmax(df.age))"
      ],
      "id": "different-bidder",
      "execution_count": null,
      "outputs": []
    },
    {
      "cell_type": "markdown",
      "metadata": {
        "papermill": {
          "duration": 0.130424,
          "end_time": "2021-04-12T07:15:32.986807",
          "exception": false,
          "start_time": "2021-04-12T07:15:32.856383",
          "status": "completed"
        },
        "tags": [],
        "id": "compatible-evans"
      },
      "source": [
        "#### After Boxcox Transform:-"
      ],
      "id": "compatible-evans"
    },
    {
      "cell_type": "code",
      "metadata": {
        "execution": {
          "iopub.execute_input": "2021-04-12T07:15:33.286436Z",
          "iopub.status.busy": "2021-04-12T07:15:33.277998Z",
          "iopub.status.idle": "2021-04-12T07:15:33.807747Z",
          "shell.execute_reply": "2021-04-12T07:15:33.806886Z"
        },
        "papermill": {
          "duration": 0.688634,
          "end_time": "2021-04-12T07:15:33.807922",
          "exception": false,
          "start_time": "2021-04-12T07:15:33.119288",
          "status": "completed"
        },
        "tags": [],
        "colab": {
          "base_uri": "https://localhost:8080/",
          "height": 475
        },
        "id": "decimal-chaos",
        "outputId": "95901f0d-a020-4d95-9d1b-d6e715ccc970"
      },
      "source": [
        "plt.figure(figsize=(8,6))\n",
        "sns.distplot(df.age)\n",
        "plt.xlabel('Age')\n",
        "plt.ylabel('Frequency')\n",
        "plt.title('Distribution of age - After Boxcox transformation')"
      ],
      "id": "decimal-chaos",
      "execution_count": null,
      "outputs": [
        {
          "output_type": "stream",
          "text": [
            "/usr/local/lib/python3.7/dist-packages/seaborn/distributions.py:2557: FutureWarning: `distplot` is a deprecated function and will be removed in a future version. Please adapt your code to use either `displot` (a figure-level function with similar flexibility) or `histplot` (an axes-level function for histograms).\n",
            "  warnings.warn(msg, FutureWarning)\n"
          ],
          "name": "stderr"
        },
        {
          "output_type": "execute_result",
          "data": {
            "text/plain": [
              "Text(0.5, 1.0, 'Distribution of age - After Boxcox transformation')"
            ]
          },
          "metadata": {
            "tags": []
          },
          "execution_count": 35
        },
        {
          "output_type": "display_data",
          "data": {
            "image/png": "[encoded data removed]",
            "text/plain": [
              "<Figure size 576x432 with 1 Axes>"
            ]
          },
          "metadata": {
            "tags": [],
            "needs_background": "light"
          }
        }
      ]
    },
    {
      "cell_type": "markdown",
      "metadata": {
        "papermill": {
          "duration": 0.129659,
          "end_time": "2021-04-12T07:15:34.065622",
          "exception": false,
          "start_time": "2021-04-12T07:15:33.935963",
          "status": "completed"
        },
        "tags": [],
        "id": "proof-stylus"
      },
      "source": [
        "**Note :- Its not following the normal distribution even after doing boxcox transformation. Better we can drop this column.**"
      ],
      "id": "proof-stylus"
    },
    {
      "cell_type": "code",
      "metadata": {
        "execution": {
          "iopub.execute_input": "2021-04-12T07:15:34.361358Z",
          "iopub.status.busy": "2021-04-12T07:15:34.342316Z",
          "iopub.status.idle": "2021-04-12T07:15:34.514471Z",
          "shell.execute_reply": "2021-04-12T07:15:34.513814Z"
        },
        "papermill": {
          "duration": 0.317562,
          "end_time": "2021-04-12T07:15:34.514668",
          "exception": false,
          "start_time": "2021-04-12T07:15:34.197106",
          "status": "completed"
        },
        "tags": [],
        "colab": {
          "base_uri": "https://localhost:8080/",
          "height": 475
        },
        "id": "legendary-strand",
        "outputId": "408d5fd1-b99f-49e9-9c1e-cdf2ee9c0f07"
      },
      "source": [
        "plt.figure(figsize=(8,6))\n",
        "sns.boxplot(df.age)\n",
        "plt.xlabel('Age')\n",
        "plt.ylabel('Frequency')\n",
        "plt.title('Boxplot for Outliers Detection - After Boxcox transformation')"
      ],
      "id": "legendary-strand",
      "execution_count": null,
      "outputs": [
        {
          "output_type": "stream",
          "text": [
            "/usr/local/lib/python3.7/dist-packages/seaborn/_decorators.py:43: FutureWarning: Pass the following variable as a keyword arg: x. From version 0.12, the only valid positional argument will be `data`, and passing other arguments without an explicit keyword will result in an error or misinterpretation.\n",
            "  FutureWarning\n"
          ],
          "name": "stderr"
        },
        {
          "output_type": "execute_result",
          "data": {
            "text/plain": [
              "Text(0.5, 1.0, 'Boxplot for Outliers Detection - After Boxcox transformation')"
            ]
          },
          "metadata": {
            "tags": []
          },
          "execution_count": 36
        },
        {
          "output_type": "display_data",
          "data": {
            "image/png": "[encoded data removed]",
            "text/plain": [
              "<Figure size 576x432 with 1 Axes>"
            ]
          },
          "metadata": {
            "tags": [],
            "needs_background": "light"
          }
        }
      ]
    },
    {
      "cell_type": "markdown",
      "metadata": {
        "papermill": {
          "duration": 0.130978,
          "end_time": "2021-04-12T07:15:34.777334",
          "exception": false,
          "start_time": "2021-04-12T07:15:34.646356",
          "status": "completed"
        },
        "tags": [],
        "id": "japanese-hobby"
      },
      "source": [
        "#### Now the outliers are removed after the boxcox technique"
      ],
      "id": "japanese-hobby"
    },
    {
      "cell_type": "markdown",
      "metadata": {
        "papermill": {
          "duration": 0.13425,
          "end_time": "2021-04-12T07:15:35.048218",
          "exception": false,
          "start_time": "2021-04-12T07:15:34.913968",
          "status": "completed"
        },
        "tags": [],
        "id": "horizontal-string"
      },
      "source": [
        "### Skewness & Kurtosis after Boxcox Transformation"
      ],
      "id": "horizontal-string"
    },
    {
      "cell_type": "code",
      "metadata": {
        "execution": {
          "iopub.execute_input": "2021-04-12T07:15:35.325985Z",
          "iopub.status.busy": "2021-04-12T07:15:35.325079Z",
          "iopub.status.idle": "2021-04-12T07:15:35.334321Z",
          "shell.execute_reply": "2021-04-12T07:15:35.335004Z"
        },
        "papermill": {
          "duration": 0.14786,
          "end_time": "2021-04-12T07:15:35.335267",
          "exception": false,
          "start_time": "2021-04-12T07:15:35.187407",
          "status": "completed"
        },
        "tags": [],
        "colab": {
          "base_uri": "https://localhost:8080/"
        },
        "id": "controlling-minimum",
        "outputId": "ec726aa4-3825-4dbf-bfa2-b663bfc9d08e"
      },
      "source": [
        "print('Skewness after Boxcox',scipy.stats.skew(df.age))\n",
        "print('Kurtosis after Boxcox',scipy.stats.kurtosis(df.age))\n"
      ],
      "id": "controlling-minimum",
      "execution_count": null,
      "outputs": [
        {
          "output_type": "stream",
          "text": [
            "Skewness after Boxcox -0.015576489484274815\n",
            "Kurtosis after Boxcox -0.3805336657461118\n"
          ],
          "name": "stdout"
        }
      ]
    },
    {
      "cell_type": "markdown",
      "metadata": {
        "papermill": {
          "duration": 0.138185,
          "end_time": "2021-04-12T07:15:35.609069",
          "exception": false,
          "start_time": "2021-04-12T07:15:35.470884",
          "status": "completed"
        },
        "tags": [],
        "id": "clear-persian"
      },
      "source": [
        "#### Both the Skewness & Kurtosis are reduced after Boxcox Transformation.\n",
        "\n",
        "* Before Boxcox:-\n",
        "    *     Skewness 0.7845316793906337\n",
        "    *     Kurtosis 0.7908715485573286\n",
        "* After Boxcox :-\n",
        "    *     Skewness -0.006389818305811041\n",
        "    *     Kurtosis -0.38321858182694646"
      ],
      "id": "clear-persian"
    },
    {
      "cell_type": "markdown",
      "metadata": {
        "papermill": {
          "duration": 0.131888,
          "end_time": "2021-04-12T07:15:35.872322",
          "exception": false,
          "start_time": "2021-04-12T07:15:35.740434",
          "status": "completed"
        },
        "tags": [],
        "id": "personal-chorus"
      },
      "source": [
        "### Convert all categorical variable into numerical structure"
      ],
      "id": "personal-chorus"
    },
    {
      "cell_type": "markdown",
      "metadata": {
        "papermill": {
          "duration": 0.129733,
          "end_time": "2021-04-12T07:15:36.134204",
          "exception": false,
          "start_time": "2021-04-12T07:15:36.004471",
          "status": "completed"
        },
        "tags": [],
        "id": "conscious-grave"
      },
      "source": [
        "#### Job:-"
      ],
      "id": "conscious-grave"
    },
    {
      "cell_type": "code",
      "metadata": {
        "execution": {
          "iopub.execute_input": "2021-04-12T07:15:36.418470Z",
          "iopub.status.busy": "2021-04-12T07:15:36.412584Z",
          "iopub.status.idle": "2021-04-12T07:15:36.428207Z",
          "shell.execute_reply": "2021-04-12T07:15:36.426905Z"
        },
        "papermill": {
          "duration": 0.159486,
          "end_time": "2021-04-12T07:15:36.428528",
          "exception": false,
          "start_time": "2021-04-12T07:15:36.269042",
          "status": "completed"
        },
        "tags": [],
        "id": "periodic-material",
        "outputId": "e775c8bd-3e6d-4eaf-9308-72b6ad1e4ed5"
      },
      "source": [
        "df.job.value_counts()"
      ],
      "id": "periodic-material",
      "execution_count": null,
      "outputs": [
        {
          "output_type": "execute_result",
          "data": {
            "text/plain": [
              "admin.           10419\n",
              "blue-collar       9253\n",
              "technician        6739\n",
              "services          3967\n",
              "management        2924\n",
              "retired           1718\n",
              "entrepreneur      1456\n",
              "self-employed     1421\n",
              "housemaid         1060\n",
              "unemployed        1014\n",
              "student            875\n",
              "unknown            330\n",
              "Name: job, dtype: int64"
            ]
          },
          "metadata": {
            "tags": []
          },
          "execution_count": 28
        }
      ]
    },
    {
      "cell_type": "code",
      "metadata": {
        "execution": {
          "iopub.execute_input": "2021-04-12T07:15:36.706620Z",
          "iopub.status.busy": "2021-04-12T07:15:36.705317Z",
          "iopub.status.idle": "2021-04-12T07:15:36.713593Z",
          "shell.execute_reply": "2021-04-12T07:15:36.712897Z"
        },
        "papermill": {
          "duration": 0.151998,
          "end_time": "2021-04-12T07:15:36.713777",
          "exception": false,
          "start_time": "2021-04-12T07:15:36.561779",
          "status": "completed"
        },
        "tags": [],
        "id": "neither-plant",
        "outputId": "9ee1b475-1e8d-4e19-a023-499f24f5ff04"
      },
      "source": [
        "df.job.unique()"
      ],
      "id": "neither-plant",
      "execution_count": null,
      "outputs": [
        {
          "output_type": "execute_result",
          "data": {
            "text/plain": [
              "array(['housemaid', 'services', 'admin.', 'blue-collar', 'technician',\n",
              "       'retired', 'management', 'unemployed', 'self-employed', 'unknown',\n",
              "       'entrepreneur', 'student'], dtype=object)"
            ]
          },
          "metadata": {
            "tags": []
          },
          "execution_count": 29
        }
      ]
    },
    {
      "cell_type": "code",
      "metadata": {
        "execution": {
          "iopub.execute_input": "2021-04-12T07:15:36.991278Z",
          "iopub.status.busy": "2021-04-12T07:15:36.990231Z",
          "iopub.status.idle": "2021-04-12T07:15:36.994021Z",
          "shell.execute_reply": "2021-04-12T07:15:36.994612Z"
        },
        "papermill": {
          "duration": 0.147243,
          "end_time": "2021-04-12T07:15:36.994854",
          "exception": false,
          "start_time": "2021-04-12T07:15:36.847611",
          "status": "completed"
        },
        "tags": [],
        "id": "hispanic-cheat"
      },
      "source": [
        "from sklearn.preprocessing import LabelEncoder\n",
        "l_enc = LabelEncoder()"
      ],
      "id": "hispanic-cheat",
      "execution_count": null,
      "outputs": []
    },
    {
      "cell_type": "code",
      "metadata": {
        "execution": {
          "iopub.execute_input": "2021-04-12T07:15:37.292570Z",
          "iopub.status.busy": "2021-04-12T07:15:37.279088Z",
          "iopub.status.idle": "2021-04-12T07:15:37.301956Z",
          "shell.execute_reply": "2021-04-12T07:15:37.300754Z"
        },
        "papermill": {
          "duration": 0.169759,
          "end_time": "2021-04-12T07:15:37.302203",
          "exception": false,
          "start_time": "2021-04-12T07:15:37.132444",
          "status": "completed"
        },
        "tags": [],
        "id": "prescription-norwegian"
      },
      "source": [
        "df.job = l_enc.fit_transform(df.job)"
      ],
      "id": "prescription-norwegian",
      "execution_count": null,
      "outputs": []
    },
    {
      "cell_type": "code",
      "metadata": {
        "execution": {
          "iopub.execute_input": "2021-04-12T07:15:37.579708Z",
          "iopub.status.busy": "2021-04-12T07:15:37.578547Z",
          "iopub.status.idle": "2021-04-12T07:15:37.589248Z",
          "shell.execute_reply": "2021-04-12T07:15:37.590366Z"
        },
        "papermill": {
          "duration": 0.151113,
          "end_time": "2021-04-12T07:15:37.590745",
          "exception": false,
          "start_time": "2021-04-12T07:15:37.439632",
          "status": "completed"
        },
        "tags": [],
        "id": "stone-painting",
        "outputId": "17143bac-8d21-4534-cde3-0b0482bae72b"
      },
      "source": [
        "df.job.unique()"
      ],
      "id": "stone-painting",
      "execution_count": null,
      "outputs": [
        {
          "output_type": "execute_result",
          "data": {
            "text/plain": [
              "array([ 3,  7,  0,  1,  9,  5,  4, 10,  6, 11,  2,  8])"
            ]
          },
          "metadata": {
            "tags": []
          },
          "execution_count": 32
        }
      ]
    },
    {
      "cell_type": "markdown",
      "metadata": {
        "papermill": {
          "duration": 0.140209,
          "end_time": "2021-04-12T07:15:37.865478",
          "exception": false,
          "start_time": "2021-04-12T07:15:37.725269",
          "status": "completed"
        },
        "tags": [],
        "id": "presidential-pickup"
      },
      "source": [
        "#### Marital:-"
      ],
      "id": "presidential-pickup"
    },
    {
      "cell_type": "code",
      "metadata": {
        "execution": {
          "iopub.execute_input": "2021-04-12T07:15:38.151427Z",
          "iopub.status.busy": "2021-04-12T07:15:38.150269Z",
          "iopub.status.idle": "2021-04-12T07:15:38.157748Z",
          "shell.execute_reply": "2021-04-12T07:15:38.159150Z"
        },
        "papermill": {
          "duration": 0.155969,
          "end_time": "2021-04-12T07:15:38.159455",
          "exception": false,
          "start_time": "2021-04-12T07:15:38.003486",
          "status": "completed"
        },
        "tags": [],
        "id": "organic-louis",
        "outputId": "d5acaba8-dd9b-47dc-9e99-01ee05221ee1"
      },
      "source": [
        "print(df.marital.unique())"
      ],
      "id": "organic-louis",
      "execution_count": null,
      "outputs": [
        {
          "output_type": "stream",
          "text": [
            "['married' 'single' 'divorced' 'unknown']\n"
          ],
          "name": "stdout"
        }
      ]
    },
    {
      "cell_type": "code",
      "metadata": {
        "execution": {
          "iopub.execute_input": "2021-04-12T07:15:38.485219Z",
          "iopub.status.busy": "2021-04-12T07:15:38.484238Z",
          "iopub.status.idle": "2021-04-12T07:15:38.491347Z",
          "shell.execute_reply": "2021-04-12T07:15:38.492293Z"
        },
        "papermill": {
          "duration": 0.181441,
          "end_time": "2021-04-12T07:15:38.492851",
          "exception": false,
          "start_time": "2021-04-12T07:15:38.311410",
          "status": "completed"
        },
        "tags": [],
        "id": "saved-cyprus",
        "outputId": "2dc75b8d-bc3b-415a-fcbb-947026e0cf6a"
      },
      "source": [
        "print(sorted(df.marital.unique()))"
      ],
      "id": "saved-cyprus",
      "execution_count": null,
      "outputs": [
        {
          "output_type": "stream",
          "text": [
            "['divorced', 'married', 'single', 'unknown']\n"
          ],
          "name": "stdout"
        }
      ]
    },
    {
      "cell_type": "code",
      "metadata": {
        "execution": {
          "iopub.execute_input": "2021-04-12T07:15:38.787786Z",
          "iopub.status.busy": "2021-04-12T07:15:38.786743Z",
          "iopub.status.idle": "2021-04-12T07:15:38.826675Z",
          "shell.execute_reply": "2021-04-12T07:15:38.825953Z"
        },
        "papermill": {
          "duration": 0.191631,
          "end_time": "2021-04-12T07:15:38.826855",
          "exception": false,
          "start_time": "2021-04-12T07:15:38.635224",
          "status": "completed"
        },
        "tags": [],
        "id": "rough-brief"
      },
      "source": [
        "df.marital = df.marital.replace(['divorced', 'married', 'single', 'unknown'],[0,1,2,3])"
      ],
      "id": "rough-brief",
      "execution_count": null,
      "outputs": []
    },
    {
      "cell_type": "markdown",
      "metadata": {
        "papermill": {
          "duration": 0.146403,
          "end_time": "2021-04-12T07:15:39.110168",
          "exception": false,
          "start_time": "2021-04-12T07:15:38.963765",
          "status": "completed"
        },
        "tags": [],
        "id": "pressing-divide"
      },
      "source": [
        "#### Education:-"
      ],
      "id": "pressing-divide"
    },
    {
      "cell_type": "code",
      "metadata": {
        "execution": {
          "iopub.execute_input": "2021-04-12T07:15:39.396674Z",
          "iopub.status.busy": "2021-04-12T07:15:39.395445Z",
          "iopub.status.idle": "2021-04-12T07:15:39.403685Z",
          "shell.execute_reply": "2021-04-12T07:15:39.402818Z"
        },
        "papermill": {
          "duration": 0.158307,
          "end_time": "2021-04-12T07:15:39.403907",
          "exception": false,
          "start_time": "2021-04-12T07:15:39.245600",
          "status": "completed"
        },
        "tags": [],
        "id": "stopped-willow",
        "outputId": "735acf12-1beb-4fd1-c686-3d3b57bec46b"
      },
      "source": [
        "df.education.unique()"
      ],
      "id": "stopped-willow",
      "execution_count": null,
      "outputs": [
        {
          "output_type": "execute_result",
          "data": {
            "text/plain": [
              "array(['basic.4y', 'high.school', 'basic.6y', 'basic.9y',\n",
              "       'professional.course', 'unknown', 'university.degree',\n",
              "       'illiterate'], dtype=object)"
            ]
          },
          "metadata": {
            "tags": []
          },
          "execution_count": 36
        }
      ]
    },
    {
      "cell_type": "code",
      "metadata": {
        "execution": {
          "iopub.execute_input": "2021-04-12T07:15:39.698356Z",
          "iopub.status.busy": "2021-04-12T07:15:39.697462Z",
          "iopub.status.idle": "2021-04-12T07:15:39.709616Z",
          "shell.execute_reply": "2021-04-12T07:15:39.708753Z"
        },
        "papermill": {
          "duration": 0.156877,
          "end_time": "2021-04-12T07:15:39.709804",
          "exception": false,
          "start_time": "2021-04-12T07:15:39.552927",
          "status": "completed"
        },
        "tags": [],
        "id": "forward-madrid",
        "outputId": "e6b61e04-514c-44e0-a76d-350c936bfb33"
      },
      "source": [
        "print(sorted(df.education.unique()))"
      ],
      "id": "forward-madrid",
      "execution_count": null,
      "outputs": [
        {
          "output_type": "stream",
          "text": [
            "['basic.4y', 'basic.6y', 'basic.9y', 'high.school', 'illiterate', 'professional.course', 'university.degree', 'unknown']\n"
          ],
          "name": "stdout"
        }
      ]
    },
    {
      "cell_type": "code",
      "metadata": {
        "execution": {
          "iopub.execute_input": "2021-04-12T07:15:40.018231Z",
          "iopub.status.busy": "2021-04-12T07:15:40.008657Z",
          "iopub.status.idle": "2021-04-12T07:15:40.057812Z",
          "shell.execute_reply": "2021-04-12T07:15:40.055786Z"
        },
        "papermill": {
          "duration": 0.20418,
          "end_time": "2021-04-12T07:15:40.058011",
          "exception": false,
          "start_time": "2021-04-12T07:15:39.853831",
          "status": "completed"
        },
        "tags": [],
        "id": "demanding-london"
      },
      "source": [
        "df.education = df.education.replace(['basic.4y', 'basic.6y', 'basic.9y', 'high.school', 'illiterate', 'professional.course', 'university.degree', 'unknown'],\n",
        "                                    [0,1,2,3,4,5,6,7])"
      ],
      "id": "demanding-london",
      "execution_count": null,
      "outputs": []
    },
    {
      "cell_type": "code",
      "metadata": {
        "execution": {
          "iopub.execute_input": "2021-04-12T07:15:40.346629Z",
          "iopub.status.busy": "2021-04-12T07:15:40.345401Z",
          "iopub.status.idle": "2021-04-12T07:15:40.353099Z",
          "shell.execute_reply": "2021-04-12T07:15:40.352451Z"
        },
        "papermill": {
          "duration": 0.149112,
          "end_time": "2021-04-12T07:15:40.353293",
          "exception": false,
          "start_time": "2021-04-12T07:15:40.204181",
          "status": "completed"
        },
        "tags": [],
        "id": "experimental-malpractice",
        "outputId": "ccbb97a1-d151-4d3c-86d4-26d09694d661"
      },
      "source": [
        "df.education.unique()"
      ],
      "id": "experimental-malpractice",
      "execution_count": null,
      "outputs": [
        {
          "output_type": "execute_result",
          "data": {
            "text/plain": [
              "array([0, 3, 1, 2, 5, 7, 6, 4])"
            ]
          },
          "metadata": {
            "tags": []
          },
          "execution_count": 39
        }
      ]
    },
    {
      "cell_type": "markdown",
      "metadata": {
        "papermill": {
          "duration": 0.144183,
          "end_time": "2021-04-12T07:15:40.636311",
          "exception": false,
          "start_time": "2021-04-12T07:15:40.492128",
          "status": "completed"
        },
        "tags": [],
        "id": "antique-convertible"
      },
      "source": [
        "#### Default:-"
      ],
      "id": "antique-convertible"
    },
    {
      "cell_type": "code",
      "metadata": {
        "execution": {
          "iopub.execute_input": "2021-04-12T07:15:40.929241Z",
          "iopub.status.busy": "2021-04-12T07:15:40.928219Z",
          "iopub.status.idle": "2021-04-12T07:15:40.936878Z",
          "shell.execute_reply": "2021-04-12T07:15:40.936116Z"
        },
        "papermill": {
          "duration": 0.160374,
          "end_time": "2021-04-12T07:15:40.937068",
          "exception": false,
          "start_time": "2021-04-12T07:15:40.776694",
          "status": "completed"
        },
        "tags": [],
        "id": "substantial-secretariat",
        "outputId": "29aea884-6a0d-4c34-db0d-89920514038d"
      },
      "source": [
        "df.default.unique()"
      ],
      "id": "substantial-secretariat",
      "execution_count": null,
      "outputs": [
        {
          "output_type": "execute_result",
          "data": {
            "text/plain": [
              "array(['no', 'unknown', 'yes'], dtype=object)"
            ]
          },
          "metadata": {
            "tags": []
          },
          "execution_count": 40
        }
      ]
    },
    {
      "cell_type": "code",
      "metadata": {
        "execution": {
          "iopub.execute_input": "2021-04-12T07:15:41.225741Z",
          "iopub.status.busy": "2021-04-12T07:15:41.224734Z",
          "iopub.status.idle": "2021-04-12T07:15:41.232938Z",
          "shell.execute_reply": "2021-04-12T07:15:41.232076Z"
        },
        "papermill": {
          "duration": 0.155732,
          "end_time": "2021-04-12T07:15:41.233139",
          "exception": false,
          "start_time": "2021-04-12T07:15:41.077407",
          "status": "completed"
        },
        "tags": [],
        "id": "impressed-greensboro",
        "outputId": "410bb907-9dc2-4527-9c33-9e644b9d6abb"
      },
      "source": [
        "print(sorted(df.default.unique()))"
      ],
      "id": "impressed-greensboro",
      "execution_count": null,
      "outputs": [
        {
          "output_type": "stream",
          "text": [
            "['no', 'unknown', 'yes']\n"
          ],
          "name": "stdout"
        }
      ]
    },
    {
      "cell_type": "code",
      "metadata": {
        "execution": {
          "iopub.execute_input": "2021-04-12T07:15:41.541760Z",
          "iopub.status.busy": "2021-04-12T07:15:41.534084Z",
          "iopub.status.idle": "2021-04-12T07:15:41.569001Z",
          "shell.execute_reply": "2021-04-12T07:15:41.568248Z"
        },
        "papermill": {
          "duration": 0.189148,
          "end_time": "2021-04-12T07:15:41.569200",
          "exception": false,
          "start_time": "2021-04-12T07:15:41.380052",
          "status": "completed"
        },
        "tags": [],
        "id": "settled-solid"
      },
      "source": [
        "df.default = df.default.replace(['no', 'unknown', 'yes'],[0,1,2])"
      ],
      "id": "settled-solid",
      "execution_count": null,
      "outputs": []
    },
    {
      "cell_type": "markdown",
      "metadata": {
        "papermill": {
          "duration": 0.140394,
          "end_time": "2021-04-12T07:15:41.851680",
          "exception": false,
          "start_time": "2021-04-12T07:15:41.711286",
          "status": "completed"
        },
        "tags": [],
        "id": "prepared-blast"
      },
      "source": [
        "#### Housing:-"
      ],
      "id": "prepared-blast"
    },
    {
      "cell_type": "code",
      "metadata": {
        "execution": {
          "iopub.execute_input": "2021-04-12T07:15:42.156730Z",
          "iopub.status.busy": "2021-04-12T07:15:42.153883Z",
          "iopub.status.idle": "2021-04-12T07:15:42.187665Z",
          "shell.execute_reply": "2021-04-12T07:15:42.186941Z"
        },
        "papermill": {
          "duration": 0.19321,
          "end_time": "2021-04-12T07:15:42.187842",
          "exception": false,
          "start_time": "2021-04-12T07:15:41.994632",
          "status": "completed"
        },
        "tags": [],
        "id": "incorporate-suspect"
      },
      "source": [
        "df.housing = df.housing.replace(['no', 'unknown', 'yes'],[0,1,2])"
      ],
      "id": "incorporate-suspect",
      "execution_count": null,
      "outputs": []
    },
    {
      "cell_type": "markdown",
      "metadata": {
        "papermill": {
          "duration": 0.141974,
          "end_time": "2021-04-12T07:15:42.473158",
          "exception": false,
          "start_time": "2021-04-12T07:15:42.331184",
          "status": "completed"
        },
        "tags": [],
        "id": "cardiac-encounter"
      },
      "source": [
        "#### Loan:-"
      ],
      "id": "cardiac-encounter"
    },
    {
      "cell_type": "code",
      "metadata": {
        "execution": {
          "iopub.execute_input": "2021-04-12T07:15:42.793473Z",
          "iopub.status.busy": "2021-04-12T07:15:42.774151Z",
          "iopub.status.idle": "2021-04-12T07:15:42.800130Z",
          "shell.execute_reply": "2021-04-12T07:15:42.800802Z"
        },
        "papermill": {
          "duration": 0.189292,
          "end_time": "2021-04-12T07:15:42.801043",
          "exception": false,
          "start_time": "2021-04-12T07:15:42.611751",
          "status": "completed"
        },
        "tags": [],
        "id": "duplicate-geneva"
      },
      "source": [
        "df.loan = df.loan.replace(['no', 'unknown', 'yes'],[0,1,2])"
      ],
      "id": "duplicate-geneva",
      "execution_count": null,
      "outputs": []
    },
    {
      "cell_type": "markdown",
      "metadata": {
        "papermill": {
          "duration": 0.143041,
          "end_time": "2021-04-12T07:15:43.081112",
          "exception": false,
          "start_time": "2021-04-12T07:15:42.938071",
          "status": "completed"
        },
        "tags": [],
        "id": "about-blond"
      },
      "source": [
        "#### Contact:-"
      ],
      "id": "about-blond"
    },
    {
      "cell_type": "code",
      "metadata": {
        "execution": {
          "iopub.execute_input": "2021-04-12T07:15:43.411259Z",
          "iopub.status.busy": "2021-04-12T07:15:43.410379Z",
          "iopub.status.idle": "2021-04-12T07:15:43.441269Z",
          "shell.execute_reply": "2021-04-12T07:15:43.442083Z"
        },
        "papermill": {
          "duration": 0.203146,
          "end_time": "2021-04-12T07:15:43.442310",
          "exception": false,
          "start_time": "2021-04-12T07:15:43.239164",
          "status": "completed"
        },
        "tags": [],
        "id": "matched-sound"
      },
      "source": [
        "df.contact = df.contact.replace(['telephone', 'cellular'],[1,0])"
      ],
      "id": "matched-sound",
      "execution_count": null,
      "outputs": []
    },
    {
      "cell_type": "markdown",
      "metadata": {
        "papermill": {
          "duration": 0.158128,
          "end_time": "2021-04-12T07:15:43.762274",
          "exception": false,
          "start_time": "2021-04-12T07:15:43.604146",
          "status": "completed"
        },
        "tags": [],
        "id": "armed-argument"
      },
      "source": [
        "#### Month:-"
      ],
      "id": "armed-argument"
    },
    {
      "cell_type": "code",
      "metadata": {
        "execution": {
          "iopub.execute_input": "2021-04-12T07:15:44.068145Z",
          "iopub.status.busy": "2021-04-12T07:15:44.067254Z",
          "iopub.status.idle": "2021-04-12T07:15:44.081351Z",
          "shell.execute_reply": "2021-04-12T07:15:44.080316Z"
        },
        "papermill": {
          "duration": 0.16393,
          "end_time": "2021-04-12T07:15:44.081610",
          "exception": false,
          "start_time": "2021-04-12T07:15:43.917680",
          "status": "completed"
        },
        "tags": [],
        "id": "friendly-usage",
        "outputId": "550314ee-1ee5-4b0f-aeb2-9c925eaac42e"
      },
      "source": [
        "print(sorted(df.month.unique()))"
      ],
      "id": "friendly-usage",
      "execution_count": null,
      "outputs": [
        {
          "output_type": "stream",
          "text": [
            "['apr', 'aug', 'dec', 'jul', 'jun', 'mar', 'may', 'nov', 'oct', 'sep']\n"
          ],
          "name": "stdout"
        }
      ]
    },
    {
      "cell_type": "code",
      "metadata": {
        "execution": {
          "iopub.execute_input": "2021-04-12T07:15:44.387651Z",
          "iopub.status.busy": "2021-04-12T07:15:44.386880Z",
          "iopub.status.idle": "2021-04-12T07:15:44.444624Z",
          "shell.execute_reply": "2021-04-12T07:15:44.443829Z"
        },
        "papermill": {
          "duration": 0.2206,
          "end_time": "2021-04-12T07:15:44.444835",
          "exception": false,
          "start_time": "2021-04-12T07:15:44.224235",
          "status": "completed"
        },
        "tags": [],
        "id": "selected-gardening"
      },
      "source": [
        "df.month = df.month.replace(['apr', 'aug', 'dec', 'jul', 'jun', 'mar', 'may', 'nov', 'oct', 'sep'],range(0,10))"
      ],
      "id": "selected-gardening",
      "execution_count": null,
      "outputs": []
    },
    {
      "cell_type": "markdown",
      "metadata": {
        "papermill": {
          "duration": 0.144907,
          "end_time": "2021-04-12T07:15:44.735130",
          "exception": false,
          "start_time": "2021-04-12T07:15:44.590223",
          "status": "completed"
        },
        "tags": [],
        "id": "upset-support"
      },
      "source": [
        "#### Day_of_week:-"
      ],
      "id": "upset-support"
    },
    {
      "cell_type": "code",
      "metadata": {
        "execution": {
          "iopub.execute_input": "2021-04-12T07:15:45.033987Z",
          "iopub.status.busy": "2021-04-12T07:15:45.032681Z",
          "iopub.status.idle": "2021-04-12T07:15:45.040804Z",
          "shell.execute_reply": "2021-04-12T07:15:45.039907Z"
        },
        "papermill": {
          "duration": 0.164025,
          "end_time": "2021-04-12T07:15:45.041016",
          "exception": false,
          "start_time": "2021-04-12T07:15:44.876991",
          "status": "completed"
        },
        "tags": [],
        "id": "charitable-ideal",
        "outputId": "4a8dcc53-775f-4f9d-8b5e-c3a36881a088"
      },
      "source": [
        "print(sorted(df.day_of_week.unique()))"
      ],
      "id": "charitable-ideal",
      "execution_count": null,
      "outputs": [
        {
          "output_type": "stream",
          "text": [
            "['fri', 'mon', 'thu', 'tue', 'wed']\n"
          ],
          "name": "stdout"
        }
      ]
    },
    {
      "cell_type": "code",
      "metadata": {
        "execution": {
          "iopub.execute_input": "2021-04-12T07:15:45.341444Z",
          "iopub.status.busy": "2021-04-12T07:15:45.340649Z",
          "iopub.status.idle": "2021-04-12T07:15:45.378137Z",
          "shell.execute_reply": "2021-04-12T07:15:45.378701Z"
        },
        "papermill": {
          "duration": 0.192757,
          "end_time": "2021-04-12T07:15:45.378944",
          "exception": false,
          "start_time": "2021-04-12T07:15:45.186187",
          "status": "completed"
        },
        "tags": [],
        "id": "burning-ability"
      },
      "source": [
        "df.day_of_week = df.day_of_week.replace(['fri', 'mon', 'thu', 'tue', 'wed'],[0,1,2,3,4])"
      ],
      "id": "burning-ability",
      "execution_count": null,
      "outputs": []
    },
    {
      "cell_type": "markdown",
      "metadata": {
        "papermill": {
          "duration": 0.145606,
          "end_time": "2021-04-12T07:15:45.664658",
          "exception": false,
          "start_time": "2021-04-12T07:15:45.519052",
          "status": "completed"
        },
        "tags": [],
        "id": "complete-operator"
      },
      "source": [
        "#### Poutcome:-"
      ],
      "id": "complete-operator"
    },
    {
      "cell_type": "code",
      "metadata": {
        "execution": {
          "iopub.execute_input": "2021-04-12T07:15:45.964871Z",
          "iopub.status.busy": "2021-04-12T07:15:45.963577Z",
          "iopub.status.idle": "2021-04-12T07:15:45.971532Z",
          "shell.execute_reply": "2021-04-12T07:15:45.970466Z"
        },
        "papermill": {
          "duration": 0.164706,
          "end_time": "2021-04-12T07:15:45.971814",
          "exception": false,
          "start_time": "2021-04-12T07:15:45.807108",
          "status": "completed"
        },
        "tags": [],
        "id": "forty-brunei",
        "outputId": "20bcab56-ff6a-43c1-b8a8-130b4e592c3e"
      },
      "source": [
        "print(sorted(df.poutcome.unique()))"
      ],
      "id": "forty-brunei",
      "execution_count": null,
      "outputs": [
        {
          "output_type": "stream",
          "text": [
            "['failure', 'nonexistent', 'success']\n"
          ],
          "name": "stdout"
        }
      ]
    },
    {
      "cell_type": "code",
      "metadata": {
        "execution": {
          "iopub.execute_input": "2021-04-12T07:15:46.269466Z",
          "iopub.status.busy": "2021-04-12T07:15:46.266976Z",
          "iopub.status.idle": "2021-04-12T07:15:46.300229Z",
          "shell.execute_reply": "2021-04-12T07:15:46.299599Z"
        },
        "papermill": {
          "duration": 0.183515,
          "end_time": "2021-04-12T07:15:46.300418",
          "exception": false,
          "start_time": "2021-04-12T07:15:46.116903",
          "status": "completed"
        },
        "tags": [],
        "id": "surrounded-armor"
      },
      "source": [
        "df.poutcome = df.poutcome.replace(['failure', 'nonexistent', 'success'],[0,1,2])"
      ],
      "id": "surrounded-armor",
      "execution_count": null,
      "outputs": []
    },
    {
      "cell_type": "markdown",
      "metadata": {
        "papermill": {
          "duration": 0.141145,
          "end_time": "2021-04-12T07:15:46.581318",
          "exception": false,
          "start_time": "2021-04-12T07:15:46.440173",
          "status": "completed"
        },
        "tags": [],
        "id": "opposite-academy"
      },
      "source": [
        "#### y - Output Variable or Dependent Variable:-"
      ],
      "id": "opposite-academy"
    },
    {
      "cell_type": "code",
      "metadata": {
        "execution": {
          "iopub.execute_input": "2021-04-12T07:15:46.881702Z",
          "iopub.status.busy": "2021-04-12T07:15:46.880184Z",
          "iopub.status.idle": "2021-04-12T07:15:46.887689Z",
          "shell.execute_reply": "2021-04-12T07:15:46.886804Z"
        },
        "papermill": {
          "duration": 0.165429,
          "end_time": "2021-04-12T07:15:46.887891",
          "exception": false,
          "start_time": "2021-04-12T07:15:46.722462",
          "status": "completed"
        },
        "tags": [],
        "id": "dangerous-worse",
        "outputId": "581a0b6f-b9e6-45bb-8677-b16c6d0c9bc6"
      },
      "source": [
        "df.y.unique()"
      ],
      "id": "dangerous-worse",
      "execution_count": null,
      "outputs": [
        {
          "output_type": "execute_result",
          "data": {
            "text/plain": [
              "array(['no', 'yes'], dtype=object)"
            ]
          },
          "metadata": {
            "tags": []
          },
          "execution_count": 52
        }
      ]
    },
    {
      "cell_type": "code",
      "metadata": {
        "execution": {
          "iopub.execute_input": "2021-04-12T07:15:47.195805Z",
          "iopub.status.busy": "2021-04-12T07:15:47.194999Z",
          "iopub.status.idle": "2021-04-12T07:15:47.221976Z",
          "shell.execute_reply": "2021-04-12T07:15:47.222649Z"
        },
        "papermill": {
          "duration": 0.183069,
          "end_time": "2021-04-12T07:15:47.222884",
          "exception": false,
          "start_time": "2021-04-12T07:15:47.039815",
          "status": "completed"
        },
        "tags": [],
        "id": "current-iceland"
      },
      "source": [
        "df.y = df.y.replace(['no', 'yes'],[0,1])"
      ],
      "id": "current-iceland",
      "execution_count": null,
      "outputs": []
    },
    {
      "cell_type": "code",
      "metadata": {
        "execution": {
          "iopub.execute_input": "2021-04-12T07:15:47.515856Z",
          "iopub.status.busy": "2021-04-12T07:15:47.515076Z",
          "iopub.status.idle": "2021-04-12T07:15:47.551021Z",
          "shell.execute_reply": "2021-04-12T07:15:47.551760Z"
        },
        "papermill": {
          "duration": 0.187057,
          "end_time": "2021-04-12T07:15:47.551985",
          "exception": false,
          "start_time": "2021-04-12T07:15:47.364928",
          "status": "completed"
        },
        "tags": [],
        "id": "corresponding-operator",
        "outputId": "a3073de7-abe9-4314-d220-420bc2a7fad3"
      },
      "source": [
        "df.sample(3)"
      ],
      "id": "corresponding-operator",
      "execution_count": null,
      "outputs": [
        {
          "output_type": "execute_result",
          "data": {
            "text/html": [
              "<div>\n",
              "<style scoped>\n",
              "    .dataframe tbody tr th:only-of-type {\n",
              "        vertical-align: middle;\n",
              "    }\n",
              "\n",
              "    .dataframe tbody tr th {\n",
              "        vertical-align: top;\n",
              "    }\n",
              "\n",
              "    .dataframe thead th {\n",
              "        text-align: right;\n",
              "    }\n",
              "</style>\n",
              "<table border=\"1\" class=\"dataframe\">\n",
              "  <thead>\n",
              "    <tr style=\"text-align: right;\">\n",
              "      <th></th>\n",
              "      <th>age</th>\n",
              "      <th>job</th>\n",
              "      <th>marital</th>\n",
              "      <th>education</th>\n",
              "      <th>default</th>\n",
              "      <th>housing</th>\n",
              "      <th>loan</th>\n",
              "      <th>contact</th>\n",
              "      <th>month</th>\n",
              "      <th>day_of_week</th>\n",
              "      <th>...</th>\n",
              "      <th>campaign</th>\n",
              "      <th>pdays</th>\n",
              "      <th>previous</th>\n",
              "      <th>poutcome</th>\n",
              "      <th>emp.var.rate</th>\n",
              "      <th>cons.price.idx</th>\n",
              "      <th>cons.conf.idx</th>\n",
              "      <th>euribor3m</th>\n",
              "      <th>nr.employed</th>\n",
              "      <th>y</th>\n",
              "    </tr>\n",
              "  </thead>\n",
              "  <tbody>\n",
              "    <tr>\n",
              "      <th>16624</th>\n",
              "      <td>2.427489</td>\n",
              "      <td>0</td>\n",
              "      <td>2</td>\n",
              "      <td>6</td>\n",
              "      <td>0</td>\n",
              "      <td>2</td>\n",
              "      <td>0</td>\n",
              "      <td>0</td>\n",
              "      <td>3</td>\n",
              "      <td>4</td>\n",
              "      <td>...</td>\n",
              "      <td>2</td>\n",
              "      <td>999</td>\n",
              "      <td>0</td>\n",
              "      <td>1</td>\n",
              "      <td>1.4</td>\n",
              "      <td>93.918</td>\n",
              "      <td>-42.7</td>\n",
              "      <td>4.963</td>\n",
              "      <td>5228.1</td>\n",
              "      <td>1</td>\n",
              "    </tr>\n",
              "    <tr>\n",
              "      <th>32151</th>\n",
              "      <td>2.545941</td>\n",
              "      <td>1</td>\n",
              "      <td>1</td>\n",
              "      <td>7</td>\n",
              "      <td>1</td>\n",
              "      <td>0</td>\n",
              "      <td>0</td>\n",
              "      <td>0</td>\n",
              "      <td>6</td>\n",
              "      <td>0</td>\n",
              "      <td>...</td>\n",
              "      <td>1</td>\n",
              "      <td>999</td>\n",
              "      <td>1</td>\n",
              "      <td>0</td>\n",
              "      <td>-1.8</td>\n",
              "      <td>92.893</td>\n",
              "      <td>-46.2</td>\n",
              "      <td>1.313</td>\n",
              "      <td>5099.1</td>\n",
              "      <td>0</td>\n",
              "    </tr>\n",
              "    <tr>\n",
              "      <th>37424</th>\n",
              "      <td>2.395410</td>\n",
              "      <td>1</td>\n",
              "      <td>2</td>\n",
              "      <td>3</td>\n",
              "      <td>0</td>\n",
              "      <td>2</td>\n",
              "      <td>0</td>\n",
              "      <td>0</td>\n",
              "      <td>1</td>\n",
              "      <td>4</td>\n",
              "      <td>...</td>\n",
              "      <td>1</td>\n",
              "      <td>999</td>\n",
              "      <td>0</td>\n",
              "      <td>1</td>\n",
              "      <td>-2.9</td>\n",
              "      <td>92.201</td>\n",
              "      <td>-31.4</td>\n",
              "      <td>0.879</td>\n",
              "      <td>5076.2</td>\n",
              "      <td>0</td>\n",
              "    </tr>\n",
              "  </tbody>\n",
              "</table>\n",
              "<p>3 rows × 21 columns</p>\n",
              "</div>"
            ],
            "text/plain": [
              "            age  job  marital  education  default  housing  loan  contact  \\\n",
              "16624  2.427489    0        2          6        0        2     0        0   \n",
              "32151  2.545941    1        1          7        1        0     0        0   \n",
              "37424  2.395410    1        2          3        0        2     0        0   \n",
              "\n",
              "       month  day_of_week  ...  campaign  pdays  previous  poutcome  \\\n",
              "16624      3            4  ...         2    999         0         1   \n",
              "32151      6            0  ...         1    999         1         0   \n",
              "37424      1            4  ...         1    999         0         1   \n",
              "\n",
              "       emp.var.rate  cons.price.idx  cons.conf.idx  euribor3m  nr.employed  y  \n",
              "16624           1.4          93.918          -42.7      4.963       5228.1  1  \n",
              "32151          -1.8          92.893          -46.2      1.313       5099.1  0  \n",
              "37424          -2.9          92.201          -31.4      0.879       5076.2  0  \n",
              "\n",
              "[3 rows x 21 columns]"
            ]
          },
          "metadata": {
            "tags": []
          },
          "execution_count": 54
        }
      ]
    },
    {
      "cell_type": "markdown",
      "metadata": {
        "papermill": {
          "duration": 0.144507,
          "end_time": "2021-04-12T07:15:47.839797",
          "exception": false,
          "start_time": "2021-04-12T07:15:47.695290",
          "status": "completed"
        },
        "tags": [],
        "id": "dietary-yukon"
      },
      "source": [
        "## To check class Imbalanced or not:-"
      ],
      "id": "dietary-yukon"
    },
    {
      "cell_type": "code",
      "metadata": {
        "execution": {
          "iopub.execute_input": "2021-04-12T07:15:48.150647Z",
          "iopub.status.busy": "2021-04-12T07:15:48.149734Z",
          "iopub.status.idle": "2021-04-12T07:15:48.160033Z",
          "shell.execute_reply": "2021-04-12T07:15:48.160667Z"
        },
        "papermill": {
          "duration": 0.168458,
          "end_time": "2021-04-12T07:15:48.160895",
          "exception": false,
          "start_time": "2021-04-12T07:15:47.992437",
          "status": "completed"
        },
        "tags": [],
        "id": "legislative-credits",
        "outputId": "36254a3f-f667-481d-a16f-b14dc0bee5b7"
      },
      "source": [
        "df.y.value_counts()"
      ],
      "id": "legislative-credits",
      "execution_count": null,
      "outputs": [
        {
          "output_type": "execute_result",
          "data": {
            "text/plain": [
              "0    36537\n",
              "1     4639\n",
              "Name: y, dtype: int64"
            ]
          },
          "metadata": {
            "tags": []
          },
          "execution_count": 55
        }
      ]
    },
    {
      "cell_type": "code",
      "metadata": {
        "execution": {
          "iopub.execute_input": "2021-04-12T07:15:48.463778Z",
          "iopub.status.busy": "2021-04-12T07:15:48.462909Z",
          "iopub.status.idle": "2021-04-12T07:15:48.613728Z",
          "shell.execute_reply": "2021-04-12T07:15:48.612996Z"
        },
        "papermill": {
          "duration": 0.298882,
          "end_time": "2021-04-12T07:15:48.613926",
          "exception": false,
          "start_time": "2021-04-12T07:15:48.315044",
          "status": "completed"
        },
        "tags": [],
        "id": "functioning-arizona",
        "outputId": "1f61df3e-e89c-4953-b9d4-60b10abef48f"
      },
      "source": [
        "sns.countplot(df.y)"
      ],
      "id": "functioning-arizona",
      "execution_count": null,
      "outputs": [
        {
          "output_type": "stream",
          "text": [
            "/opt/conda/lib/python3.7/site-packages/seaborn/_decorators.py:43: FutureWarning: Pass the following variable as a keyword arg: x. From version 0.12, the only valid positional argument will be `data`, and passing other arguments without an explicit keyword will result in an error or misinterpretation.\n",
            "  FutureWarning\n"
          ],
          "name": "stderr"
        },
        {
          "output_type": "execute_result",
          "data": {
            "text/plain": [
              "<AxesSubplot:xlabel='y', ylabel='count'>"
            ]
          },
          "metadata": {
            "tags": []
          },
          "execution_count": 56
        },
        {
          "output_type": "display_data",
          "data": {
            "image/png": "[encoded data removed]",
            "text/plain": [
              "<Figure size 432x288 with 1 Axes>"
            ]
          },
          "metadata": {
            "tags": [],
            "needs_background": "light"
          }
        }
      ]
    },
    {
      "cell_type": "markdown",
      "metadata": {
        "papermill": {
          "duration": 0.146937,
          "end_time": "2021-04-12T07:15:48.909808",
          "exception": false,
          "start_time": "2021-04-12T07:15:48.762871",
          "status": "completed"
        },
        "tags": [],
        "id": "suitable-excerpt"
      },
      "source": [
        "#### Note :- Dataset is highly imbalanced so we need to use below technique to overcome this problem after the Train Test Split\n",
        "#### SMOTE - SYNTHATIC MINORITY OF OVER SAMPLING TECHNIQUE"
      ],
      "id": "suitable-excerpt"
    },
    {
      "cell_type": "markdown",
      "metadata": {
        "papermill": {
          "duration": 0.143037,
          "end_time": "2021-04-12T07:15:49.199850",
          "exception": false,
          "start_time": "2021-04-12T07:15:49.056813",
          "status": "completed"
        },
        "tags": [],
        "id": "municipal-textbook"
      },
      "source": [
        "### To Identify Significant Variable:-"
      ],
      "id": "municipal-textbook"
    },
    {
      "cell_type": "markdown",
      "metadata": {
        "papermill": {
          "duration": 0.153025,
          "end_time": "2021-04-12T07:15:49.525940",
          "exception": false,
          "start_time": "2021-04-12T07:15:49.372915",
          "status": "completed"
        },
        "tags": [],
        "id": "tough-serum"
      },
      "source": [
        "#### Correlation Graph:- Check Multicolinearity\n",
        "*     Correlation between 2 input variables should be very low - Weak Correlation\n",
        "*     Correlation between input & output variables should be very high - Strong Correlation\n",
        "\n",
        "Note: We can straight away remove those input columns which is having more correlated."
      ],
      "id": "tough-serum"
    },
    {
      "cell_type": "code",
      "metadata": {
        "execution": {
          "iopub.execute_input": "2021-04-12T07:15:49.818965Z",
          "iopub.status.busy": "2021-04-12T07:15:49.818095Z",
          "iopub.status.idle": "2021-04-12T07:15:52.216188Z",
          "shell.execute_reply": "2021-04-12T07:15:52.216808Z"
        },
        "papermill": {
          "duration": 2.551058,
          "end_time": "2021-04-12T07:15:52.217034",
          "exception": false,
          "start_time": "2021-04-12T07:15:49.665976",
          "status": "completed"
        },
        "tags": [],
        "id": "durable-provision",
        "outputId": "46120358-45a5-4771-e00c-e729dc79863f"
      },
      "source": [
        "plt.figure(figsize=(14,12))\n",
        "sns.heatmap(df.corr(),\n",
        "            annot=True,\n",
        "            linewidth=.5,\n",
        "            center = 0,\n",
        "            cbar=False,\n",
        "            cmap='YlGnBu')\n",
        "plt.show()"
      ],
      "id": "durable-provision",
      "execution_count": null,
      "outputs": [
        {
          "output_type": "display_data",
          "data": {
            "image/png": "[encoded data removed]",
            "text/plain": [
              "<Figure size 1008x864 with 1 Axes>"
            ]
          },
          "metadata": {
            "tags": [],
            "needs_background": "light"
          }
        }
      ]
    },
    {
      "cell_type": "markdown",
      "metadata": {
        "papermill": {
          "duration": 0.152795,
          "end_time": "2021-04-12T07:15:52.524691",
          "exception": false,
          "start_time": "2021-04-12T07:15:52.371896",
          "status": "completed"
        },
        "tags": [],
        "id": "incredible-cable"
      },
      "source": [
        "#### Below columns are highly correlated with another input columns except y column, so dropping the same."
      ],
      "id": "incredible-cable"
    },
    {
      "cell_type": "code",
      "metadata": {
        "execution": {
          "iopub.execute_input": "2021-04-12T07:15:52.830272Z",
          "iopub.status.busy": "2021-04-12T07:15:52.828886Z",
          "iopub.status.idle": "2021-04-12T07:15:52.838907Z",
          "shell.execute_reply": "2021-04-12T07:15:52.839533Z"
        },
        "papermill": {
          "duration": 0.165878,
          "end_time": "2021-04-12T07:15:52.839794",
          "exception": false,
          "start_time": "2021-04-12T07:15:52.673916",
          "status": "completed"
        },
        "tags": [],
        "id": "dynamic-legislation"
      },
      "source": [
        "df = df.drop(['marital','contact','pdays','previous', 'emp.var.rate', 'cons.price.idx',\n",
        "       'cons.conf.idx', 'euribor3m', 'nr.employed','duration'],axis=1)"
      ],
      "id": "dynamic-legislation",
      "execution_count": null,
      "outputs": []
    },
    {
      "cell_type": "code",
      "metadata": {
        "execution": {
          "iopub.execute_input": "2021-04-12T07:15:53.156004Z",
          "iopub.status.busy": "2021-04-12T07:15:53.154440Z",
          "iopub.status.idle": "2021-04-12T07:15:53.175316Z",
          "shell.execute_reply": "2021-04-12T07:15:53.175839Z"
        },
        "papermill": {
          "duration": 0.182505,
          "end_time": "2021-04-12T07:15:53.176078",
          "exception": false,
          "start_time": "2021-04-12T07:15:52.993573",
          "status": "completed"
        },
        "tags": [],
        "id": "solid-princeton",
        "outputId": "a7e270cc-97cd-40ea-b127-c742abb57e64"
      },
      "source": [
        "df"
      ],
      "id": "solid-princeton",
      "execution_count": null,
      "outputs": [
        {
          "output_type": "execute_result",
          "data": {
            "text/html": [
              "<div>\n",
              "<style scoped>\n",
              "    .dataframe tbody tr th:only-of-type {\n",
              "        vertical-align: middle;\n",
              "    }\n",
              "\n",
              "    .dataframe tbody tr th {\n",
              "        vertical-align: top;\n",
              "    }\n",
              "\n",
              "    .dataframe thead th {\n",
              "        text-align: right;\n",
              "    }\n",
              "</style>\n",
              "<table border=\"1\" class=\"dataframe\">\n",
              "  <thead>\n",
              "    <tr style=\"text-align: right;\">\n",
              "      <th></th>\n",
              "      <th>age</th>\n",
              "      <th>job</th>\n",
              "      <th>education</th>\n",
              "      <th>default</th>\n",
              "      <th>housing</th>\n",
              "      <th>loan</th>\n",
              "      <th>month</th>\n",
              "      <th>day_of_week</th>\n",
              "      <th>campaign</th>\n",
              "      <th>poutcome</th>\n",
              "      <th>y</th>\n",
              "    </tr>\n",
              "  </thead>\n",
              "  <tbody>\n",
              "    <tr>\n",
              "      <th>0</th>\n",
              "      <td>2.692676</td>\n",
              "      <td>3</td>\n",
              "      <td>0</td>\n",
              "      <td>0</td>\n",
              "      <td>0</td>\n",
              "      <td>0</td>\n",
              "      <td>6</td>\n",
              "      <td>1</td>\n",
              "      <td>1</td>\n",
              "      <td>1</td>\n",
              "      <td>0</td>\n",
              "    </tr>\n",
              "    <tr>\n",
              "      <th>1</th>\n",
              "      <td>2.700105</td>\n",
              "      <td>7</td>\n",
              "      <td>3</td>\n",
              "      <td>1</td>\n",
              "      <td>0</td>\n",
              "      <td>0</td>\n",
              "      <td>6</td>\n",
              "      <td>1</td>\n",
              "      <td>1</td>\n",
              "      <td>1</td>\n",
              "      <td>0</td>\n",
              "    </tr>\n",
              "    <tr>\n",
              "      <th>2</th>\n",
              "      <td>2.510398</td>\n",
              "      <td>7</td>\n",
              "      <td>3</td>\n",
              "      <td>0</td>\n",
              "      <td>2</td>\n",
              "      <td>0</td>\n",
              "      <td>6</td>\n",
              "      <td>1</td>\n",
              "      <td>1</td>\n",
              "      <td>1</td>\n",
              "      <td>0</td>\n",
              "    </tr>\n",
              "    <tr>\n",
              "      <th>3</th>\n",
              "      <td>2.545941</td>\n",
              "      <td>0</td>\n",
              "      <td>1</td>\n",
              "      <td>0</td>\n",
              "      <td>0</td>\n",
              "      <td>0</td>\n",
              "      <td>6</td>\n",
              "      <td>1</td>\n",
              "      <td>1</td>\n",
              "      <td>1</td>\n",
              "      <td>0</td>\n",
              "    </tr>\n",
              "    <tr>\n",
              "      <th>4</th>\n",
              "      <td>2.692676</td>\n",
              "      <td>7</td>\n",
              "      <td>3</td>\n",
              "      <td>0</td>\n",
              "      <td>0</td>\n",
              "      <td>2</td>\n",
              "      <td>6</td>\n",
              "      <td>1</td>\n",
              "      <td>1</td>\n",
              "      <td>1</td>\n",
              "      <td>0</td>\n",
              "    </tr>\n",
              "    <tr>\n",
              "      <th>...</th>\n",
              "      <td>...</td>\n",
              "      <td>...</td>\n",
              "      <td>...</td>\n",
              "      <td>...</td>\n",
              "      <td>...</td>\n",
              "      <td>...</td>\n",
              "      <td>...</td>\n",
              "      <td>...</td>\n",
              "      <td>...</td>\n",
              "      <td>...</td>\n",
              "      <td>...</td>\n",
              "    </tr>\n",
              "    <tr>\n",
              "      <th>41171</th>\n",
              "      <td>2.801034</td>\n",
              "      <td>5</td>\n",
              "      <td>5</td>\n",
              "      <td>0</td>\n",
              "      <td>2</td>\n",
              "      <td>0</td>\n",
              "      <td>7</td>\n",
              "      <td>0</td>\n",
              "      <td>1</td>\n",
              "      <td>1</td>\n",
              "      <td>1</td>\n",
              "    </tr>\n",
              "    <tr>\n",
              "      <th>41172</th>\n",
              "      <td>2.608183</td>\n",
              "      <td>1</td>\n",
              "      <td>5</td>\n",
              "      <td>0</td>\n",
              "      <td>0</td>\n",
              "      <td>0</td>\n",
              "      <td>7</td>\n",
              "      <td>0</td>\n",
              "      <td>1</td>\n",
              "      <td>1</td>\n",
              "      <td>0</td>\n",
              "    </tr>\n",
              "    <tr>\n",
              "      <th>41173</th>\n",
              "      <td>2.692676</td>\n",
              "      <td>5</td>\n",
              "      <td>6</td>\n",
              "      <td>0</td>\n",
              "      <td>2</td>\n",
              "      <td>0</td>\n",
              "      <td>7</td>\n",
              "      <td>0</td>\n",
              "      <td>2</td>\n",
              "      <td>1</td>\n",
              "      <td>0</td>\n",
              "    </tr>\n",
              "    <tr>\n",
              "      <th>41174</th>\n",
              "      <td>2.588590</td>\n",
              "      <td>9</td>\n",
              "      <td>5</td>\n",
              "      <td>0</td>\n",
              "      <td>0</td>\n",
              "      <td>0</td>\n",
              "      <td>7</td>\n",
              "      <td>0</td>\n",
              "      <td>1</td>\n",
              "      <td>1</td>\n",
              "      <td>1</td>\n",
              "    </tr>\n",
              "    <tr>\n",
              "      <th>41175</th>\n",
              "      <td>2.806430</td>\n",
              "      <td>5</td>\n",
              "      <td>5</td>\n",
              "      <td>0</td>\n",
              "      <td>2</td>\n",
              "      <td>0</td>\n",
              "      <td>7</td>\n",
              "      <td>0</td>\n",
              "      <td>3</td>\n",
              "      <td>0</td>\n",
              "      <td>0</td>\n",
              "    </tr>\n",
              "  </tbody>\n",
              "</table>\n",
              "<p>41176 rows × 11 columns</p>\n",
              "</div>"
            ],
            "text/plain": [
              "            age  job  education  default  housing  loan  month  day_of_week  \\\n",
              "0      2.692676    3          0        0        0     0      6            1   \n",
              "1      2.700105    7          3        1        0     0      6            1   \n",
              "2      2.510398    7          3        0        2     0      6            1   \n",
              "3      2.545941    0          1        0        0     0      6            1   \n",
              "4      2.692676    7          3        0        0     2      6            1   \n",
              "...         ...  ...        ...      ...      ...   ...    ...          ...   \n",
              "41171  2.801034    5          5        0        2     0      7            0   \n",
              "41172  2.608183    1          5        0        0     0      7            0   \n",
              "41173  2.692676    5          6        0        2     0      7            0   \n",
              "41174  2.588590    9          5        0        0     0      7            0   \n",
              "41175  2.806430    5          5        0        2     0      7            0   \n",
              "\n",
              "       campaign  poutcome  y  \n",
              "0             1         1  0  \n",
              "1             1         1  0  \n",
              "2             1         1  0  \n",
              "3             1         1  0  \n",
              "4             1         1  0  \n",
              "...         ...       ... ..  \n",
              "41171         1         1  1  \n",
              "41172         1         1  0  \n",
              "41173         2         1  0  \n",
              "41174         1         1  1  \n",
              "41175         3         0  0  \n",
              "\n",
              "[41176 rows x 11 columns]"
            ]
          },
          "metadata": {
            "tags": []
          },
          "execution_count": 59
        }
      ]
    },
    {
      "cell_type": "markdown",
      "metadata": {
        "papermill": {
          "duration": 0.158305,
          "end_time": "2021-04-12T07:15:53.492002",
          "exception": false,
          "start_time": "2021-04-12T07:15:53.333697",
          "status": "completed"
        },
        "tags": [],
        "id": "inclusive-principle"
      },
      "source": [
        "#### Difine X & y variables:-"
      ],
      "id": "inclusive-principle"
    },
    {
      "cell_type": "code",
      "metadata": {
        "execution": {
          "iopub.execute_input": "2021-04-12T07:15:53.809061Z",
          "iopub.status.busy": "2021-04-12T07:15:53.807895Z",
          "iopub.status.idle": "2021-04-12T07:15:53.817092Z",
          "shell.execute_reply": "2021-04-12T07:15:53.817619Z"
        },
        "papermill": {
          "duration": 0.1676,
          "end_time": "2021-04-12T07:15:53.817856",
          "exception": false,
          "start_time": "2021-04-12T07:15:53.650256",
          "status": "completed"
        },
        "tags": [],
        "id": "visible-interest"
      },
      "source": [
        "X = df.loc[:,df.columns != 'y']\n",
        "y = df.loc[:,df.columns == 'y']"
      ],
      "id": "visible-interest",
      "execution_count": null,
      "outputs": []
    },
    {
      "cell_type": "code",
      "metadata": {
        "execution": {
          "iopub.execute_input": "2021-04-12T07:15:54.128277Z",
          "iopub.status.busy": "2021-04-12T07:15:54.127205Z",
          "iopub.status.idle": "2021-04-12T07:15:54.145839Z",
          "shell.execute_reply": "2021-04-12T07:15:54.146433Z"
        },
        "papermill": {
          "duration": 0.176962,
          "end_time": "2021-04-12T07:15:54.146679",
          "exception": false,
          "start_time": "2021-04-12T07:15:53.969717",
          "status": "completed"
        },
        "tags": [],
        "id": "talented-transaction",
        "outputId": "31f3482b-86ea-431e-a9e7-36800e986d2c"
      },
      "source": [
        "X"
      ],
      "id": "talented-transaction",
      "execution_count": null,
      "outputs": [
        {
          "output_type": "execute_result",
          "data": {
            "text/html": [
              "<div>\n",
              "<style scoped>\n",
              "    .dataframe tbody tr th:only-of-type {\n",
              "        vertical-align: middle;\n",
              "    }\n",
              "\n",
              "    .dataframe tbody tr th {\n",
              "        vertical-align: top;\n",
              "    }\n",
              "\n",
              "    .dataframe thead th {\n",
              "        text-align: right;\n",
              "    }\n",
              "</style>\n",
              "<table border=\"1\" class=\"dataframe\">\n",
              "  <thead>\n",
              "    <tr style=\"text-align: right;\">\n",
              "      <th></th>\n",
              "      <th>age</th>\n",
              "      <th>job</th>\n",
              "      <th>education</th>\n",
              "      <th>default</th>\n",
              "      <th>housing</th>\n",
              "      <th>loan</th>\n",
              "      <th>month</th>\n",
              "      <th>day_of_week</th>\n",
              "      <th>campaign</th>\n",
              "      <th>poutcome</th>\n",
              "    </tr>\n",
              "  </thead>\n",
              "  <tbody>\n",
              "    <tr>\n",
              "      <th>0</th>\n",
              "      <td>2.692676</td>\n",
              "      <td>3</td>\n",
              "      <td>0</td>\n",
              "      <td>0</td>\n",
              "      <td>0</td>\n",
              "      <td>0</td>\n",
              "      <td>6</td>\n",
              "      <td>1</td>\n",
              "      <td>1</td>\n",
              "      <td>1</td>\n",
              "    </tr>\n",
              "    <tr>\n",
              "      <th>1</th>\n",
              "      <td>2.700105</td>\n",
              "      <td>7</td>\n",
              "      <td>3</td>\n",
              "      <td>1</td>\n",
              "      <td>0</td>\n",
              "      <td>0</td>\n",
              "      <td>6</td>\n",
              "      <td>1</td>\n",
              "      <td>1</td>\n",
              "      <td>1</td>\n",
              "    </tr>\n",
              "    <tr>\n",
              "      <th>2</th>\n",
              "      <td>2.510398</td>\n",
              "      <td>7</td>\n",
              "      <td>3</td>\n",
              "      <td>0</td>\n",
              "      <td>2</td>\n",
              "      <td>0</td>\n",
              "      <td>6</td>\n",
              "      <td>1</td>\n",
              "      <td>1</td>\n",
              "      <td>1</td>\n",
              "    </tr>\n",
              "    <tr>\n",
              "      <th>3</th>\n",
              "      <td>2.545941</td>\n",
              "      <td>0</td>\n",
              "      <td>1</td>\n",
              "      <td>0</td>\n",
              "      <td>0</td>\n",
              "      <td>0</td>\n",
              "      <td>6</td>\n",
              "      <td>1</td>\n",
              "      <td>1</td>\n",
              "      <td>1</td>\n",
              "    </tr>\n",
              "    <tr>\n",
              "      <th>4</th>\n",
              "      <td>2.692676</td>\n",
              "      <td>7</td>\n",
              "      <td>3</td>\n",
              "      <td>0</td>\n",
              "      <td>0</td>\n",
              "      <td>2</td>\n",
              "      <td>6</td>\n",
              "      <td>1</td>\n",
              "      <td>1</td>\n",
              "      <td>1</td>\n",
              "    </tr>\n",
              "    <tr>\n",
              "      <th>...</th>\n",
              "      <td>...</td>\n",
              "      <td>...</td>\n",
              "      <td>...</td>\n",
              "      <td>...</td>\n",
              "      <td>...</td>\n",
              "      <td>...</td>\n",
              "      <td>...</td>\n",
              "      <td>...</td>\n",
              "      <td>...</td>\n",
              "      <td>...</td>\n",
              "    </tr>\n",
              "    <tr>\n",
              "      <th>41171</th>\n",
              "      <td>2.801034</td>\n",
              "      <td>5</td>\n",
              "      <td>5</td>\n",
              "      <td>0</td>\n",
              "      <td>2</td>\n",
              "      <td>0</td>\n",
              "      <td>7</td>\n",
              "      <td>0</td>\n",
              "      <td>1</td>\n",
              "      <td>1</td>\n",
              "    </tr>\n",
              "    <tr>\n",
              "      <th>41172</th>\n",
              "      <td>2.608183</td>\n",
              "      <td>1</td>\n",
              "      <td>5</td>\n",
              "      <td>0</td>\n",
              "      <td>0</td>\n",
              "      <td>0</td>\n",
              "      <td>7</td>\n",
              "      <td>0</td>\n",
              "      <td>1</td>\n",
              "      <td>1</td>\n",
              "    </tr>\n",
              "    <tr>\n",
              "      <th>41173</th>\n",
              "      <td>2.692676</td>\n",
              "      <td>5</td>\n",
              "      <td>6</td>\n",
              "      <td>0</td>\n",
              "      <td>2</td>\n",
              "      <td>0</td>\n",
              "      <td>7</td>\n",
              "      <td>0</td>\n",
              "      <td>2</td>\n",
              "      <td>1</td>\n",
              "    </tr>\n",
              "    <tr>\n",
              "      <th>41174</th>\n",
              "      <td>2.588590</td>\n",
              "      <td>9</td>\n",
              "      <td>5</td>\n",
              "      <td>0</td>\n",
              "      <td>0</td>\n",
              "      <td>0</td>\n",
              "      <td>7</td>\n",
              "      <td>0</td>\n",
              "      <td>1</td>\n",
              "      <td>1</td>\n",
              "    </tr>\n",
              "    <tr>\n",
              "      <th>41175</th>\n",
              "      <td>2.806430</td>\n",
              "      <td>5</td>\n",
              "      <td>5</td>\n",
              "      <td>0</td>\n",
              "      <td>2</td>\n",
              "      <td>0</td>\n",
              "      <td>7</td>\n",
              "      <td>0</td>\n",
              "      <td>3</td>\n",
              "      <td>0</td>\n",
              "    </tr>\n",
              "  </tbody>\n",
              "</table>\n",
              "<p>41176 rows × 10 columns</p>\n",
              "</div>"
            ],
            "text/plain": [
              "            age  job  education  default  housing  loan  month  day_of_week  \\\n",
              "0      2.692676    3          0        0        0     0      6            1   \n",
              "1      2.700105    7          3        1        0     0      6            1   \n",
              "2      2.510398    7          3        0        2     0      6            1   \n",
              "3      2.545941    0          1        0        0     0      6            1   \n",
              "4      2.692676    7          3        0        0     2      6            1   \n",
              "...         ...  ...        ...      ...      ...   ...    ...          ...   \n",
              "41171  2.801034    5          5        0        2     0      7            0   \n",
              "41172  2.608183    1          5        0        0     0      7            0   \n",
              "41173  2.692676    5          6        0        2     0      7            0   \n",
              "41174  2.588590    9          5        0        0     0      7            0   \n",
              "41175  2.806430    5          5        0        2     0      7            0   \n",
              "\n",
              "       campaign  poutcome  \n",
              "0             1         1  \n",
              "1             1         1  \n",
              "2             1         1  \n",
              "3             1         1  \n",
              "4             1         1  \n",
              "...         ...       ...  \n",
              "41171         1         1  \n",
              "41172         1         1  \n",
              "41173         2         1  \n",
              "41174         1         1  \n",
              "41175         3         0  \n",
              "\n",
              "[41176 rows x 10 columns]"
            ]
          },
          "metadata": {
            "tags": []
          },
          "execution_count": 61
        }
      ]
    },
    {
      "cell_type": "code",
      "metadata": {
        "execution": {
          "iopub.execute_input": "2021-04-12T07:15:54.465354Z",
          "iopub.status.busy": "2021-04-12T07:15:54.464332Z",
          "iopub.status.idle": "2021-04-12T07:15:54.470492Z",
          "shell.execute_reply": "2021-04-12T07:15:54.469830Z"
        },
        "papermill": {
          "duration": 0.169626,
          "end_time": "2021-04-12T07:15:54.470696",
          "exception": false,
          "start_time": "2021-04-12T07:15:54.301070",
          "status": "completed"
        },
        "tags": [],
        "id": "opponent-count",
        "outputId": "ca16c64f-9e7c-4d75-9484-b893af342219"
      },
      "source": [
        "y"
      ],
      "id": "opponent-count",
      "execution_count": null,
      "outputs": [
        {
          "output_type": "execute_result",
          "data": {
            "text/html": [
              "<div>\n",
              "<style scoped>\n",
              "    .dataframe tbody tr th:only-of-type {\n",
              "        vertical-align: middle;\n",
              "    }\n",
              "\n",
              "    .dataframe tbody tr th {\n",
              "        vertical-align: top;\n",
              "    }\n",
              "\n",
              "    .dataframe thead th {\n",
              "        text-align: right;\n",
              "    }\n",
              "</style>\n",
              "<table border=\"1\" class=\"dataframe\">\n",
              "  <thead>\n",
              "    <tr style=\"text-align: right;\">\n",
              "      <th></th>\n",
              "      <th>y</th>\n",
              "    </tr>\n",
              "  </thead>\n",
              "  <tbody>\n",
              "    <tr>\n",
              "      <th>0</th>\n",
              "      <td>0</td>\n",
              "    </tr>\n",
              "    <tr>\n",
              "      <th>1</th>\n",
              "      <td>0</td>\n",
              "    </tr>\n",
              "    <tr>\n",
              "      <th>2</th>\n",
              "      <td>0</td>\n",
              "    </tr>\n",
              "    <tr>\n",
              "      <th>3</th>\n",
              "      <td>0</td>\n",
              "    </tr>\n",
              "    <tr>\n",
              "      <th>4</th>\n",
              "      <td>0</td>\n",
              "    </tr>\n",
              "    <tr>\n",
              "      <th>...</th>\n",
              "      <td>...</td>\n",
              "    </tr>\n",
              "    <tr>\n",
              "      <th>41171</th>\n",
              "      <td>1</td>\n",
              "    </tr>\n",
              "    <tr>\n",
              "      <th>41172</th>\n",
              "      <td>0</td>\n",
              "    </tr>\n",
              "    <tr>\n",
              "      <th>41173</th>\n",
              "      <td>0</td>\n",
              "    </tr>\n",
              "    <tr>\n",
              "      <th>41174</th>\n",
              "      <td>1</td>\n",
              "    </tr>\n",
              "    <tr>\n",
              "      <th>41175</th>\n",
              "      <td>0</td>\n",
              "    </tr>\n",
              "  </tbody>\n",
              "</table>\n",
              "<p>41176 rows × 1 columns</p>\n",
              "</div>"
            ],
            "text/plain": [
              "       y\n",
              "0      0\n",
              "1      0\n",
              "2      0\n",
              "3      0\n",
              "4      0\n",
              "...   ..\n",
              "41171  1\n",
              "41172  0\n",
              "41173  0\n",
              "41174  1\n",
              "41175  0\n",
              "\n",
              "[41176 rows x 1 columns]"
            ]
          },
          "metadata": {
            "tags": []
          },
          "execution_count": 62
        }
      ]
    },
    {
      "cell_type": "markdown",
      "metadata": {
        "papermill": {
          "duration": 0.15061,
          "end_time": "2021-04-12T07:15:54.772964",
          "exception": false,
          "start_time": "2021-04-12T07:15:54.622354",
          "status": "completed"
        },
        "tags": [],
        "id": "respiratory-proof"
      },
      "source": [
        "### OLS Method (Oridinary Least Square) - To Identify Significant Variable\n",
        "### p-value <= 0.05"
      ],
      "id": "respiratory-proof"
    },
    {
      "cell_type": "code",
      "metadata": {
        "execution": {
          "iopub.execute_input": "2021-04-12T07:15:55.084331Z",
          "iopub.status.busy": "2021-04-12T07:15:55.083496Z",
          "iopub.status.idle": "2021-04-12T07:15:55.228554Z",
          "shell.execute_reply": "2021-04-12T07:15:55.229589Z"
        },
        "papermill": {
          "duration": 0.306248,
          "end_time": "2021-04-12T07:15:55.229963",
          "exception": false,
          "start_time": "2021-04-12T07:15:54.923715",
          "status": "completed"
        },
        "tags": [],
        "id": "pharmaceutical-behalf",
        "outputId": "b7a8cffb-10d2-4403-f096-8fe34197365a"
      },
      "source": [
        "import statsmodels.api as sm\n",
        "\n",
        "ols = sm.OLS(y,X).fit()\n",
        "\n",
        "print(ols.summary2())"
      ],
      "id": "pharmaceutical-behalf",
      "execution_count": null,
      "outputs": [
        {
          "output_type": "stream",
          "text": [
            "                        Results: Ordinary least squares\n",
            "================================================================================\n",
            "Model:                  OLS              Adj. R-squared (uncentered): 0.142     \n",
            "Dependent Variable:     y                AIC:                         20632.1918\n",
            "Date:                   2021-04-12 07:15 BIC:                         20718.4479\n",
            "No. Observations:       41176            Log-Likelihood:              -10306.   \n",
            "Df Model:               10               F-statistic:                 685.1     \n",
            "Df Residuals:           41166            Prob (F-statistic):          0.00      \n",
            "R-squared (uncentered): 0.143            Scale:                       0.096613  \n",
            "------------------------------------------------------------------------------------\n",
            "                 Coef.      Std.Err.        t         P>|t|       [0.025      0.975]\n",
            "------------------------------------------------------------------------------------\n",
            "age              0.0043       0.0027       1.5812     0.1138     -0.0010      0.0096\n",
            "job              0.0013       0.0004       3.0872     0.0020      0.0005      0.0022\n",
            "education        0.0052       0.0007       7.0671     0.0000      0.0037      0.0066\n",
            "default         -0.0729       0.0039     -18.8649     0.0000     -0.0804     -0.0653\n",
            "housing          0.0031       0.0016       1.9966     0.0459      0.0001      0.0062\n",
            "loan            -0.0024       0.0021      -1.1254     0.2604     -0.0065      0.0018\n",
            "month           -0.0002       0.0007      -0.2384     0.8116     -0.0015      0.0011\n",
            "day_of_week      0.0022       0.0011       2.0116     0.0443      0.0001      0.0043\n",
            "campaign        -0.0077       0.0006     -13.9381     0.0000     -0.0088     -0.0066\n",
            "poutcome         0.1146       0.0042      27.1940     0.0000      0.1063      0.1228\n",
            "--------------------------------------------------------------------------------\n",
            "Omnibus:                 18169.138          Durbin-Watson:             1.581    \n",
            "Prob(Omnibus):           0.000              Jarque-Bera (JB):          63466.259\n",
            "Skew:                    2.355              Prob(JB):                  0.000    \n",
            "Kurtosis:                6.847              Condition No.:             25       \n",
            "================================================================================\n",
            "\n"
          ],
          "name": "stdout"
        }
      ]
    },
    {
      "cell_type": "markdown",
      "metadata": {
        "papermill": {
          "duration": 0.153905,
          "end_time": "2021-04-12T07:15:55.564192",
          "exception": false,
          "start_time": "2021-04-12T07:15:55.410287",
          "status": "completed"
        },
        "tags": [],
        "id": "assumed-twelve"
      },
      "source": [
        "#### Note : P-value should be less than or equal to 0.05\n",
        "#### From the above result, we are removing the age , loan, month coulumns,because of its P-value > 0.05"
      ],
      "id": "assumed-twelve"
    },
    {
      "cell_type": "code",
      "metadata": {
        "execution": {
          "iopub.execute_input": "2021-04-12T07:15:55.882844Z",
          "iopub.status.busy": "2021-04-12T07:15:55.882030Z",
          "iopub.status.idle": "2021-04-12T07:15:55.884278Z",
          "shell.execute_reply": "2021-04-12T07:15:55.884811Z"
        },
        "papermill": {
          "duration": 0.164423,
          "end_time": "2021-04-12T07:15:55.885172",
          "exception": false,
          "start_time": "2021-04-12T07:15:55.720749",
          "status": "completed"
        },
        "tags": [],
        "id": "opponent-arabic"
      },
      "source": [
        "df = df.drop(['age','loan','month'],axis =1)"
      ],
      "id": "opponent-arabic",
      "execution_count": null,
      "outputs": []
    },
    {
      "cell_type": "code",
      "metadata": {
        "execution": {
          "iopub.execute_input": "2021-04-12T07:15:56.198494Z",
          "iopub.status.busy": "2021-04-12T07:15:56.197645Z",
          "iopub.status.idle": "2021-04-12T07:15:56.205912Z",
          "shell.execute_reply": "2021-04-12T07:15:56.206445Z"
        },
        "papermill": {
          "duration": 0.168546,
          "end_time": "2021-04-12T07:15:56.206728",
          "exception": false,
          "start_time": "2021-04-12T07:15:56.038182",
          "status": "completed"
        },
        "tags": [],
        "id": "proprietary-basketball"
      },
      "source": [
        "X = df.loc[:,df.columns != 'y']\n",
        "y = df.loc[:,df.columns == 'y']"
      ],
      "id": "proprietary-basketball",
      "execution_count": null,
      "outputs": []
    },
    {
      "cell_type": "markdown",
      "metadata": {
        "papermill": {
          "duration": 0.151466,
          "end_time": "2021-04-12T07:15:56.512037",
          "exception": false,
          "start_time": "2021-04-12T07:15:56.360571",
          "status": "completed"
        },
        "tags": [],
        "id": "aerial-recording"
      },
      "source": [
        "## To check class Imbalanced or not."
      ],
      "id": "aerial-recording"
    },
    {
      "cell_type": "code",
      "metadata": {
        "execution": {
          "iopub.execute_input": "2021-04-12T07:15:56.889877Z",
          "iopub.status.busy": "2021-04-12T07:15:56.888847Z",
          "iopub.status.idle": "2021-04-12T07:15:56.907000Z",
          "shell.execute_reply": "2021-04-12T07:15:56.907801Z"
        },
        "papermill": {
          "duration": 0.24271,
          "end_time": "2021-04-12T07:15:56.908029",
          "exception": false,
          "start_time": "2021-04-12T07:15:56.665319",
          "status": "completed"
        },
        "tags": [],
        "id": "apart-tobacco",
        "outputId": "52ee636d-bfee-4bf1-8c84-7034bb4a90e2"
      },
      "source": [
        "from sklearn.model_selection import train_test_split\n",
        "\n",
        "X_train, X_test, y_train, y_test = train_test_split(X, y, test_size=0.30, random_state=0)\n",
        "\n",
        "print(X_train.shape)\n",
        "print(y_train.shape)\n",
        "print(X_test.shape)\n",
        "print(y_test.shape)"
      ],
      "id": "apart-tobacco",
      "execution_count": null,
      "outputs": [
        {
          "output_type": "stream",
          "text": [
            "(28823, 7)\n",
            "(28823, 1)\n",
            "(12353, 7)\n",
            "(12353, 1)\n"
          ],
          "name": "stdout"
        }
      ]
    },
    {
      "cell_type": "code",
      "metadata": {
        "execution": {
          "iopub.execute_input": "2021-04-12T07:15:57.221890Z",
          "iopub.status.busy": "2021-04-12T07:15:57.220569Z",
          "iopub.status.idle": "2021-04-12T07:15:57.232067Z",
          "shell.execute_reply": "2021-04-12T07:15:57.232898Z"
        },
        "papermill": {
          "duration": 0.17094,
          "end_time": "2021-04-12T07:15:57.233137",
          "exception": false,
          "start_time": "2021-04-12T07:15:57.062197",
          "status": "completed"
        },
        "tags": [],
        "id": "invisible-elevation",
        "outputId": "4f6a719f-7c29-4398-ec9e-397a857bfc95"
      },
      "source": [
        "y_train.value_counts()"
      ],
      "id": "invisible-elevation",
      "execution_count": null,
      "outputs": [
        {
          "output_type": "execute_result",
          "data": {
            "text/plain": [
              "y\n",
              "0    25618\n",
              "1     3205\n",
              "dtype: int64"
            ]
          },
          "metadata": {
            "tags": []
          },
          "execution_count": 67
        }
      ]
    },
    {
      "cell_type": "markdown",
      "metadata": {
        "papermill": {
          "duration": 0.15342,
          "end_time": "2021-04-12T07:15:57.540478",
          "exception": false,
          "start_time": "2021-04-12T07:15:57.387058",
          "status": "completed"
        },
        "tags": [],
        "id": "wicked-recognition"
      },
      "source": [
        "#### Data is highly imbalanced, So apply SMOTE on your trining datset.\n",
        "#### Note:- Dont apply SMOTE on testing data because its our original dataset which needs to be predicted\n",
        "#### Over Sampling the Minority Class - by SMOTE (Synthetic Minority Over Sampling Technique)"
      ],
      "id": "wicked-recognition"
    },
    {
      "cell_type": "code",
      "metadata": {
        "execution": {
          "iopub.execute_input": "2021-04-12T07:15:57.853688Z",
          "iopub.status.busy": "2021-04-12T07:15:57.852886Z",
          "iopub.status.idle": "2021-04-12T07:15:57.932381Z",
          "shell.execute_reply": "2021-04-12T07:15:57.931571Z"
        },
        "papermill": {
          "duration": 0.237259,
          "end_time": "2021-04-12T07:15:57.932593",
          "exception": false,
          "start_time": "2021-04-12T07:15:57.695334",
          "status": "completed"
        },
        "tags": [],
        "id": "animal-joshua"
      },
      "source": [
        "from imblearn.over_sampling import SMOTE\n",
        "\n",
        "os = SMOTE(random_state = 2)\n",
        "\n",
        "os_X, os_y = os.fit_resample(X_train,y_train)"
      ],
      "id": "animal-joshua",
      "execution_count": null,
      "outputs": []
    },
    {
      "cell_type": "code",
      "metadata": {
        "execution": {
          "iopub.execute_input": "2021-04-12T07:15:58.249941Z",
          "iopub.status.busy": "2021-04-12T07:15:58.248723Z",
          "iopub.status.idle": "2021-04-12T07:15:58.260542Z",
          "shell.execute_reply": "2021-04-12T07:15:58.259852Z"
        },
        "papermill": {
          "duration": 0.172723,
          "end_time": "2021-04-12T07:15:58.260726",
          "exception": false,
          "start_time": "2021-04-12T07:15:58.088003",
          "status": "completed"
        },
        "tags": [],
        "id": "joined-tenant",
        "outputId": "03444d5c-b201-4ee2-90c4-c0ba56147bab"
      },
      "source": [
        "os_y.value_counts()"
      ],
      "id": "joined-tenant",
      "execution_count": null,
      "outputs": [
        {
          "output_type": "execute_result",
          "data": {
            "text/plain": [
              "y\n",
              "0    25618\n",
              "1    25618\n",
              "dtype: int64"
            ]
          },
          "metadata": {
            "tags": []
          },
          "execution_count": 69
        }
      ]
    },
    {
      "cell_type": "markdown",
      "metadata": {
        "papermill": {
          "duration": 0.153981,
          "end_time": "2021-04-12T07:15:58.569830",
          "exception": false,
          "start_time": "2021-04-12T07:15:58.415849",
          "status": "completed"
        },
        "tags": [],
        "id": "reasonable-application"
      },
      "source": [
        "#### Now both the classes are balanced equally :)"
      ],
      "id": "reasonable-application"
    },
    {
      "cell_type": "markdown",
      "metadata": {
        "papermill": {
          "duration": 0.153303,
          "end_time": "2021-04-12T07:15:58.876557",
          "exception": false,
          "start_time": "2021-04-12T07:15:58.723254",
          "status": "completed"
        },
        "tags": [],
        "id": "noble-detail"
      },
      "source": [
        "### Algorithms Used:-\n",
        "*     Logistic Regression\n",
        "*     Decision Tree\n",
        "*     Random Forest\n",
        "*     KNN\n",
        "    "
      ],
      "id": "noble-detail"
    },
    {
      "cell_type": "markdown",
      "metadata": {
        "papermill": {
          "duration": 0.153751,
          "end_time": "2021-04-12T07:15:59.184761",
          "exception": false,
          "start_time": "2021-04-12T07:15:59.031010",
          "status": "completed"
        },
        "tags": [],
        "id": "amazing-whole"
      },
      "source": [
        "## Model 1 :- Logistic Regression"
      ],
      "id": "amazing-whole"
    },
    {
      "cell_type": "markdown",
      "metadata": {
        "papermill": {
          "duration": 0.152795,
          "end_time": "2021-04-12T07:15:59.492594",
          "exception": false,
          "start_time": "2021-04-12T07:15:59.339799",
          "status": "completed"
        },
        "tags": [],
        "id": "junior-pointer"
      },
      "source": [
        "#### 1.1 Logistic Regression"
      ],
      "id": "junior-pointer"
    },
    {
      "cell_type": "code",
      "metadata": {
        "execution": {
          "iopub.execute_input": "2021-04-12T07:15:59.802417Z",
          "iopub.status.busy": "2021-04-12T07:15:59.801495Z",
          "iopub.status.idle": "2021-04-12T07:15:59.806629Z",
          "shell.execute_reply": "2021-04-12T07:15:59.807213Z"
        },
        "papermill": {
          "duration": 0.160637,
          "end_time": "2021-04-12T07:15:59.807424",
          "exception": false,
          "start_time": "2021-04-12T07:15:59.646787",
          "status": "completed"
        },
        "tags": [],
        "id": "monetary-vintage"
      },
      "source": [
        "from sklearn.linear_model import LogisticRegression"
      ],
      "id": "monetary-vintage",
      "execution_count": null,
      "outputs": []
    },
    {
      "cell_type": "code",
      "metadata": {
        "execution": {
          "iopub.execute_input": "2021-04-12T07:16:00.131020Z",
          "iopub.status.busy": "2021-04-12T07:16:00.130198Z",
          "iopub.status.idle": "2021-04-12T07:16:00.605983Z",
          "shell.execute_reply": "2021-04-12T07:16:00.607717Z"
        },
        "papermill": {
          "duration": 0.644261,
          "end_time": "2021-04-12T07:16:00.608072",
          "exception": false,
          "start_time": "2021-04-12T07:15:59.963811",
          "status": "completed"
        },
        "tags": [],
        "id": "secondary-vermont",
        "outputId": "cd9ca6ff-c0db-4154-ca43-e178366cc5ec"
      },
      "source": [
        "LR = LogisticRegression()\n",
        "\n",
        "# Train Your Model\n",
        "LR.fit(os_X,os_y)\n",
        "\n",
        "# Predict the model\n",
        "LR_predicted_y = LR.predict(X_test)"
      ],
      "id": "secondary-vermont",
      "execution_count": null,
      "outputs": [
        {
          "output_type": "stream",
          "text": [
            "/opt/conda/lib/python3.7/site-packages/sklearn/utils/validation.py:63: DataConversionWarning: A column-vector y was passed when a 1d array was expected. Please change the shape of y to (n_samples, ), for example using ravel().\n",
            "  return f(*args, **kwargs)\n"
          ],
          "name": "stderr"
        }
      ]
    },
    {
      "cell_type": "code",
      "metadata": {
        "execution": {
          "iopub.execute_input": "2021-04-12T07:16:00.983003Z",
          "iopub.status.busy": "2021-04-12T07:16:00.981893Z",
          "iopub.status.idle": "2021-04-12T07:16:00.985501Z",
          "shell.execute_reply": "2021-04-12T07:16:00.984811Z"
        },
        "papermill": {
          "duration": 0.168113,
          "end_time": "2021-04-12T07:16:00.985710",
          "exception": false,
          "start_time": "2021-04-12T07:16:00.817597",
          "status": "completed"
        },
        "tags": [],
        "id": "cardiovascular-genre"
      },
      "source": [
        "from sklearn.metrics import accuracy_score,confusion_matrix,classification_report"
      ],
      "id": "cardiovascular-genre",
      "execution_count": null,
      "outputs": []
    },
    {
      "cell_type": "code",
      "metadata": {
        "execution": {
          "iopub.execute_input": "2021-04-12T07:16:01.314494Z",
          "iopub.status.busy": "2021-04-12T07:16:01.313197Z",
          "iopub.status.idle": "2021-04-12T07:16:01.343387Z",
          "shell.execute_reply": "2021-04-12T07:16:01.342710Z"
        },
        "papermill": {
          "duration": 0.197497,
          "end_time": "2021-04-12T07:16:01.343592",
          "exception": false,
          "start_time": "2021-04-12T07:16:01.146095",
          "status": "completed"
        },
        "tags": [],
        "id": "congressional-fairy",
        "outputId": "72ea00a3-f480-4e45-d640-64e2eaef3b02"
      },
      "source": [
        "# Confusion Matrix\n",
        "LR_CM = confusion_matrix(y_test,LR_predicted_y)\n",
        "print(LR_CM)\n",
        "\n",
        "# Accuracy Score\n",
        "Accuracy = round(accuracy_score(y_test,LR_predicted_y)*100,2)\n",
        "print('LR_Accuracy is ', Accuracy)"
      ],
      "id": "congressional-fairy",
      "execution_count": null,
      "outputs": [
        {
          "output_type": "stream",
          "text": [
            "[[4690 6229]\n",
            " [ 404 1030]]\n",
            "LR_Accuracy is  46.3\n"
          ],
          "name": "stdout"
        }
      ]
    },
    {
      "cell_type": "code",
      "metadata": {
        "execution": {
          "iopub.execute_input": "2021-04-12T07:16:01.666681Z",
          "iopub.status.busy": "2021-04-12T07:16:01.665435Z",
          "iopub.status.idle": "2021-04-12T07:16:01.698032Z",
          "shell.execute_reply": "2021-04-12T07:16:01.697220Z"
        },
        "papermill": {
          "duration": 0.196586,
          "end_time": "2021-04-12T07:16:01.698207",
          "exception": false,
          "start_time": "2021-04-12T07:16:01.501621",
          "status": "completed"
        },
        "tags": [],
        "id": "broadband-supply",
        "outputId": "9e45a6e3-8862-4ac1-c297-c9c19f6e07f3"
      },
      "source": [
        "# Classification Report\n",
        "print(classification_report(y_test,LR_predicted_y))"
      ],
      "id": "broadband-supply",
      "execution_count": null,
      "outputs": [
        {
          "output_type": "stream",
          "text": [
            "              precision    recall  f1-score   support\n",
            "\n",
            "           0       0.92      0.43      0.59     10919\n",
            "           1       0.14      0.72      0.24      1434\n",
            "\n",
            "    accuracy                           0.46     12353\n",
            "   macro avg       0.53      0.57      0.41     12353\n",
            "weighted avg       0.83      0.46      0.55     12353\n",
            "\n"
          ],
          "name": "stdout"
        }
      ]
    },
    {
      "cell_type": "markdown",
      "metadata": {
        "papermill": {
          "duration": 0.164632,
          "end_time": "2021-04-12T07:16:02.019412",
          "exception": false,
          "start_time": "2021-04-12T07:16:01.854780",
          "status": "completed"
        },
        "tags": [],
        "id": "martial-match"
      },
      "source": [
        "#### 1.2 LR - Bagging Classifier"
      ],
      "id": "martial-match"
    },
    {
      "cell_type": "code",
      "metadata": {
        "execution": {
          "iopub.execute_input": "2021-04-12T07:16:02.339193Z",
          "iopub.status.busy": "2021-04-12T07:16:02.338475Z",
          "iopub.status.idle": "2021-04-12T07:16:02.342629Z",
          "shell.execute_reply": "2021-04-12T07:16:02.341722Z"
        },
        "papermill": {
          "duration": 0.166617,
          "end_time": "2021-04-12T07:16:02.342833",
          "exception": false,
          "start_time": "2021-04-12T07:16:02.176216",
          "status": "completed"
        },
        "tags": [],
        "id": "gross-lesbian"
      },
      "source": [
        "from sklearn.ensemble import BaggingClassifier,AdaBoostClassifier,GradientBoostingClassifier,RandomForestClassifier"
      ],
      "id": "gross-lesbian",
      "execution_count": null,
      "outputs": []
    },
    {
      "cell_type": "code",
      "metadata": {
        "execution": {
          "iopub.execute_input": "2021-04-12T07:16:02.668690Z",
          "iopub.status.busy": "2021-04-12T07:16:02.667326Z",
          "iopub.status.idle": "2021-04-12T07:16:06.317394Z",
          "shell.execute_reply": "2021-04-12T07:16:06.318051Z"
        },
        "papermill": {
          "duration": 3.818377,
          "end_time": "2021-04-12T07:16:06.318276",
          "exception": false,
          "start_time": "2021-04-12T07:16:02.499899",
          "status": "completed"
        },
        "tags": [],
        "id": "liable-italy",
        "outputId": "59b5c84f-b542-4d35-cd14-62e6c194f017"
      },
      "source": [
        "# Bagging Classifier Technique\n",
        "LR_Bagged = BaggingClassifier(base_estimator=LR,random_state=0)\n",
        "\n",
        "# Train your model\n",
        "LR_Bagged.fit(os_X,os_y)\n",
        "\n",
        "# Predict the model\n",
        "LR_Bagged_predicted_y = LR_Bagged.predict(X_test)"
      ],
      "id": "liable-italy",
      "execution_count": null,
      "outputs": [
        {
          "output_type": "stream",
          "text": [
            "/opt/conda/lib/python3.7/site-packages/sklearn/utils/validation.py:63: DataConversionWarning: A column-vector y was passed when a 1d array was expected. Please change the shape of y to (n_samples, ), for example using ravel().\n",
            "  return f(*args, **kwargs)\n"
          ],
          "name": "stderr"
        }
      ]
    },
    {
      "cell_type": "code",
      "metadata": {
        "execution": {
          "iopub.execute_input": "2021-04-12T07:16:06.692088Z",
          "iopub.status.busy": "2021-04-12T07:16:06.690870Z",
          "iopub.status.idle": "2021-04-12T07:16:06.746015Z",
          "shell.execute_reply": "2021-04-12T07:16:06.746548Z"
        },
        "papermill": {
          "duration": 0.219754,
          "end_time": "2021-04-12T07:16:06.746887",
          "exception": false,
          "start_time": "2021-04-12T07:16:06.527133",
          "status": "completed"
        },
        "tags": [],
        "id": "downtown-grammar",
        "outputId": "6a96a708-fe61-43e2-9684-c3c33e69f45a"
      },
      "source": [
        "# Confusion Matrix\n",
        "LR_Bagged_CM = confusion_matrix(y_test,LR_Bagged_predicted_y)\n",
        "print(LR_Bagged_CM)\n",
        "\n",
        "# Accuracy Score\n",
        "LR_Bagged_Accuracy = round(accuracy_score(y_test,LR_Bagged_predicted_y)*100,2)\n",
        "print('LR_Bagged_Accuracy is ', LR_Bagged_Accuracy)\n",
        "\n",
        "# Classification Report\n",
        "print(classification_report(y_test,LR_Bagged_predicted_y))"
      ],
      "id": "downtown-grammar",
      "execution_count": null,
      "outputs": [
        {
          "output_type": "stream",
          "text": [
            "[[4647 6272]\n",
            " [ 396 1038]]\n",
            "LR_Bagged_Accuracy is  46.02\n",
            "              precision    recall  f1-score   support\n",
            "\n",
            "           0       0.92      0.43      0.58     10919\n",
            "           1       0.14      0.72      0.24      1434\n",
            "\n",
            "    accuracy                           0.46     12353\n",
            "   macro avg       0.53      0.57      0.41     12353\n",
            "weighted avg       0.83      0.46      0.54     12353\n",
            "\n"
          ],
          "name": "stdout"
        }
      ]
    },
    {
      "cell_type": "markdown",
      "metadata": {
        "papermill": {
          "duration": 0.15727,
          "end_time": "2021-04-12T07:16:07.061548",
          "exception": false,
          "start_time": "2021-04-12T07:16:06.904278",
          "status": "completed"
        },
        "tags": [],
        "id": "retained-gothic"
      },
      "source": [
        "#### 1.3 LR - Boosting Classifier"
      ],
      "id": "retained-gothic"
    },
    {
      "cell_type": "code",
      "metadata": {
        "execution": {
          "iopub.execute_input": "2021-04-12T07:16:07.392095Z",
          "iopub.status.busy": "2021-04-12T07:16:07.391229Z",
          "iopub.status.idle": "2021-04-12T07:16:13.548137Z",
          "shell.execute_reply": "2021-04-12T07:16:13.549200Z"
        },
        "papermill": {
          "duration": 6.329981,
          "end_time": "2021-04-12T07:16:13.549570",
          "exception": false,
          "start_time": "2021-04-12T07:16:07.219589",
          "status": "completed"
        },
        "tags": [],
        "id": "optical-shore",
        "outputId": "fdd0dd58-d760-42cd-c576-7a36e31a65ca"
      },
      "source": [
        "# Boosting Classifier Technique\n",
        "LR_Ada_Boost = AdaBoostClassifier(base_estimator=LR,random_state=0)\n",
        "\n",
        "# Train your model\n",
        "LR_Ada_Boost.fit(os_X,os_y)\n",
        "\n",
        "# Predict the model\n",
        "LR_Adaboost_predicted_y = LR_Ada_Boost.predict(X_test)"
      ],
      "id": "optical-shore",
      "execution_count": null,
      "outputs": [
        {
          "output_type": "stream",
          "text": [
            "/opt/conda/lib/python3.7/site-packages/sklearn/utils/validation.py:63: DataConversionWarning: A column-vector y was passed when a 1d array was expected. Please change the shape of y to (n_samples, ), for example using ravel().\n",
            "  return f(*args, **kwargs)\n"
          ],
          "name": "stderr"
        }
      ]
    },
    {
      "cell_type": "code",
      "metadata": {
        "execution": {
          "iopub.execute_input": "2021-04-12T07:16:13.930344Z",
          "iopub.status.busy": "2021-04-12T07:16:13.929549Z",
          "iopub.status.idle": "2021-04-12T07:16:13.985380Z",
          "shell.execute_reply": "2021-04-12T07:16:13.984709Z"
        },
        "papermill": {
          "duration": 0.224208,
          "end_time": "2021-04-12T07:16:13.985611",
          "exception": false,
          "start_time": "2021-04-12T07:16:13.761403",
          "status": "completed"
        },
        "tags": [],
        "id": "uniform-screening",
        "outputId": "40a39b99-2760-4c99-b7f0-f192d2eb6c25"
      },
      "source": [
        "# Confusion Matrix\n",
        "LR_Adaboost_CM = confusion_matrix(y_test,LR_Adaboost_predicted_y)\n",
        "print(LR_Adaboost_CM)\n",
        "\n",
        "# Accuracy Score\n",
        "LR_Adaboost_Accuracy = round(accuracy_score(y_test,LR_Adaboost_predicted_y)*100,2)\n",
        "print('LR_Adaboost_Accuracy is ', LR_Adaboost_Accuracy)\n",
        "\n",
        "# Classification Report\n",
        "print(classification_report(y_test,LR_Adaboost_predicted_y))"
      ],
      "id": "uniform-screening",
      "execution_count": null,
      "outputs": [
        {
          "output_type": "stream",
          "text": [
            "[[5094 5825]\n",
            " [ 445  989]]\n",
            "LR_Adaboost_Accuracy is  49.24\n",
            "              precision    recall  f1-score   support\n",
            "\n",
            "           0       0.92      0.47      0.62     10919\n",
            "           1       0.15      0.69      0.24      1434\n",
            "\n",
            "    accuracy                           0.49     12353\n",
            "   macro avg       0.53      0.58      0.43     12353\n",
            "weighted avg       0.83      0.49      0.58     12353\n",
            "\n"
          ],
          "name": "stdout"
        }
      ]
    },
    {
      "cell_type": "markdown",
      "metadata": {
        "papermill": {
          "duration": 0.166723,
          "end_time": "2021-04-12T07:16:14.318861",
          "exception": false,
          "start_time": "2021-04-12T07:16:14.152138",
          "status": "completed"
        },
        "tags": [],
        "id": "economic-nursery"
      },
      "source": [
        "#### 1.4 Parameter Optimization\n",
        "*     GridSearchCV\n",
        "*     RandomisedSearchCV"
      ],
      "id": "economic-nursery"
    },
    {
      "cell_type": "code",
      "metadata": {
        "execution": {
          "iopub.execute_input": "2021-04-12T07:16:14.650664Z",
          "iopub.status.busy": "2021-04-12T07:16:14.649738Z",
          "iopub.status.idle": "2021-04-12T07:17:11.614241Z",
          "shell.execute_reply": "2021-04-12T07:17:11.615282Z"
        },
        "papermill": {
          "duration": 57.132966,
          "end_time": "2021-04-12T07:17:11.615803",
          "exception": false,
          "start_time": "2021-04-12T07:16:14.482837",
          "status": "completed"
        },
        "tags": [],
        "id": "formal-uncertainty",
        "outputId": "817a0e3e-61e9-4f72-bef8-a6a5d4829627"
      },
      "source": [
        "param = {'n_estimators': np.arange(1,10)}\n",
        "kfold = KFold(n_splits=5, shuffle=True, random_state=0)\n",
        "\n",
        "# LR_Bagged_GS = GridSearchCV(LR_Bagged,param, cv= kfold ,scoring= accuracy_score) # Taking more time consumption, went through RandomisedSearchCV\n",
        "# LR_Bagged_GS.fit(X,y)\n",
        "\n",
        "LR_Bagged_RS = RandomizedSearchCV(LR_Bagged,param, cv= kfold ,scoring= accuracy_score)\n",
        "LR_Bagged_RS.fit(X,y)"
      ],
      "id": "formal-uncertainty",
      "execution_count": null,
      "outputs": [
        {
          "output_type": "stream",
          "text": [
            "/opt/conda/lib/python3.7/site-packages/sklearn/model_selection/_search.py:289: UserWarning: The total space of parameters 9 is smaller than n_iter=10. Running 9 iterations. For exhaustive searches, use GridSearchCV.\n",
            "  % (grid_size, self.n_iter, grid_size), UserWarning)\n",
            "/opt/conda/lib/python3.7/site-packages/sklearn/utils/validation.py:63: DataConversionWarning: A column-vector y was passed when a 1d array was expected. Please change the shape of y to (n_samples, ), for example using ravel().\n",
            "  return f(*args, **kwargs)\n",
            "/opt/conda/lib/python3.7/site-packages/sklearn/utils/validation.py:72: FutureWarning: Pass normalize=       y\n",
            "6      0\n",
            "18     0\n",
            "22     0\n",
            "24     0\n",
            "28     0\n",
            "...   ..\n",
            "41155  0\n",
            "41165  0\n",
            "41166  1\n",
            "41167  0\n",
            "41174  1\n",
            "\n",
            "[8236 rows x 1 columns] as keyword args. From version 1.0 (renaming of 0.25) passing these as positional arguments will result in an error\n",
            "  \"will result in an error\", FutureWarning)\n",
            "/opt/conda/lib/python3.7/site-packages/sklearn/model_selection/_validation.py:687: UserWarning: Scoring failed. The score on this train-test partition for these parameters will be set to nan. Details: \n",
            "Traceback (most recent call last):\n",
            "  File \"/opt/conda/lib/python3.7/site-packages/sklearn/model_selection/_validation.py\", line 674, in _score\n",
            "    scores = scorer(estimator, X_test, y_test)\n",
            "  File \"/opt/conda/lib/python3.7/site-packages/sklearn/utils/validation.py\", line 74, in inner_f\n",
            "    return f(**kwargs)\n",
            "  File \"/opt/conda/lib/python3.7/site-packages/sklearn/metrics/_classification.py\", line 202, in accuracy_score\n",
            "    y_type, y_true, y_pred = _check_targets(y_true, y_pred)\n",
            "  File \"/opt/conda/lib/python3.7/site-packages/sklearn/metrics/_classification.py\", line 83, in _check_targets\n",
            "    check_consistent_length(y_true, y_pred)\n",
            "  File \"/opt/conda/lib/python3.7/site-packages/sklearn/utils/validation.py\", line 259, in check_consistent_length\n",
            "    lengths = [_num_samples(X) for X in arrays if X is not None]\n",
            "  File \"/opt/conda/lib/python3.7/site-packages/sklearn/utils/validation.py\", line 259, in <listcomp>\n",
            "    lengths = [_num_samples(X) for X in arrays if X is not None]\n",
            "  File \"/opt/conda/lib/python3.7/site-packages/sklearn/utils/validation.py\", line 192, in _num_samples\n",
            "    raise TypeError(message)\n",
            "TypeError: Expected sequence or array-like, got <class 'sklearn.ensemble._bagging.BaggingClassifier'>\n",
            "\n",
            "  UserWarning,\n",
            "/opt/conda/lib/python3.7/site-packages/sklearn/utils/validation.py:63: DataConversionWarning: A column-vector y was passed when a 1d array was expected. Please change the shape of y to (n_samples, ), for example using ravel().\n",
            "  return f(*args, **kwargs)\n",
            "/opt/conda/lib/python3.7/site-packages/sklearn/utils/validation.py:72: FutureWarning: Pass normalize=       y\n",
            "3      0\n",
            "4      0\n",
            "7      0\n",
            "17     0\n",
            "29     0\n",
            "...   ..\n",
            "41157  0\n",
            "41161  1\n",
            "41169  1\n",
            "41172  0\n",
            "41175  0\n",
            "\n",
            "[8235 rows x 1 columns] as keyword args. From version 1.0 (renaming of 0.25) passing these as positional arguments will result in an error\n",
            "  \"will result in an error\", FutureWarning)\n",
            "/opt/conda/lib/python3.7/site-packages/sklearn/model_selection/_validation.py:687: UserWarning: Scoring failed. The score on this train-test partition for these parameters will be set to nan. Details: \n",
            "Traceback (most recent call last):\n",
            "  File \"/opt/conda/lib/python3.7/site-packages/sklearn/model_selection/_validation.py\", line 674, in _score\n",
            "    scores = scorer(estimator, X_test, y_test)\n",
            "  File \"/opt/conda/lib/python3.7/site-packages/sklearn/utils/validation.py\", line 74, in inner_f\n",
            "    return f(**kwargs)\n",
            "  File \"/opt/conda/lib/python3.7/site-packages/sklearn/metrics/_classification.py\", line 202, in accuracy_score\n",
            "    y_type, y_true, y_pred = _check_targets(y_true, y_pred)\n",
            "  File \"/opt/conda/lib/python3.7/site-packages/sklearn/metrics/_classification.py\", line 83, in _check_targets\n",
            "    check_consistent_length(y_true, y_pred)\n",
            "  File \"/opt/conda/lib/python3.7/site-packages/sklearn/utils/validation.py\", line 259, in check_consistent_length\n",
            "    lengths = [_num_samples(X) for X in arrays if X is not None]\n",
            "  File \"/opt/conda/lib/python3.7/site-packages/sklearn/utils/validation.py\", line 259, in <listcomp>\n",
            "    lengths = [_num_samples(X) for X in arrays if X is not None]\n",
            "  File \"/opt/conda/lib/python3.7/site-packages/sklearn/utils/validation.py\", line 192, in _num_samples\n",
            "    raise TypeError(message)\n",
            "TypeError: Expected sequence or array-like, got <class 'sklearn.ensemble._bagging.BaggingClassifier'>\n",
            "\n",
            "  UserWarning,\n",
            "/opt/conda/lib/python3.7/site-packages/sklearn/utils/validation.py:63: DataConversionWarning: A column-vector y was passed when a 1d array was expected. Please change the shape of y to (n_samples, ), for example using ravel().\n",
            "  return f(*args, **kwargs)\n",
            "/opt/conda/lib/python3.7/site-packages/sklearn/utils/validation.py:72: FutureWarning: Pass normalize=       y\n",
            "0      0\n",
            "8      0\n",
            "9      0\n",
            "12     0\n",
            "15     0\n",
            "...   ..\n",
            "41123  0\n",
            "41136  1\n",
            "41137  0\n",
            "41150  0\n",
            "41156  0\n",
            "\n",
            "[8235 rows x 1 columns] as keyword args. From version 1.0 (renaming of 0.25) passing these as positional arguments will result in an error\n",
            "  \"will result in an error\", FutureWarning)\n",
            "/opt/conda/lib/python3.7/site-packages/sklearn/model_selection/_validation.py:687: UserWarning: Scoring failed. The score on this train-test partition for these parameters will be set to nan. Details: \n",
            "Traceback (most recent call last):\n",
            "  File \"/opt/conda/lib/python3.7/site-packages/sklearn/model_selection/_validation.py\", line 674, in _score\n",
            "    scores = scorer(estimator, X_test, y_test)\n",
            "  File \"/opt/conda/lib/python3.7/site-packages/sklearn/utils/validation.py\", line 74, in inner_f\n",
            "    return f(**kwargs)\n",
            "  File \"/opt/conda/lib/python3.7/site-packages/sklearn/metrics/_classification.py\", line 202, in accuracy_score\n",
            "    y_type, y_true, y_pred = _check_targets(y_true, y_pred)\n",
            "  File \"/opt/conda/lib/python3.7/site-packages/sklearn/metrics/_classification.py\", line 83, in _check_targets\n",
            "    check_consistent_length(y_true, y_pred)\n",
            "  File \"/opt/conda/lib/python3.7/site-packages/sklearn/utils/validation.py\", line 259, in check_consistent_length\n",
            "    lengths = [_num_samples(X) for X in arrays if X is not None]\n",
            "  File \"/opt/conda/lib/python3.7/site-packages/sklearn/utils/validation.py\", line 259, in <listcomp>\n",
            "    lengths = [_num_samples(X) for X in arrays if X is not None]\n",
            "  File \"/opt/conda/lib/python3.7/site-packages/sklearn/utils/validation.py\", line 192, in _num_samples\n",
            "    raise TypeError(message)\n",
            "TypeError: Expected sequence or array-like, got <class 'sklearn.ensemble._bagging.BaggingClassifier'>\n",
            "\n",
            "  UserWarning,\n",
            "/opt/conda/lib/python3.7/site-packages/sklearn/utils/validation.py:63: DataConversionWarning: A column-vector y was passed when a 1d array was expected. Please change the shape of y to (n_samples, ), for example using ravel().\n",
            "  return f(*args, **kwargs)\n",
            "/opt/conda/lib/python3.7/site-packages/sklearn/utils/validation.py:72: FutureWarning: Pass normalize=       y\n",
            "1      0\n",
            "2      0\n",
            "5      0\n",
            "14     0\n",
            "20     0\n",
            "...   ..\n",
            "41160  1\n",
            "41163  0\n",
            "41164  0\n",
            "41170  0\n",
            "41171  1\n",
            "\n",
            "[8235 rows x 1 columns] as keyword args. From version 1.0 (renaming of 0.25) passing these as positional arguments will result in an error\n",
            "  \"will result in an error\", FutureWarning)\n",
            "/opt/conda/lib/python3.7/site-packages/sklearn/model_selection/_validation.py:687: UserWarning: Scoring failed. The score on this train-test partition for these parameters will be set to nan. Details: \n",
            "Traceback (most recent call last):\n",
            "  File \"/opt/conda/lib/python3.7/site-packages/sklearn/model_selection/_validation.py\", line 674, in _score\n",
            "    scores = scorer(estimator, X_test, y_test)\n",
            "  File \"/opt/conda/lib/python3.7/site-packages/sklearn/utils/validation.py\", line 74, in inner_f\n",
            "    return f(**kwargs)\n",
            "  File \"/opt/conda/lib/python3.7/site-packages/sklearn/metrics/_classification.py\", line 202, in accuracy_score\n",
            "    y_type, y_true, y_pred = _check_targets(y_true, y_pred)\n",
            "  File \"/opt/conda/lib/python3.7/site-packages/sklearn/metrics/_classification.py\", line 83, in _check_targets\n",
            "    check_consistent_length(y_true, y_pred)\n",
            "  File \"/opt/conda/lib/python3.7/site-packages/sklearn/utils/validation.py\", line 259, in check_consistent_length\n",
            "    lengths = [_num_samples(X) for X in arrays if X is not None]\n",
            "  File \"/opt/conda/lib/python3.7/site-packages/sklearn/utils/validation.py\", line 259, in <listcomp>\n",
            "    lengths = [_num_samples(X) for X in arrays if X is not None]\n",
            "  File \"/opt/conda/lib/python3.7/site-packages/sklearn/utils/validation.py\", line 192, in _num_samples\n",
            "    raise TypeError(message)\n",
            "TypeError: Expected sequence or array-like, got <class 'sklearn.ensemble._bagging.BaggingClassifier'>\n",
            "\n",
            "  UserWarning,\n",
            "/opt/conda/lib/python3.7/site-packages/sklearn/utils/validation.py:63: DataConversionWarning: A column-vector y was passed when a 1d array was expected. Please change the shape of y to (n_samples, ), for example using ravel().\n",
            "  return f(*args, **kwargs)\n",
            "/opt/conda/lib/python3.7/site-packages/sklearn/utils/validation.py:72: FutureWarning: Pass normalize=       y\n",
            "10     0\n",
            "11     0\n",
            "13     0\n",
            "19     0\n",
            "21     0\n",
            "...   ..\n",
            "41148  1\n",
            "41159  1\n",
            "41162  1\n",
            "41168  0\n",
            "41173  0\n",
            "\n",
            "[8235 rows x 1 columns] as keyword args. From version 1.0 (renaming of 0.25) passing these as positional arguments will result in an error\n",
            "  \"will result in an error\", FutureWarning)\n",
            "/opt/conda/lib/python3.7/site-packages/sklearn/model_selection/_validation.py:687: UserWarning: Scoring failed. The score on this train-test partition for these parameters will be set to nan. Details: \n",
            "Traceback (most recent call last):\n",
            "  File \"/opt/conda/lib/python3.7/site-packages/sklearn/model_selection/_validation.py\", line 674, in _score\n",
            "    scores = scorer(estimator, X_test, y_test)\n",
            "  File \"/opt/conda/lib/python3.7/site-packages/sklearn/utils/validation.py\", line 74, in inner_f\n",
            "    return f(**kwargs)\n",
            "  File \"/opt/conda/lib/python3.7/site-packages/sklearn/metrics/_classification.py\", line 202, in accuracy_score\n",
            "    y_type, y_true, y_pred = _check_targets(y_true, y_pred)\n",
            "  File \"/opt/conda/lib/python3.7/site-packages/sklearn/metrics/_classification.py\", line 83, in _check_targets\n",
            "    check_consistent_length(y_true, y_pred)\n",
            "  File \"/opt/conda/lib/python3.7/site-packages/sklearn/utils/validation.py\", line 259, in check_consistent_length\n",
            "    lengths = [_num_samples(X) for X in arrays if X is not None]\n",
            "  File \"/opt/conda/lib/python3.7/site-packages/sklearn/utils/validation.py\", line 259, in <listcomp>\n",
            "    lengths = [_num_samples(X) for X in arrays if X is not None]\n",
            "  File \"/opt/conda/lib/python3.7/site-packages/sklearn/utils/validation.py\", line 192, in _num_samples\n",
            "    raise TypeError(message)\n",
            "TypeError: Expected sequence or array-like, got <class 'sklearn.ensemble._bagging.BaggingClassifier'>\n",
            "\n",
            "  UserWarning,\n",
            "/opt/conda/lib/python3.7/site-packages/sklearn/utils/validation.py:63: DataConversionWarning: A column-vector y was passed when a 1d array was expected. Please change the shape of y to (n_samples, ), for example using ravel().\n",
            "  return f(*args, **kwargs)\n",
            "/opt/conda/lib/python3.7/site-packages/sklearn/utils/validation.py:72: FutureWarning: Pass normalize=       y\n",
            "6      0\n",
            "18     0\n",
            "22     0\n",
            "24     0\n",
            "28     0\n",
            "...   ..\n",
            "41155  0\n",
            "41165  0\n",
            "41166  1\n",
            "41167  0\n",
            "41174  1\n",
            "\n",
            "[8236 rows x 1 columns] as keyword args. From version 1.0 (renaming of 0.25) passing these as positional arguments will result in an error\n",
            "  \"will result in an error\", FutureWarning)\n",
            "/opt/conda/lib/python3.7/site-packages/sklearn/model_selection/_validation.py:687: UserWarning: Scoring failed. The score on this train-test partition for these parameters will be set to nan. Details: \n",
            "Traceback (most recent call last):\n",
            "  File \"/opt/conda/lib/python3.7/site-packages/sklearn/model_selection/_validation.py\", line 674, in _score\n",
            "    scores = scorer(estimator, X_test, y_test)\n",
            "  File \"/opt/conda/lib/python3.7/site-packages/sklearn/utils/validation.py\", line 74, in inner_f\n",
            "    return f(**kwargs)\n",
            "  File \"/opt/conda/lib/python3.7/site-packages/sklearn/metrics/_classification.py\", line 202, in accuracy_score\n",
            "    y_type, y_true, y_pred = _check_targets(y_true, y_pred)\n",
            "  File \"/opt/conda/lib/python3.7/site-packages/sklearn/metrics/_classification.py\", line 83, in _check_targets\n",
            "    check_consistent_length(y_true, y_pred)\n",
            "  File \"/opt/conda/lib/python3.7/site-packages/sklearn/utils/validation.py\", line 259, in check_consistent_length\n",
            "    lengths = [_num_samples(X) for X in arrays if X is not None]\n",
            "  File \"/opt/conda/lib/python3.7/site-packages/sklearn/utils/validation.py\", line 259, in <listcomp>\n",
            "    lengths = [_num_samples(X) for X in arrays if X is not None]\n",
            "  File \"/opt/conda/lib/python3.7/site-packages/sklearn/utils/validation.py\", line 192, in _num_samples\n",
            "    raise TypeError(message)\n",
            "TypeError: Expected sequence or array-like, got <class 'sklearn.ensemble._bagging.BaggingClassifier'>\n",
            "\n",
            "  UserWarning,\n",
            "/opt/conda/lib/python3.7/site-packages/sklearn/utils/validation.py:63: DataConversionWarning: A column-vector y was passed when a 1d array was expected. Please change the shape of y to (n_samples, ), for example using ravel().\n",
            "  return f(*args, **kwargs)\n",
            "/opt/conda/lib/python3.7/site-packages/sklearn/utils/validation.py:72: FutureWarning: Pass normalize=       y\n",
            "3      0\n",
            "4      0\n",
            "7      0\n",
            "17     0\n",
            "29     0\n",
            "...   ..\n",
            "41157  0\n",
            "41161  1\n",
            "41169  1\n",
            "41172  0\n",
            "41175  0\n",
            "\n",
            "[8235 rows x 1 columns] as keyword args. From version 1.0 (renaming of 0.25) passing these as positional arguments will result in an error\n",
            "  \"will result in an error\", FutureWarning)\n",
            "/opt/conda/lib/python3.7/site-packages/sklearn/model_selection/_validation.py:687: UserWarning: Scoring failed. The score on this train-test partition for these parameters will be set to nan. Details: \n",
            "Traceback (most recent call last):\n",
            "  File \"/opt/conda/lib/python3.7/site-packages/sklearn/model_selection/_validation.py\", line 674, in _score\n",
            "    scores = scorer(estimator, X_test, y_test)\n",
            "  File \"/opt/conda/lib/python3.7/site-packages/sklearn/utils/validation.py\", line 74, in inner_f\n",
            "    return f(**kwargs)\n",
            "  File \"/opt/conda/lib/python3.7/site-packages/sklearn/metrics/_classification.py\", line 202, in accuracy_score\n",
            "    y_type, y_true, y_pred = _check_targets(y_true, y_pred)\n",
            "  File \"/opt/conda/lib/python3.7/site-packages/sklearn/metrics/_classification.py\", line 83, in _check_targets\n",
            "    check_consistent_length(y_true, y_pred)\n",
            "  File \"/opt/conda/lib/python3.7/site-packages/sklearn/utils/validation.py\", line 259, in check_consistent_length\n",
            "    lengths = [_num_samples(X) for X in arrays if X is not None]\n",
            "  File \"/opt/conda/lib/python3.7/site-packages/sklearn/utils/validation.py\", line 259, in <listcomp>\n",
            "    lengths = [_num_samples(X) for X in arrays if X is not None]\n",
            "  File \"/opt/conda/lib/python3.7/site-packages/sklearn/utils/validation.py\", line 192, in _num_samples\n",
            "    raise TypeError(message)\n",
            "TypeError: Expected sequence or array-like, got <class 'sklearn.ensemble._bagging.BaggingClassifier'>\n",
            "\n",
            "  UserWarning,\n",
            "/opt/conda/lib/python3.7/site-packages/sklearn/utils/validation.py:63: DataConversionWarning: A column-vector y was passed when a 1d array was expected. Please change the shape of y to (n_samples, ), for example using ravel().\n",
            "  return f(*args, **kwargs)\n",
            "/opt/conda/lib/python3.7/site-packages/sklearn/utils/validation.py:72: FutureWarning: Pass normalize=       y\n",
            "0      0\n",
            "8      0\n",
            "9      0\n",
            "12     0\n",
            "15     0\n",
            "...   ..\n",
            "41123  0\n",
            "41136  1\n",
            "41137  0\n",
            "41150  0\n",
            "41156  0\n",
            "\n",
            "[8235 rows x 1 columns] as keyword args. From version 1.0 (renaming of 0.25) passing these as positional arguments will result in an error\n",
            "  \"will result in an error\", FutureWarning)\n",
            "/opt/conda/lib/python3.7/site-packages/sklearn/model_selection/_validation.py:687: UserWarning: Scoring failed. The score on this train-test partition for these parameters will be set to nan. Details: \n",
            "Traceback (most recent call last):\n",
            "  File \"/opt/conda/lib/python3.7/site-packages/sklearn/model_selection/_validation.py\", line 674, in _score\n",
            "    scores = scorer(estimator, X_test, y_test)\n",
            "  File \"/opt/conda/lib/python3.7/site-packages/sklearn/utils/validation.py\", line 74, in inner_f\n",
            "    return f(**kwargs)\n",
            "  File \"/opt/conda/lib/python3.7/site-packages/sklearn/metrics/_classification.py\", line 202, in accuracy_score\n",
            "    y_type, y_true, y_pred = _check_targets(y_true, y_pred)\n",
            "  File \"/opt/conda/lib/python3.7/site-packages/sklearn/metrics/_classification.py\", line 83, in _check_targets\n",
            "    check_consistent_length(y_true, y_pred)\n",
            "  File \"/opt/conda/lib/python3.7/site-packages/sklearn/utils/validation.py\", line 259, in check_consistent_length\n",
            "    lengths = [_num_samples(X) for X in arrays if X is not None]\n",
            "  File \"/opt/conda/lib/python3.7/site-packages/sklearn/utils/validation.py\", line 259, in <listcomp>\n",
            "    lengths = [_num_samples(X) for X in arrays if X is not None]\n",
            "  File \"/opt/conda/lib/python3.7/site-packages/sklearn/utils/validation.py\", line 192, in _num_samples\n",
            "    raise TypeError(message)\n",
            "TypeError: Expected sequence or array-like, got <class 'sklearn.ensemble._bagging.BaggingClassifier'>\n",
            "\n",
            "  UserWarning,\n",
            "/opt/conda/lib/python3.7/site-packages/sklearn/utils/validation.py:63: DataConversionWarning: A column-vector y was passed when a 1d array was expected. Please change the shape of y to (n_samples, ), for example using ravel().\n",
            "  return f(*args, **kwargs)\n",
            "/opt/conda/lib/python3.7/site-packages/sklearn/utils/validation.py:72: FutureWarning: Pass normalize=       y\n",
            "1      0\n",
            "2      0\n",
            "5      0\n",
            "14     0\n",
            "20     0\n",
            "...   ..\n",
            "41160  1\n",
            "41163  0\n",
            "41164  0\n",
            "41170  0\n",
            "41171  1\n",
            "\n",
            "[8235 rows x 1 columns] as keyword args. From version 1.0 (renaming of 0.25) passing these as positional arguments will result in an error\n",
            "  \"will result in an error\", FutureWarning)\n",
            "/opt/conda/lib/python3.7/site-packages/sklearn/model_selection/_validation.py:687: UserWarning: Scoring failed. The score on this train-test partition for these parameters will be set to nan. Details: \n",
            "Traceback (most recent call last):\n",
            "  File \"/opt/conda/lib/python3.7/site-packages/sklearn/model_selection/_validation.py\", line 674, in _score\n",
            "    scores = scorer(estimator, X_test, y_test)\n",
            "  File \"/opt/conda/lib/python3.7/site-packages/sklearn/utils/validation.py\", line 74, in inner_f\n",
            "    return f(**kwargs)\n",
            "  File \"/opt/conda/lib/python3.7/site-packages/sklearn/metrics/_classification.py\", line 202, in accuracy_score\n",
            "    y_type, y_true, y_pred = _check_targets(y_true, y_pred)\n",
            "  File \"/opt/conda/lib/python3.7/site-packages/sklearn/metrics/_classification.py\", line 83, in _check_targets\n",
            "    check_consistent_length(y_true, y_pred)\n",
            "  File \"/opt/conda/lib/python3.7/site-packages/sklearn/utils/validation.py\", line 259, in check_consistent_length\n",
            "    lengths = [_num_samples(X) for X in arrays if X is not None]\n",
            "  File \"/opt/conda/lib/python3.7/site-packages/sklearn/utils/validation.py\", line 259, in <listcomp>\n",
            "    lengths = [_num_samples(X) for X in arrays if X is not None]\n",
            "  File \"/opt/conda/lib/python3.7/site-packages/sklearn/utils/validation.py\", line 192, in _num_samples\n",
            "    raise TypeError(message)\n",
            "TypeError: Expected sequence or array-like, got <class 'sklearn.ensemble._bagging.BaggingClassifier'>\n",
            "\n",
            "  UserWarning,\n",
            "/opt/conda/lib/python3.7/site-packages/sklearn/utils/validation.py:63: DataConversionWarning: A column-vector y was passed when a 1d array was expected. Please change the shape of y to (n_samples, ), for example using ravel().\n",
            "  return f(*args, **kwargs)\n",
            "/opt/conda/lib/python3.7/site-packages/sklearn/utils/validation.py:72: FutureWarning: Pass normalize=       y\n",
            "10     0\n",
            "11     0\n",
            "13     0\n",
            "19     0\n",
            "21     0\n",
            "...   ..\n",
            "41148  1\n",
            "41159  1\n",
            "41162  1\n",
            "41168  0\n",
            "41173  0\n",
            "\n",
            "[8235 rows x 1 columns] as keyword args. From version 1.0 (renaming of 0.25) passing these as positional arguments will result in an error\n",
            "  \"will result in an error\", FutureWarning)\n",
            "/opt/conda/lib/python3.7/site-packages/sklearn/model_selection/_validation.py:687: UserWarning: Scoring failed. The score on this train-test partition for these parameters will be set to nan. Details: \n",
            "Traceback (most recent call last):\n",
            "  File \"/opt/conda/lib/python3.7/site-packages/sklearn/model_selection/_validation.py\", line 674, in _score\n",
            "    scores = scorer(estimator, X_test, y_test)\n",
            "  File \"/opt/conda/lib/python3.7/site-packages/sklearn/utils/validation.py\", line 74, in inner_f\n",
            "    return f(**kwargs)\n",
            "  File \"/opt/conda/lib/python3.7/site-packages/sklearn/metrics/_classification.py\", line 202, in accuracy_score\n",
            "    y_type, y_true, y_pred = _check_targets(y_true, y_pred)\n",
            "  File \"/opt/conda/lib/python3.7/site-packages/sklearn/metrics/_classification.py\", line 83, in _check_targets\n",
            "    check_consistent_length(y_true, y_pred)\n",
            "  File \"/opt/conda/lib/python3.7/site-packages/sklearn/utils/validation.py\", line 259, in check_consistent_length\n",
            "    lengths = [_num_samples(X) for X in arrays if X is not None]\n",
            "  File \"/opt/conda/lib/python3.7/site-packages/sklearn/utils/validation.py\", line 259, in <listcomp>\n",
            "    lengths = [_num_samples(X) for X in arrays if X is not None]\n",
            "  File \"/opt/conda/lib/python3.7/site-packages/sklearn/utils/validation.py\", line 192, in _num_samples\n",
            "    raise TypeError(message)\n",
            "TypeError: Expected sequence or array-like, got <class 'sklearn.ensemble._bagging.BaggingClassifier'>\n",
            "\n",
            "  UserWarning,\n",
            "/opt/conda/lib/python3.7/site-packages/sklearn/utils/validation.py:63: DataConversionWarning: A column-vector y was passed when a 1d array was expected. Please change the shape of y to (n_samples, ), for example using ravel().\n",
            "  return f(*args, **kwargs)\n",
            "/opt/conda/lib/python3.7/site-packages/sklearn/utils/validation.py:72: FutureWarning: Pass normalize=       y\n",
            "6      0\n",
            "18     0\n",
            "22     0\n",
            "24     0\n",
            "28     0\n",
            "...   ..\n",
            "41155  0\n",
            "41165  0\n",
            "41166  1\n",
            "41167  0\n",
            "41174  1\n",
            "\n",
            "[8236 rows x 1 columns] as keyword args. From version 1.0 (renaming of 0.25) passing these as positional arguments will result in an error\n",
            "  \"will result in an error\", FutureWarning)\n",
            "/opt/conda/lib/python3.7/site-packages/sklearn/model_selection/_validation.py:687: UserWarning: Scoring failed. The score on this train-test partition for these parameters will be set to nan. Details: \n",
            "Traceback (most recent call last):\n",
            "  File \"/opt/conda/lib/python3.7/site-packages/sklearn/model_selection/_validation.py\", line 674, in _score\n",
            "    scores = scorer(estimator, X_test, y_test)\n",
            "  File \"/opt/conda/lib/python3.7/site-packages/sklearn/utils/validation.py\", line 74, in inner_f\n",
            "    return f(**kwargs)\n",
            "  File \"/opt/conda/lib/python3.7/site-packages/sklearn/metrics/_classification.py\", line 202, in accuracy_score\n",
            "    y_type, y_true, y_pred = _check_targets(y_true, y_pred)\n",
            "  File \"/opt/conda/lib/python3.7/site-packages/sklearn/metrics/_classification.py\", line 83, in _check_targets\n",
            "    check_consistent_length(y_true, y_pred)\n",
            "  File \"/opt/conda/lib/python3.7/site-packages/sklearn/utils/validation.py\", line 259, in check_consistent_length\n",
            "    lengths = [_num_samples(X) for X in arrays if X is not None]\n",
            "  File \"/opt/conda/lib/python3.7/site-packages/sklearn/utils/validation.py\", line 259, in <listcomp>\n",
            "    lengths = [_num_samples(X) for X in arrays if X is not None]\n",
            "  File \"/opt/conda/lib/python3.7/site-packages/sklearn/utils/validation.py\", line 192, in _num_samples\n",
            "    raise TypeError(message)\n",
            "TypeError: Expected sequence or array-like, got <class 'sklearn.ensemble._bagging.BaggingClassifier'>\n",
            "\n",
            "  UserWarning,\n",
            "/opt/conda/lib/python3.7/site-packages/sklearn/utils/validation.py:63: DataConversionWarning: A column-vector y was passed when a 1d array was expected. Please change the shape of y to (n_samples, ), for example using ravel().\n",
            "  return f(*args, **kwargs)\n",
            "/opt/conda/lib/python3.7/site-packages/sklearn/utils/validation.py:72: FutureWarning: Pass normalize=       y\n",
            "3      0\n",
            "4      0\n",
            "7      0\n",
            "17     0\n",
            "29     0\n",
            "...   ..\n",
            "41157  0\n",
            "41161  1\n",
            "41169  1\n",
            "41172  0\n",
            "41175  0\n",
            "\n",
            "[8235 rows x 1 columns] as keyword args. From version 1.0 (renaming of 0.25) passing these as positional arguments will result in an error\n",
            "  \"will result in an error\", FutureWarning)\n",
            "/opt/conda/lib/python3.7/site-packages/sklearn/model_selection/_validation.py:687: UserWarning: Scoring failed. The score on this train-test partition for these parameters will be set to nan. Details: \n",
            "Traceback (most recent call last):\n",
            "  File \"/opt/conda/lib/python3.7/site-packages/sklearn/model_selection/_validation.py\", line 674, in _score\n",
            "    scores = scorer(estimator, X_test, y_test)\n",
            "  File \"/opt/conda/lib/python3.7/site-packages/sklearn/utils/validation.py\", line 74, in inner_f\n",
            "    return f(**kwargs)\n",
            "  File \"/opt/conda/lib/python3.7/site-packages/sklearn/metrics/_classification.py\", line 202, in accuracy_score\n",
            "    y_type, y_true, y_pred = _check_targets(y_true, y_pred)\n",
            "  File \"/opt/conda/lib/python3.7/site-packages/sklearn/metrics/_classification.py\", line 83, in _check_targets\n",
            "    check_consistent_length(y_true, y_pred)\n",
            "  File \"/opt/conda/lib/python3.7/site-packages/sklearn/utils/validation.py\", line 259, in check_consistent_length\n",
            "    lengths = [_num_samples(X) for X in arrays if X is not None]\n",
            "  File \"/opt/conda/lib/python3.7/site-packages/sklearn/utils/validation.py\", line 259, in <listcomp>\n",
            "    lengths = [_num_samples(X) for X in arrays if X is not None]\n",
            "  File \"/opt/conda/lib/python3.7/site-packages/sklearn/utils/validation.py\", line 192, in _num_samples\n",
            "    raise TypeError(message)\n",
            "TypeError: Expected sequence or array-like, got <class 'sklearn.ensemble._bagging.BaggingClassifier'>\n",
            "\n",
            "  UserWarning,\n",
            "/opt/conda/lib/python3.7/site-packages/sklearn/utils/validation.py:63: DataConversionWarning: A column-vector y was passed when a 1d array was expected. Please change the shape of y to (n_samples, ), for example using ravel().\n",
            "  return f(*args, **kwargs)\n",
            "/opt/conda/lib/python3.7/site-packages/sklearn/utils/validation.py:72: FutureWarning: Pass normalize=       y\n",
            "0      0\n",
            "8      0\n",
            "9      0\n",
            "12     0\n",
            "15     0\n",
            "...   ..\n",
            "41123  0\n",
            "41136  1\n",
            "41137  0\n",
            "41150  0\n",
            "41156  0\n",
            "\n",
            "[8235 rows x 1 columns] as keyword args. From version 1.0 (renaming of 0.25) passing these as positional arguments will result in an error\n",
            "  \"will result in an error\", FutureWarning)\n",
            "/opt/conda/lib/python3.7/site-packages/sklearn/model_selection/_validation.py:687: UserWarning: Scoring failed. The score on this train-test partition for these parameters will be set to nan. Details: \n",
            "Traceback (most recent call last):\n",
            "  File \"/opt/conda/lib/python3.7/site-packages/sklearn/model_selection/_validation.py\", line 674, in _score\n",
            "    scores = scorer(estimator, X_test, y_test)\n",
            "  File \"/opt/conda/lib/python3.7/site-packages/sklearn/utils/validation.py\", line 74, in inner_f\n",
            "    return f(**kwargs)\n",
            "  File \"/opt/conda/lib/python3.7/site-packages/sklearn/metrics/_classification.py\", line 202, in accuracy_score\n",
            "    y_type, y_true, y_pred = _check_targets(y_true, y_pred)\n",
            "  File \"/opt/conda/lib/python3.7/site-packages/sklearn/metrics/_classification.py\", line 83, in _check_targets\n",
            "    check_consistent_length(y_true, y_pred)\n",
            "  File \"/opt/conda/lib/python3.7/site-packages/sklearn/utils/validation.py\", line 259, in check_consistent_length\n",
            "    lengths = [_num_samples(X) for X in arrays if X is not None]\n",
            "  File \"/opt/conda/lib/python3.7/site-packages/sklearn/utils/validation.py\", line 259, in <listcomp>\n",
            "    lengths = [_num_samples(X) for X in arrays if X is not None]\n",
            "  File \"/opt/conda/lib/python3.7/site-packages/sklearn/utils/validation.py\", line 192, in _num_samples\n",
            "    raise TypeError(message)\n",
            "TypeError: Expected sequence or array-like, got <class 'sklearn.ensemble._bagging.BaggingClassifier'>\n",
            "\n",
            "  UserWarning,\n",
            "/opt/conda/lib/python3.7/site-packages/sklearn/utils/validation.py:63: DataConversionWarning: A column-vector y was passed when a 1d array was expected. Please change the shape of y to (n_samples, ), for example using ravel().\n",
            "  return f(*args, **kwargs)\n",
            "/opt/conda/lib/python3.7/site-packages/sklearn/utils/validation.py:72: FutureWarning: Pass normalize=       y\n",
            "1      0\n",
            "2      0\n",
            "5      0\n",
            "14     0\n",
            "20     0\n",
            "...   ..\n",
            "41160  1\n",
            "41163  0\n",
            "41164  0\n",
            "41170  0\n",
            "41171  1\n",
            "\n",
            "[8235 rows x 1 columns] as keyword args. From version 1.0 (renaming of 0.25) passing these as positional arguments will result in an error\n",
            "  \"will result in an error\", FutureWarning)\n",
            "/opt/conda/lib/python3.7/site-packages/sklearn/model_selection/_validation.py:687: UserWarning: Scoring failed. The score on this train-test partition for these parameters will be set to nan. Details: \n",
            "Traceback (most recent call last):\n",
            "  File \"/opt/conda/lib/python3.7/site-packages/sklearn/model_selection/_validation.py\", line 674, in _score\n",
            "    scores = scorer(estimator, X_test, y_test)\n",
            "  File \"/opt/conda/lib/python3.7/site-packages/sklearn/utils/validation.py\", line 74, in inner_f\n",
            "    return f(**kwargs)\n",
            "  File \"/opt/conda/lib/python3.7/site-packages/sklearn/metrics/_classification.py\", line 202, in accuracy_score\n",
            "    y_type, y_true, y_pred = _check_targets(y_true, y_pred)\n",
            "  File \"/opt/conda/lib/python3.7/site-packages/sklearn/metrics/_classification.py\", line 83, in _check_targets\n",
            "    check_consistent_length(y_true, y_pred)\n",
            "  File \"/opt/conda/lib/python3.7/site-packages/sklearn/utils/validation.py\", line 259, in check_consistent_length\n",
            "    lengths = [_num_samples(X) for X in arrays if X is not None]\n",
            "  File \"/opt/conda/lib/python3.7/site-packages/sklearn/utils/validation.py\", line 259, in <listcomp>\n",
            "    lengths = [_num_samples(X) for X in arrays if X is not None]\n",
            "  File \"/opt/conda/lib/python3.7/site-packages/sklearn/utils/validation.py\", line 192, in _num_samples\n",
            "    raise TypeError(message)\n",
            "TypeError: Expected sequence or array-like, got <class 'sklearn.ensemble._bagging.BaggingClassifier'>\n",
            "\n",
            "  UserWarning,\n",
            "/opt/conda/lib/python3.7/site-packages/sklearn/utils/validation.py:63: DataConversionWarning: A column-vector y was passed when a 1d array was expected. Please change the shape of y to (n_samples, ), for example using ravel().\n",
            "  return f(*args, **kwargs)\n",
            "/opt/conda/lib/python3.7/site-packages/sklearn/utils/validation.py:72: FutureWarning: Pass normalize=       y\n",
            "10     0\n",
            "11     0\n",
            "13     0\n",
            "19     0\n",
            "21     0\n",
            "...   ..\n",
            "41148  1\n",
            "41159  1\n",
            "41162  1\n",
            "41168  0\n",
            "41173  0\n",
            "\n",
            "[8235 rows x 1 columns] as keyword args. From version 1.0 (renaming of 0.25) passing these as positional arguments will result in an error\n",
            "  \"will result in an error\", FutureWarning)\n",
            "/opt/conda/lib/python3.7/site-packages/sklearn/model_selection/_validation.py:687: UserWarning: Scoring failed. The score on this train-test partition for these parameters will be set to nan. Details: \n",
            "Traceback (most recent call last):\n",
            "  File \"/opt/conda/lib/python3.7/site-packages/sklearn/model_selection/_validation.py\", line 674, in _score\n",
            "    scores = scorer(estimator, X_test, y_test)\n",
            "  File \"/opt/conda/lib/python3.7/site-packages/sklearn/utils/validation.py\", line 74, in inner_f\n",
            "    return f(**kwargs)\n",
            "  File \"/opt/conda/lib/python3.7/site-packages/sklearn/metrics/_classification.py\", line 202, in accuracy_score\n",
            "    y_type, y_true, y_pred = _check_targets(y_true, y_pred)\n",
            "  File \"/opt/conda/lib/python3.7/site-packages/sklearn/metrics/_classification.py\", line 83, in _check_targets\n",
            "    check_consistent_length(y_true, y_pred)\n",
            "  File \"/opt/conda/lib/python3.7/site-packages/sklearn/utils/validation.py\", line 259, in check_consistent_length\n",
            "    lengths = [_num_samples(X) for X in arrays if X is not None]\n",
            "  File \"/opt/conda/lib/python3.7/site-packages/sklearn/utils/validation.py\", line 259, in <listcomp>\n",
            "    lengths = [_num_samples(X) for X in arrays if X is not None]\n",
            "  File \"/opt/conda/lib/python3.7/site-packages/sklearn/utils/validation.py\", line 192, in _num_samples\n",
            "    raise TypeError(message)\n",
            "TypeError: Expected sequence or array-like, got <class 'sklearn.ensemble._bagging.BaggingClassifier'>\n",
            "\n",
            "  UserWarning,\n",
            "/opt/conda/lib/python3.7/site-packages/sklearn/utils/validation.py:63: DataConversionWarning: A column-vector y was passed when a 1d array was expected. Please change the shape of y to (n_samples, ), for example using ravel().\n",
            "  return f(*args, **kwargs)\n",
            "/opt/conda/lib/python3.7/site-packages/sklearn/utils/validation.py:72: FutureWarning: Pass normalize=       y\n",
            "6      0\n",
            "18     0\n",
            "22     0\n",
            "24     0\n",
            "28     0\n",
            "...   ..\n",
            "41155  0\n",
            "41165  0\n",
            "41166  1\n",
            "41167  0\n",
            "41174  1\n",
            "\n",
            "[8236 rows x 1 columns] as keyword args. From version 1.0 (renaming of 0.25) passing these as positional arguments will result in an error\n",
            "  \"will result in an error\", FutureWarning)\n",
            "/opt/conda/lib/python3.7/site-packages/sklearn/model_selection/_validation.py:687: UserWarning: Scoring failed. The score on this train-test partition for these parameters will be set to nan. Details: \n",
            "Traceback (most recent call last):\n",
            "  File \"/opt/conda/lib/python3.7/site-packages/sklearn/model_selection/_validation.py\", line 674, in _score\n",
            "    scores = scorer(estimator, X_test, y_test)\n",
            "  File \"/opt/conda/lib/python3.7/site-packages/sklearn/utils/validation.py\", line 74, in inner_f\n",
            "    return f(**kwargs)\n",
            "  File \"/opt/conda/lib/python3.7/site-packages/sklearn/metrics/_classification.py\", line 202, in accuracy_score\n",
            "    y_type, y_true, y_pred = _check_targets(y_true, y_pred)\n",
            "  File \"/opt/conda/lib/python3.7/site-packages/sklearn/metrics/_classification.py\", line 83, in _check_targets\n",
            "    check_consistent_length(y_true, y_pred)\n",
            "  File \"/opt/conda/lib/python3.7/site-packages/sklearn/utils/validation.py\", line 259, in check_consistent_length\n",
            "    lengths = [_num_samples(X) for X in arrays if X is not None]\n",
            "  File \"/opt/conda/lib/python3.7/site-packages/sklearn/utils/validation.py\", line 259, in <listcomp>\n",
            "    lengths = [_num_samples(X) for X in arrays if X is not None]\n",
            "  File \"/opt/conda/lib/python3.7/site-packages/sklearn/utils/validation.py\", line 192, in _num_samples\n",
            "    raise TypeError(message)\n",
            "TypeError: Expected sequence or array-like, got <class 'sklearn.ensemble._bagging.BaggingClassifier'>\n",
            "\n",
            "  UserWarning,\n",
            "/opt/conda/lib/python3.7/site-packages/sklearn/utils/validation.py:63: DataConversionWarning: A column-vector y was passed when a 1d array was expected. Please change the shape of y to (n_samples, ), for example using ravel().\n",
            "  return f(*args, **kwargs)\n",
            "/opt/conda/lib/python3.7/site-packages/sklearn/utils/validation.py:72: FutureWarning: Pass normalize=       y\n",
            "3      0\n",
            "4      0\n",
            "7      0\n",
            "17     0\n",
            "29     0\n",
            "...   ..\n",
            "41157  0\n",
            "41161  1\n",
            "41169  1\n",
            "41172  0\n",
            "41175  0\n",
            "\n",
            "[8235 rows x 1 columns] as keyword args. From version 1.0 (renaming of 0.25) passing these as positional arguments will result in an error\n",
            "  \"will result in an error\", FutureWarning)\n",
            "/opt/conda/lib/python3.7/site-packages/sklearn/model_selection/_validation.py:687: UserWarning: Scoring failed. The score on this train-test partition for these parameters will be set to nan. Details: \n",
            "Traceback (most recent call last):\n",
            "  File \"/opt/conda/lib/python3.7/site-packages/sklearn/model_selection/_validation.py\", line 674, in _score\n",
            "    scores = scorer(estimator, X_test, y_test)\n",
            "  File \"/opt/conda/lib/python3.7/site-packages/sklearn/utils/validation.py\", line 74, in inner_f\n",
            "    return f(**kwargs)\n",
            "  File \"/opt/conda/lib/python3.7/site-packages/sklearn/metrics/_classification.py\", line 202, in accuracy_score\n",
            "    y_type, y_true, y_pred = _check_targets(y_true, y_pred)\n",
            "  File \"/opt/conda/lib/python3.7/site-packages/sklearn/metrics/_classification.py\", line 83, in _check_targets\n",
            "    check_consistent_length(y_true, y_pred)\n",
            "  File \"/opt/conda/lib/python3.7/site-packages/sklearn/utils/validation.py\", line 259, in check_consistent_length\n",
            "    lengths = [_num_samples(X) for X in arrays if X is not None]\n",
            "  File \"/opt/conda/lib/python3.7/site-packages/sklearn/utils/validation.py\", line 259, in <listcomp>\n",
            "    lengths = [_num_samples(X) for X in arrays if X is not None]\n",
            "  File \"/opt/conda/lib/python3.7/site-packages/sklearn/utils/validation.py\", line 192, in _num_samples\n",
            "    raise TypeError(message)\n",
            "TypeError: Expected sequence or array-like, got <class 'sklearn.ensemble._bagging.BaggingClassifier'>\n",
            "\n",
            "  UserWarning,\n",
            "/opt/conda/lib/python3.7/site-packages/sklearn/utils/validation.py:63: DataConversionWarning: A column-vector y was passed when a 1d array was expected. Please change the shape of y to (n_samples, ), for example using ravel().\n",
            "  return f(*args, **kwargs)\n",
            "/opt/conda/lib/python3.7/site-packages/sklearn/utils/validation.py:72: FutureWarning: Pass normalize=       y\n",
            "0      0\n",
            "8      0\n",
            "9      0\n",
            "12     0\n",
            "15     0\n",
            "...   ..\n",
            "41123  0\n",
            "41136  1\n",
            "41137  0\n",
            "41150  0\n",
            "41156  0\n",
            "\n",
            "[8235 rows x 1 columns] as keyword args. From version 1.0 (renaming of 0.25) passing these as positional arguments will result in an error\n",
            "  \"will result in an error\", FutureWarning)\n",
            "/opt/conda/lib/python3.7/site-packages/sklearn/model_selection/_validation.py:687: UserWarning: Scoring failed. The score on this train-test partition for these parameters will be set to nan. Details: \n",
            "Traceback (most recent call last):\n",
            "  File \"/opt/conda/lib/python3.7/site-packages/sklearn/model_selection/_validation.py\", line 674, in _score\n",
            "    scores = scorer(estimator, X_test, y_test)\n",
            "  File \"/opt/conda/lib/python3.7/site-packages/sklearn/utils/validation.py\", line 74, in inner_f\n",
            "    return f(**kwargs)\n",
            "  File \"/opt/conda/lib/python3.7/site-packages/sklearn/metrics/_classification.py\", line 202, in accuracy_score\n",
            "    y_type, y_true, y_pred = _check_targets(y_true, y_pred)\n",
            "  File \"/opt/conda/lib/python3.7/site-packages/sklearn/metrics/_classification.py\", line 83, in _check_targets\n",
            "    check_consistent_length(y_true, y_pred)\n",
            "  File \"/opt/conda/lib/python3.7/site-packages/sklearn/utils/validation.py\", line 259, in check_consistent_length\n",
            "    lengths = [_num_samples(X) for X in arrays if X is not None]\n",
            "  File \"/opt/conda/lib/python3.7/site-packages/sklearn/utils/validation.py\", line 259, in <listcomp>\n",
            "    lengths = [_num_samples(X) for X in arrays if X is not None]\n",
            "  File \"/opt/conda/lib/python3.7/site-packages/sklearn/utils/validation.py\", line 192, in _num_samples\n",
            "    raise TypeError(message)\n",
            "TypeError: Expected sequence or array-like, got <class 'sklearn.ensemble._bagging.BaggingClassifier'>\n",
            "\n",
            "  UserWarning,\n",
            "/opt/conda/lib/python3.7/site-packages/sklearn/utils/validation.py:63: DataConversionWarning: A column-vector y was passed when a 1d array was expected. Please change the shape of y to (n_samples, ), for example using ravel().\n",
            "  return f(*args, **kwargs)\n",
            "/opt/conda/lib/python3.7/site-packages/sklearn/utils/validation.py:72: FutureWarning: Pass normalize=       y\n",
            "1      0\n",
            "2      0\n",
            "5      0\n",
            "14     0\n",
            "20     0\n",
            "...   ..\n",
            "41160  1\n",
            "41163  0\n",
            "41164  0\n",
            "41170  0\n",
            "41171  1\n",
            "\n",
            "[8235 rows x 1 columns] as keyword args. From version 1.0 (renaming of 0.25) passing these as positional arguments will result in an error\n",
            "  \"will result in an error\", FutureWarning)\n",
            "/opt/conda/lib/python3.7/site-packages/sklearn/model_selection/_validation.py:687: UserWarning: Scoring failed. The score on this train-test partition for these parameters will be set to nan. Details: \n",
            "Traceback (most recent call last):\n",
            "  File \"/opt/conda/lib/python3.7/site-packages/sklearn/model_selection/_validation.py\", line 674, in _score\n",
            "    scores = scorer(estimator, X_test, y_test)\n",
            "  File \"/opt/conda/lib/python3.7/site-packages/sklearn/utils/validation.py\", line 74, in inner_f\n",
            "    return f(**kwargs)\n",
            "  File \"/opt/conda/lib/python3.7/site-packages/sklearn/metrics/_classification.py\", line 202, in accuracy_score\n",
            "    y_type, y_true, y_pred = _check_targets(y_true, y_pred)\n",
            "  File \"/opt/conda/lib/python3.7/site-packages/sklearn/metrics/_classification.py\", line 83, in _check_targets\n",
            "    check_consistent_length(y_true, y_pred)\n",
            "  File \"/opt/conda/lib/python3.7/site-packages/sklearn/utils/validation.py\", line 259, in check_consistent_length\n",
            "    lengths = [_num_samples(X) for X in arrays if X is not None]\n",
            "  File \"/opt/conda/lib/python3.7/site-packages/sklearn/utils/validation.py\", line 259, in <listcomp>\n",
            "    lengths = [_num_samples(X) for X in arrays if X is not None]\n",
            "  File \"/opt/conda/lib/python3.7/site-packages/sklearn/utils/validation.py\", line 192, in _num_samples\n",
            "    raise TypeError(message)\n",
            "TypeError: Expected sequence or array-like, got <class 'sklearn.ensemble._bagging.BaggingClassifier'>\n",
            "\n",
            "  UserWarning,\n",
            "/opt/conda/lib/python3.7/site-packages/sklearn/utils/validation.py:63: DataConversionWarning: A column-vector y was passed when a 1d array was expected. Please change the shape of y to (n_samples, ), for example using ravel().\n",
            "  return f(*args, **kwargs)\n",
            "/opt/conda/lib/python3.7/site-packages/sklearn/utils/validation.py:72: FutureWarning: Pass normalize=       y\n",
            "10     0\n",
            "11     0\n",
            "13     0\n",
            "19     0\n",
            "21     0\n",
            "...   ..\n",
            "41148  1\n",
            "41159  1\n",
            "41162  1\n",
            "41168  0\n",
            "41173  0\n",
            "\n",
            "[8235 rows x 1 columns] as keyword args. From version 1.0 (renaming of 0.25) passing these as positional arguments will result in an error\n",
            "  \"will result in an error\", FutureWarning)\n",
            "/opt/conda/lib/python3.7/site-packages/sklearn/model_selection/_validation.py:687: UserWarning: Scoring failed. The score on this train-test partition for these parameters will be set to nan. Details: \n",
            "Traceback (most recent call last):\n",
            "  File \"/opt/conda/lib/python3.7/site-packages/sklearn/model_selection/_validation.py\", line 674, in _score\n",
            "    scores = scorer(estimator, X_test, y_test)\n",
            "  File \"/opt/conda/lib/python3.7/site-packages/sklearn/utils/validation.py\", line 74, in inner_f\n",
            "    return f(**kwargs)\n",
            "  File \"/opt/conda/lib/python3.7/site-packages/sklearn/metrics/_classification.py\", line 202, in accuracy_score\n",
            "    y_type, y_true, y_pred = _check_targets(y_true, y_pred)\n",
            "  File \"/opt/conda/lib/python3.7/site-packages/sklearn/metrics/_classification.py\", line 83, in _check_targets\n",
            "    check_consistent_length(y_true, y_pred)\n",
            "  File \"/opt/conda/lib/python3.7/site-packages/sklearn/utils/validation.py\", line 259, in check_consistent_length\n",
            "    lengths = [_num_samples(X) for X in arrays if X is not None]\n",
            "  File \"/opt/conda/lib/python3.7/site-packages/sklearn/utils/validation.py\", line 259, in <listcomp>\n",
            "    lengths = [_num_samples(X) for X in arrays if X is not None]\n",
            "  File \"/opt/conda/lib/python3.7/site-packages/sklearn/utils/validation.py\", line 192, in _num_samples\n",
            "    raise TypeError(message)\n",
            "TypeError: Expected sequence or array-like, got <class 'sklearn.ensemble._bagging.BaggingClassifier'>\n",
            "\n",
            "  UserWarning,\n",
            "/opt/conda/lib/python3.7/site-packages/sklearn/utils/validation.py:63: DataConversionWarning: A column-vector y was passed when a 1d array was expected. Please change the shape of y to (n_samples, ), for example using ravel().\n",
            "  return f(*args, **kwargs)\n",
            "/opt/conda/lib/python3.7/site-packages/sklearn/utils/validation.py:72: FutureWarning: Pass normalize=       y\n",
            "6      0\n",
            "18     0\n",
            "22     0\n",
            "24     0\n",
            "28     0\n",
            "...   ..\n",
            "41155  0\n",
            "41165  0\n",
            "41166  1\n",
            "41167  0\n",
            "41174  1\n",
            "\n",
            "[8236 rows x 1 columns] as keyword args. From version 1.0 (renaming of 0.25) passing these as positional arguments will result in an error\n",
            "  \"will result in an error\", FutureWarning)\n",
            "/opt/conda/lib/python3.7/site-packages/sklearn/model_selection/_validation.py:687: UserWarning: Scoring failed. The score on this train-test partition for these parameters will be set to nan. Details: \n",
            "Traceback (most recent call last):\n",
            "  File \"/opt/conda/lib/python3.7/site-packages/sklearn/model_selection/_validation.py\", line 674, in _score\n",
            "    scores = scorer(estimator, X_test, y_test)\n",
            "  File \"/opt/conda/lib/python3.7/site-packages/sklearn/utils/validation.py\", line 74, in inner_f\n",
            "    return f(**kwargs)\n",
            "  File \"/opt/conda/lib/python3.7/site-packages/sklearn/metrics/_classification.py\", line 202, in accuracy_score\n",
            "    y_type, y_true, y_pred = _check_targets(y_true, y_pred)\n",
            "  File \"/opt/conda/lib/python3.7/site-packages/sklearn/metrics/_classification.py\", line 83, in _check_targets\n",
            "    check_consistent_length(y_true, y_pred)\n",
            "  File \"/opt/conda/lib/python3.7/site-packages/sklearn/utils/validation.py\", line 259, in check_consistent_length\n",
            "    lengths = [_num_samples(X) for X in arrays if X is not None]\n",
            "  File \"/opt/conda/lib/python3.7/site-packages/sklearn/utils/validation.py\", line 259, in <listcomp>\n",
            "    lengths = [_num_samples(X) for X in arrays if X is not None]\n",
            "  File \"/opt/conda/lib/python3.7/site-packages/sklearn/utils/validation.py\", line 192, in _num_samples\n",
            "    raise TypeError(message)\n",
            "TypeError: Expected sequence or array-like, got <class 'sklearn.ensemble._bagging.BaggingClassifier'>\n",
            "\n",
            "  UserWarning,\n",
            "/opt/conda/lib/python3.7/site-packages/sklearn/utils/validation.py:63: DataConversionWarning: A column-vector y was passed when a 1d array was expected. Please change the shape of y to (n_samples, ), for example using ravel().\n",
            "  return f(*args, **kwargs)\n",
            "/opt/conda/lib/python3.7/site-packages/sklearn/utils/validation.py:72: FutureWarning: Pass normalize=       y\n",
            "3      0\n",
            "4      0\n",
            "7      0\n",
            "17     0\n",
            "29     0\n",
            "...   ..\n",
            "41157  0\n",
            "41161  1\n",
            "41169  1\n",
            "41172  0\n",
            "41175  0\n",
            "\n",
            "[8235 rows x 1 columns] as keyword args. From version 1.0 (renaming of 0.25) passing these as positional arguments will result in an error\n",
            "  \"will result in an error\", FutureWarning)\n",
            "/opt/conda/lib/python3.7/site-packages/sklearn/model_selection/_validation.py:687: UserWarning: Scoring failed. The score on this train-test partition for these parameters will be set to nan. Details: \n",
            "Traceback (most recent call last):\n",
            "  File \"/opt/conda/lib/python3.7/site-packages/sklearn/model_selection/_validation.py\", line 674, in _score\n",
            "    scores = scorer(estimator, X_test, y_test)\n",
            "  File \"/opt/conda/lib/python3.7/site-packages/sklearn/utils/validation.py\", line 74, in inner_f\n",
            "    return f(**kwargs)\n",
            "  File \"/opt/conda/lib/python3.7/site-packages/sklearn/metrics/_classification.py\", line 202, in accuracy_score\n",
            "    y_type, y_true, y_pred = _check_targets(y_true, y_pred)\n",
            "  File \"/opt/conda/lib/python3.7/site-packages/sklearn/metrics/_classification.py\", line 83, in _check_targets\n",
            "    check_consistent_length(y_true, y_pred)\n",
            "  File \"/opt/conda/lib/python3.7/site-packages/sklearn/utils/validation.py\", line 259, in check_consistent_length\n",
            "    lengths = [_num_samples(X) for X in arrays if X is not None]\n",
            "  File \"/opt/conda/lib/python3.7/site-packages/sklearn/utils/validation.py\", line 259, in <listcomp>\n",
            "    lengths = [_num_samples(X) for X in arrays if X is not None]\n",
            "  File \"/opt/conda/lib/python3.7/site-packages/sklearn/utils/validation.py\", line 192, in _num_samples\n",
            "    raise TypeError(message)\n",
            "TypeError: Expected sequence or array-like, got <class 'sklearn.ensemble._bagging.BaggingClassifier'>\n",
            "\n",
            "  UserWarning,\n",
            "/opt/conda/lib/python3.7/site-packages/sklearn/utils/validation.py:63: DataConversionWarning: A column-vector y was passed when a 1d array was expected. Please change the shape of y to (n_samples, ), for example using ravel().\n",
            "  return f(*args, **kwargs)\n",
            "/opt/conda/lib/python3.7/site-packages/sklearn/utils/validation.py:72: FutureWarning: Pass normalize=       y\n",
            "0      0\n",
            "8      0\n",
            "9      0\n",
            "12     0\n",
            "15     0\n",
            "...   ..\n",
            "41123  0\n",
            "41136  1\n",
            "41137  0\n",
            "41150  0\n",
            "41156  0\n",
            "\n",
            "[8235 rows x 1 columns] as keyword args. From version 1.0 (renaming of 0.25) passing these as positional arguments will result in an error\n",
            "  \"will result in an error\", FutureWarning)\n",
            "/opt/conda/lib/python3.7/site-packages/sklearn/model_selection/_validation.py:687: UserWarning: Scoring failed. The score on this train-test partition for these parameters will be set to nan. Details: \n",
            "Traceback (most recent call last):\n",
            "  File \"/opt/conda/lib/python3.7/site-packages/sklearn/model_selection/_validation.py\", line 674, in _score\n",
            "    scores = scorer(estimator, X_test, y_test)\n",
            "  File \"/opt/conda/lib/python3.7/site-packages/sklearn/utils/validation.py\", line 74, in inner_f\n",
            "    return f(**kwargs)\n",
            "  File \"/opt/conda/lib/python3.7/site-packages/sklearn/metrics/_classification.py\", line 202, in accuracy_score\n",
            "    y_type, y_true, y_pred = _check_targets(y_true, y_pred)\n",
            "  File \"/opt/conda/lib/python3.7/site-packages/sklearn/metrics/_classification.py\", line 83, in _check_targets\n",
            "    check_consistent_length(y_true, y_pred)\n",
            "  File \"/opt/conda/lib/python3.7/site-packages/sklearn/utils/validation.py\", line 259, in check_consistent_length\n",
            "    lengths = [_num_samples(X) for X in arrays if X is not None]\n",
            "  File \"/opt/conda/lib/python3.7/site-packages/sklearn/utils/validation.py\", line 259, in <listcomp>\n",
            "    lengths = [_num_samples(X) for X in arrays if X is not None]\n",
            "  File \"/opt/conda/lib/python3.7/site-packages/sklearn/utils/validation.py\", line 192, in _num_samples\n",
            "    raise TypeError(message)\n",
            "TypeError: Expected sequence or array-like, got <class 'sklearn.ensemble._bagging.BaggingClassifier'>\n",
            "\n",
            "  UserWarning,\n",
            "/opt/conda/lib/python3.7/site-packages/sklearn/utils/validation.py:63: DataConversionWarning: A column-vector y was passed when a 1d array was expected. Please change the shape of y to (n_samples, ), for example using ravel().\n",
            "  return f(*args, **kwargs)\n",
            "/opt/conda/lib/python3.7/site-packages/sklearn/utils/validation.py:72: FutureWarning: Pass normalize=       y\n",
            "1      0\n",
            "2      0\n",
            "5      0\n",
            "14     0\n",
            "20     0\n",
            "...   ..\n",
            "41160  1\n",
            "41163  0\n",
            "41164  0\n",
            "41170  0\n",
            "41171  1\n",
            "\n",
            "[8235 rows x 1 columns] as keyword args. From version 1.0 (renaming of 0.25) passing these as positional arguments will result in an error\n",
            "  \"will result in an error\", FutureWarning)\n",
            "/opt/conda/lib/python3.7/site-packages/sklearn/model_selection/_validation.py:687: UserWarning: Scoring failed. The score on this train-test partition for these parameters will be set to nan. Details: \n",
            "Traceback (most recent call last):\n",
            "  File \"/opt/conda/lib/python3.7/site-packages/sklearn/model_selection/_validation.py\", line 674, in _score\n",
            "    scores = scorer(estimator, X_test, y_test)\n",
            "  File \"/opt/conda/lib/python3.7/site-packages/sklearn/utils/validation.py\", line 74, in inner_f\n",
            "    return f(**kwargs)\n",
            "  File \"/opt/conda/lib/python3.7/site-packages/sklearn/metrics/_classification.py\", line 202, in accuracy_score\n",
            "    y_type, y_true, y_pred = _check_targets(y_true, y_pred)\n",
            "  File \"/opt/conda/lib/python3.7/site-packages/sklearn/metrics/_classification.py\", line 83, in _check_targets\n",
            "    check_consistent_length(y_true, y_pred)\n",
            "  File \"/opt/conda/lib/python3.7/site-packages/sklearn/utils/validation.py\", line 259, in check_consistent_length\n",
            "    lengths = [_num_samples(X) for X in arrays if X is not None]\n",
            "  File \"/opt/conda/lib/python3.7/site-packages/sklearn/utils/validation.py\", line 259, in <listcomp>\n",
            "    lengths = [_num_samples(X) for X in arrays if X is not None]\n",
            "  File \"/opt/conda/lib/python3.7/site-packages/sklearn/utils/validation.py\", line 192, in _num_samples\n",
            "    raise TypeError(message)\n",
            "TypeError: Expected sequence or array-like, got <class 'sklearn.ensemble._bagging.BaggingClassifier'>\n",
            "\n",
            "  UserWarning,\n",
            "/opt/conda/lib/python3.7/site-packages/sklearn/utils/validation.py:63: DataConversionWarning: A column-vector y was passed when a 1d array was expected. Please change the shape of y to (n_samples, ), for example using ravel().\n",
            "  return f(*args, **kwargs)\n",
            "/opt/conda/lib/python3.7/site-packages/sklearn/utils/validation.py:72: FutureWarning: Pass normalize=       y\n",
            "10     0\n",
            "11     0\n",
            "13     0\n",
            "19     0\n",
            "21     0\n",
            "...   ..\n",
            "41148  1\n",
            "41159  1\n",
            "41162  1\n",
            "41168  0\n",
            "41173  0\n",
            "\n",
            "[8235 rows x 1 columns] as keyword args. From version 1.0 (renaming of 0.25) passing these as positional arguments will result in an error\n",
            "  \"will result in an error\", FutureWarning)\n",
            "/opt/conda/lib/python3.7/site-packages/sklearn/model_selection/_validation.py:687: UserWarning: Scoring failed. The score on this train-test partition for these parameters will be set to nan. Details: \n",
            "Traceback (most recent call last):\n",
            "  File \"/opt/conda/lib/python3.7/site-packages/sklearn/model_selection/_validation.py\", line 674, in _score\n",
            "    scores = scorer(estimator, X_test, y_test)\n",
            "  File \"/opt/conda/lib/python3.7/site-packages/sklearn/utils/validation.py\", line 74, in inner_f\n",
            "    return f(**kwargs)\n",
            "  File \"/opt/conda/lib/python3.7/site-packages/sklearn/metrics/_classification.py\", line 202, in accuracy_score\n",
            "    y_type, y_true, y_pred = _check_targets(y_true, y_pred)\n",
            "  File \"/opt/conda/lib/python3.7/site-packages/sklearn/metrics/_classification.py\", line 83, in _check_targets\n",
            "    check_consistent_length(y_true, y_pred)\n",
            "  File \"/opt/conda/lib/python3.7/site-packages/sklearn/utils/validation.py\", line 259, in check_consistent_length\n",
            "    lengths = [_num_samples(X) for X in arrays if X is not None]\n",
            "  File \"/opt/conda/lib/python3.7/site-packages/sklearn/utils/validation.py\", line 259, in <listcomp>\n",
            "    lengths = [_num_samples(X) for X in arrays if X is not None]\n",
            "  File \"/opt/conda/lib/python3.7/site-packages/sklearn/utils/validation.py\", line 192, in _num_samples\n",
            "    raise TypeError(message)\n",
            "TypeError: Expected sequence or array-like, got <class 'sklearn.ensemble._bagging.BaggingClassifier'>\n",
            "\n",
            "  UserWarning,\n",
            "/opt/conda/lib/python3.7/site-packages/sklearn/utils/validation.py:63: DataConversionWarning: A column-vector y was passed when a 1d array was expected. Please change the shape of y to (n_samples, ), for example using ravel().\n",
            "  return f(*args, **kwargs)\n",
            "/opt/conda/lib/python3.7/site-packages/sklearn/utils/validation.py:72: FutureWarning: Pass normalize=       y\n",
            "6      0\n",
            "18     0\n",
            "22     0\n",
            "24     0\n",
            "28     0\n",
            "...   ..\n",
            "41155  0\n",
            "41165  0\n",
            "41166  1\n",
            "41167  0\n",
            "41174  1\n",
            "\n",
            "[8236 rows x 1 columns] as keyword args. From version 1.0 (renaming of 0.25) passing these as positional arguments will result in an error\n",
            "  \"will result in an error\", FutureWarning)\n",
            "/opt/conda/lib/python3.7/site-packages/sklearn/model_selection/_validation.py:687: UserWarning: Scoring failed. The score on this train-test partition for these parameters will be set to nan. Details: \n",
            "Traceback (most recent call last):\n",
            "  File \"/opt/conda/lib/python3.7/site-packages/sklearn/model_selection/_validation.py\", line 674, in _score\n",
            "    scores = scorer(estimator, X_test, y_test)\n",
            "  File \"/opt/conda/lib/python3.7/site-packages/sklearn/utils/validation.py\", line 74, in inner_f\n",
            "    return f(**kwargs)\n",
            "  File \"/opt/conda/lib/python3.7/site-packages/sklearn/metrics/_classification.py\", line 202, in accuracy_score\n",
            "    y_type, y_true, y_pred = _check_targets(y_true, y_pred)\n",
            "  File \"/opt/conda/lib/python3.7/site-packages/sklearn/metrics/_classification.py\", line 83, in _check_targets\n",
            "    check_consistent_length(y_true, y_pred)\n",
            "  File \"/opt/conda/lib/python3.7/site-packages/sklearn/utils/validation.py\", line 259, in check_consistent_length\n",
            "    lengths = [_num_samples(X) for X in arrays if X is not None]\n",
            "  File \"/opt/conda/lib/python3.7/site-packages/sklearn/utils/validation.py\", line 259, in <listcomp>\n",
            "    lengths = [_num_samples(X) for X in arrays if X is not None]\n",
            "  File \"/opt/conda/lib/python3.7/site-packages/sklearn/utils/validation.py\", line 192, in _num_samples\n",
            "    raise TypeError(message)\n",
            "TypeError: Expected sequence or array-like, got <class 'sklearn.ensemble._bagging.BaggingClassifier'>\n",
            "\n",
            "  UserWarning,\n",
            "/opt/conda/lib/python3.7/site-packages/sklearn/utils/validation.py:63: DataConversionWarning: A column-vector y was passed when a 1d array was expected. Please change the shape of y to (n_samples, ), for example using ravel().\n",
            "  return f(*args, **kwargs)\n",
            "/opt/conda/lib/python3.7/site-packages/sklearn/utils/validation.py:72: FutureWarning: Pass normalize=       y\n",
            "3      0\n",
            "4      0\n",
            "7      0\n",
            "17     0\n",
            "29     0\n",
            "...   ..\n",
            "41157  0\n",
            "41161  1\n",
            "41169  1\n",
            "41172  0\n",
            "41175  0\n",
            "\n",
            "[8235 rows x 1 columns] as keyword args. From version 1.0 (renaming of 0.25) passing these as positional arguments will result in an error\n",
            "  \"will result in an error\", FutureWarning)\n",
            "/opt/conda/lib/python3.7/site-packages/sklearn/model_selection/_validation.py:687: UserWarning: Scoring failed. The score on this train-test partition for these parameters will be set to nan. Details: \n",
            "Traceback (most recent call last):\n",
            "  File \"/opt/conda/lib/python3.7/site-packages/sklearn/model_selection/_validation.py\", line 674, in _score\n",
            "    scores = scorer(estimator, X_test, y_test)\n",
            "  File \"/opt/conda/lib/python3.7/site-packages/sklearn/utils/validation.py\", line 74, in inner_f\n",
            "    return f(**kwargs)\n",
            "  File \"/opt/conda/lib/python3.7/site-packages/sklearn/metrics/_classification.py\", line 202, in accuracy_score\n",
            "    y_type, y_true, y_pred = _check_targets(y_true, y_pred)\n",
            "  File \"/opt/conda/lib/python3.7/site-packages/sklearn/metrics/_classification.py\", line 83, in _check_targets\n",
            "    check_consistent_length(y_true, y_pred)\n",
            "  File \"/opt/conda/lib/python3.7/site-packages/sklearn/utils/validation.py\", line 259, in check_consistent_length\n",
            "    lengths = [_num_samples(X) for X in arrays if X is not None]\n",
            "  File \"/opt/conda/lib/python3.7/site-packages/sklearn/utils/validation.py\", line 259, in <listcomp>\n",
            "    lengths = [_num_samples(X) for X in arrays if X is not None]\n",
            "  File \"/opt/conda/lib/python3.7/site-packages/sklearn/utils/validation.py\", line 192, in _num_samples\n",
            "    raise TypeError(message)\n",
            "TypeError: Expected sequence or array-like, got <class 'sklearn.ensemble._bagging.BaggingClassifier'>\n",
            "\n",
            "  UserWarning,\n",
            "/opt/conda/lib/python3.7/site-packages/sklearn/utils/validation.py:63: DataConversionWarning: A column-vector y was passed when a 1d array was expected. Please change the shape of y to (n_samples, ), for example using ravel().\n",
            "  return f(*args, **kwargs)\n",
            "/opt/conda/lib/python3.7/site-packages/sklearn/utils/validation.py:72: FutureWarning: Pass normalize=       y\n",
            "0      0\n",
            "8      0\n",
            "9      0\n",
            "12     0\n",
            "15     0\n",
            "...   ..\n",
            "41123  0\n",
            "41136  1\n",
            "41137  0\n",
            "41150  0\n",
            "41156  0\n",
            "\n",
            "[8235 rows x 1 columns] as keyword args. From version 1.0 (renaming of 0.25) passing these as positional arguments will result in an error\n",
            "  \"will result in an error\", FutureWarning)\n",
            "/opt/conda/lib/python3.7/site-packages/sklearn/model_selection/_validation.py:687: UserWarning: Scoring failed. The score on this train-test partition for these parameters will be set to nan. Details: \n",
            "Traceback (most recent call last):\n",
            "  File \"/opt/conda/lib/python3.7/site-packages/sklearn/model_selection/_validation.py\", line 674, in _score\n",
            "    scores = scorer(estimator, X_test, y_test)\n",
            "  File \"/opt/conda/lib/python3.7/site-packages/sklearn/utils/validation.py\", line 74, in inner_f\n",
            "    return f(**kwargs)\n",
            "  File \"/opt/conda/lib/python3.7/site-packages/sklearn/metrics/_classification.py\", line 202, in accuracy_score\n",
            "    y_type, y_true, y_pred = _check_targets(y_true, y_pred)\n",
            "  File \"/opt/conda/lib/python3.7/site-packages/sklearn/metrics/_classification.py\", line 83, in _check_targets\n",
            "    check_consistent_length(y_true, y_pred)\n",
            "  File \"/opt/conda/lib/python3.7/site-packages/sklearn/utils/validation.py\", line 259, in check_consistent_length\n",
            "    lengths = [_num_samples(X) for X in arrays if X is not None]\n",
            "  File \"/opt/conda/lib/python3.7/site-packages/sklearn/utils/validation.py\", line 259, in <listcomp>\n",
            "    lengths = [_num_samples(X) for X in arrays if X is not None]\n",
            "  File \"/opt/conda/lib/python3.7/site-packages/sklearn/utils/validation.py\", line 192, in _num_samples\n",
            "    raise TypeError(message)\n",
            "TypeError: Expected sequence or array-like, got <class 'sklearn.ensemble._bagging.BaggingClassifier'>\n",
            "\n",
            "  UserWarning,\n",
            "/opt/conda/lib/python3.7/site-packages/sklearn/utils/validation.py:63: DataConversionWarning: A column-vector y was passed when a 1d array was expected. Please change the shape of y to (n_samples, ), for example using ravel().\n",
            "  return f(*args, **kwargs)\n",
            "/opt/conda/lib/python3.7/site-packages/sklearn/utils/validation.py:72: FutureWarning: Pass normalize=       y\n",
            "1      0\n",
            "2      0\n",
            "5      0\n",
            "14     0\n",
            "20     0\n",
            "...   ..\n",
            "41160  1\n",
            "41163  0\n",
            "41164  0\n",
            "41170  0\n",
            "41171  1\n",
            "\n",
            "[8235 rows x 1 columns] as keyword args. From version 1.0 (renaming of 0.25) passing these as positional arguments will result in an error\n",
            "  \"will result in an error\", FutureWarning)\n",
            "/opt/conda/lib/python3.7/site-packages/sklearn/model_selection/_validation.py:687: UserWarning: Scoring failed. The score on this train-test partition for these parameters will be set to nan. Details: \n",
            "Traceback (most recent call last):\n",
            "  File \"/opt/conda/lib/python3.7/site-packages/sklearn/model_selection/_validation.py\", line 674, in _score\n",
            "    scores = scorer(estimator, X_test, y_test)\n",
            "  File \"/opt/conda/lib/python3.7/site-packages/sklearn/utils/validation.py\", line 74, in inner_f\n",
            "    return f(**kwargs)\n",
            "  File \"/opt/conda/lib/python3.7/site-packages/sklearn/metrics/_classification.py\", line 202, in accuracy_score\n",
            "    y_type, y_true, y_pred = _check_targets(y_true, y_pred)\n",
            "  File \"/opt/conda/lib/python3.7/site-packages/sklearn/metrics/_classification.py\", line 83, in _check_targets\n",
            "    check_consistent_length(y_true, y_pred)\n",
            "  File \"/opt/conda/lib/python3.7/site-packages/sklearn/utils/validation.py\", line 259, in check_consistent_length\n",
            "    lengths = [_num_samples(X) for X in arrays if X is not None]\n",
            "  File \"/opt/conda/lib/python3.7/site-packages/sklearn/utils/validation.py\", line 259, in <listcomp>\n",
            "    lengths = [_num_samples(X) for X in arrays if X is not None]\n",
            "  File \"/opt/conda/lib/python3.7/site-packages/sklearn/utils/validation.py\", line 192, in _num_samples\n",
            "    raise TypeError(message)\n",
            "TypeError: Expected sequence or array-like, got <class 'sklearn.ensemble._bagging.BaggingClassifier'>\n",
            "\n",
            "  UserWarning,\n",
            "/opt/conda/lib/python3.7/site-packages/sklearn/utils/validation.py:63: DataConversionWarning: A column-vector y was passed when a 1d array was expected. Please change the shape of y to (n_samples, ), for example using ravel().\n",
            "  return f(*args, **kwargs)\n",
            "/opt/conda/lib/python3.7/site-packages/sklearn/utils/validation.py:72: FutureWarning: Pass normalize=       y\n",
            "10     0\n",
            "11     0\n",
            "13     0\n",
            "19     0\n",
            "21     0\n",
            "...   ..\n",
            "41148  1\n",
            "41159  1\n",
            "41162  1\n",
            "41168  0\n",
            "41173  0\n",
            "\n",
            "[8235 rows x 1 columns] as keyword args. From version 1.0 (renaming of 0.25) passing these as positional arguments will result in an error\n",
            "  \"will result in an error\", FutureWarning)\n",
            "/opt/conda/lib/python3.7/site-packages/sklearn/model_selection/_validation.py:687: UserWarning: Scoring failed. The score on this train-test partition for these parameters will be set to nan. Details: \n",
            "Traceback (most recent call last):\n",
            "  File \"/opt/conda/lib/python3.7/site-packages/sklearn/model_selection/_validation.py\", line 674, in _score\n",
            "    scores = scorer(estimator, X_test, y_test)\n",
            "  File \"/opt/conda/lib/python3.7/site-packages/sklearn/utils/validation.py\", line 74, in inner_f\n",
            "    return f(**kwargs)\n",
            "  File \"/opt/conda/lib/python3.7/site-packages/sklearn/metrics/_classification.py\", line 202, in accuracy_score\n",
            "    y_type, y_true, y_pred = _check_targets(y_true, y_pred)\n",
            "  File \"/opt/conda/lib/python3.7/site-packages/sklearn/metrics/_classification.py\", line 83, in _check_targets\n",
            "    check_consistent_length(y_true, y_pred)\n",
            "  File \"/opt/conda/lib/python3.7/site-packages/sklearn/utils/validation.py\", line 259, in check_consistent_length\n",
            "    lengths = [_num_samples(X) for X in arrays if X is not None]\n",
            "  File \"/opt/conda/lib/python3.7/site-packages/sklearn/utils/validation.py\", line 259, in <listcomp>\n",
            "    lengths = [_num_samples(X) for X in arrays if X is not None]\n",
            "  File \"/opt/conda/lib/python3.7/site-packages/sklearn/utils/validation.py\", line 192, in _num_samples\n",
            "    raise TypeError(message)\n",
            "TypeError: Expected sequence or array-like, got <class 'sklearn.ensemble._bagging.BaggingClassifier'>\n",
            "\n",
            "  UserWarning,\n",
            "/opt/conda/lib/python3.7/site-packages/sklearn/utils/validation.py:63: DataConversionWarning: A column-vector y was passed when a 1d array was expected. Please change the shape of y to (n_samples, ), for example using ravel().\n",
            "  return f(*args, **kwargs)\n",
            "/opt/conda/lib/python3.7/site-packages/sklearn/utils/validation.py:72: FutureWarning: Pass normalize=       y\n",
            "6      0\n",
            "18     0\n",
            "22     0\n",
            "24     0\n",
            "28     0\n",
            "...   ..\n",
            "41155  0\n",
            "41165  0\n",
            "41166  1\n",
            "41167  0\n",
            "41174  1\n",
            "\n",
            "[8236 rows x 1 columns] as keyword args. From version 1.0 (renaming of 0.25) passing these as positional arguments will result in an error\n",
            "  \"will result in an error\", FutureWarning)\n",
            "/opt/conda/lib/python3.7/site-packages/sklearn/model_selection/_validation.py:687: UserWarning: Scoring failed. The score on this train-test partition for these parameters will be set to nan. Details: \n",
            "Traceback (most recent call last):\n",
            "  File \"/opt/conda/lib/python3.7/site-packages/sklearn/model_selection/_validation.py\", line 674, in _score\n",
            "    scores = scorer(estimator, X_test, y_test)\n",
            "  File \"/opt/conda/lib/python3.7/site-packages/sklearn/utils/validation.py\", line 74, in inner_f\n",
            "    return f(**kwargs)\n",
            "  File \"/opt/conda/lib/python3.7/site-packages/sklearn/metrics/_classification.py\", line 202, in accuracy_score\n",
            "    y_type, y_true, y_pred = _check_targets(y_true, y_pred)\n",
            "  File \"/opt/conda/lib/python3.7/site-packages/sklearn/metrics/_classification.py\", line 83, in _check_targets\n",
            "    check_consistent_length(y_true, y_pred)\n",
            "  File \"/opt/conda/lib/python3.7/site-packages/sklearn/utils/validation.py\", line 259, in check_consistent_length\n",
            "    lengths = [_num_samples(X) for X in arrays if X is not None]\n",
            "  File \"/opt/conda/lib/python3.7/site-packages/sklearn/utils/validation.py\", line 259, in <listcomp>\n",
            "    lengths = [_num_samples(X) for X in arrays if X is not None]\n",
            "  File \"/opt/conda/lib/python3.7/site-packages/sklearn/utils/validation.py\", line 192, in _num_samples\n",
            "    raise TypeError(message)\n",
            "TypeError: Expected sequence or array-like, got <class 'sklearn.ensemble._bagging.BaggingClassifier'>\n",
            "\n",
            "  UserWarning,\n",
            "/opt/conda/lib/python3.7/site-packages/sklearn/utils/validation.py:63: DataConversionWarning: A column-vector y was passed when a 1d array was expected. Please change the shape of y to (n_samples, ), for example using ravel().\n",
            "  return f(*args, **kwargs)\n",
            "/opt/conda/lib/python3.7/site-packages/sklearn/utils/validation.py:72: FutureWarning: Pass normalize=       y\n",
            "3      0\n",
            "4      0\n",
            "7      0\n",
            "17     0\n",
            "29     0\n",
            "...   ..\n",
            "41157  0\n",
            "41161  1\n",
            "41169  1\n",
            "41172  0\n",
            "41175  0\n",
            "\n",
            "[8235 rows x 1 columns] as keyword args. From version 1.0 (renaming of 0.25) passing these as positional arguments will result in an error\n",
            "  \"will result in an error\", FutureWarning)\n",
            "/opt/conda/lib/python3.7/site-packages/sklearn/model_selection/_validation.py:687: UserWarning: Scoring failed. The score on this train-test partition for these parameters will be set to nan. Details: \n",
            "Traceback (most recent call last):\n",
            "  File \"/opt/conda/lib/python3.7/site-packages/sklearn/model_selection/_validation.py\", line 674, in _score\n",
            "    scores = scorer(estimator, X_test, y_test)\n",
            "  File \"/opt/conda/lib/python3.7/site-packages/sklearn/utils/validation.py\", line 74, in inner_f\n",
            "    return f(**kwargs)\n",
            "  File \"/opt/conda/lib/python3.7/site-packages/sklearn/metrics/_classification.py\", line 202, in accuracy_score\n",
            "    y_type, y_true, y_pred = _check_targets(y_true, y_pred)\n",
            "  File \"/opt/conda/lib/python3.7/site-packages/sklearn/metrics/_classification.py\", line 83, in _check_targets\n",
            "    check_consistent_length(y_true, y_pred)\n",
            "  File \"/opt/conda/lib/python3.7/site-packages/sklearn/utils/validation.py\", line 259, in check_consistent_length\n",
            "    lengths = [_num_samples(X) for X in arrays if X is not None]\n",
            "  File \"/opt/conda/lib/python3.7/site-packages/sklearn/utils/validation.py\", line 259, in <listcomp>\n",
            "    lengths = [_num_samples(X) for X in arrays if X is not None]\n",
            "  File \"/opt/conda/lib/python3.7/site-packages/sklearn/utils/validation.py\", line 192, in _num_samples\n",
            "    raise TypeError(message)\n",
            "TypeError: Expected sequence or array-like, got <class 'sklearn.ensemble._bagging.BaggingClassifier'>\n",
            "\n",
            "  UserWarning,\n",
            "/opt/conda/lib/python3.7/site-packages/sklearn/utils/validation.py:63: DataConversionWarning: A column-vector y was passed when a 1d array was expected. Please change the shape of y to (n_samples, ), for example using ravel().\n",
            "  return f(*args, **kwargs)\n",
            "/opt/conda/lib/python3.7/site-packages/sklearn/utils/validation.py:72: FutureWarning: Pass normalize=       y\n",
            "0      0\n",
            "8      0\n",
            "9      0\n",
            "12     0\n",
            "15     0\n",
            "...   ..\n",
            "41123  0\n",
            "41136  1\n",
            "41137  0\n",
            "41150  0\n",
            "41156  0\n",
            "\n",
            "[8235 rows x 1 columns] as keyword args. From version 1.0 (renaming of 0.25) passing these as positional arguments will result in an error\n",
            "  \"will result in an error\", FutureWarning)\n",
            "/opt/conda/lib/python3.7/site-packages/sklearn/model_selection/_validation.py:687: UserWarning: Scoring failed. The score on this train-test partition for these parameters will be set to nan. Details: \n",
            "Traceback (most recent call last):\n",
            "  File \"/opt/conda/lib/python3.7/site-packages/sklearn/model_selection/_validation.py\", line 674, in _score\n",
            "    scores = scorer(estimator, X_test, y_test)\n",
            "  File \"/opt/conda/lib/python3.7/site-packages/sklearn/utils/validation.py\", line 74, in inner_f\n",
            "    return f(**kwargs)\n",
            "  File \"/opt/conda/lib/python3.7/site-packages/sklearn/metrics/_classification.py\", line 202, in accuracy_score\n",
            "    y_type, y_true, y_pred = _check_targets(y_true, y_pred)\n",
            "  File \"/opt/conda/lib/python3.7/site-packages/sklearn/metrics/_classification.py\", line 83, in _check_targets\n",
            "    check_consistent_length(y_true, y_pred)\n",
            "  File \"/opt/conda/lib/python3.7/site-packages/sklearn/utils/validation.py\", line 259, in check_consistent_length\n",
            "    lengths = [_num_samples(X) for X in arrays if X is not None]\n",
            "  File \"/opt/conda/lib/python3.7/site-packages/sklearn/utils/validation.py\", line 259, in <listcomp>\n",
            "    lengths = [_num_samples(X) for X in arrays if X is not None]\n",
            "  File \"/opt/conda/lib/python3.7/site-packages/sklearn/utils/validation.py\", line 192, in _num_samples\n",
            "    raise TypeError(message)\n",
            "TypeError: Expected sequence or array-like, got <class 'sklearn.ensemble._bagging.BaggingClassifier'>\n",
            "\n",
            "  UserWarning,\n",
            "/opt/conda/lib/python3.7/site-packages/sklearn/utils/validation.py:63: DataConversionWarning: A column-vector y was passed when a 1d array was expected. Please change the shape of y to (n_samples, ), for example using ravel().\n",
            "  return f(*args, **kwargs)\n",
            "/opt/conda/lib/python3.7/site-packages/sklearn/utils/validation.py:72: FutureWarning: Pass normalize=       y\n",
            "1      0\n",
            "2      0\n",
            "5      0\n",
            "14     0\n",
            "20     0\n",
            "...   ..\n",
            "41160  1\n",
            "41163  0\n",
            "41164  0\n",
            "41170  0\n",
            "41171  1\n",
            "\n",
            "[8235 rows x 1 columns] as keyword args. From version 1.0 (renaming of 0.25) passing these as positional arguments will result in an error\n",
            "  \"will result in an error\", FutureWarning)\n",
            "/opt/conda/lib/python3.7/site-packages/sklearn/model_selection/_validation.py:687: UserWarning: Scoring failed. The score on this train-test partition for these parameters will be set to nan. Details: \n",
            "Traceback (most recent call last):\n",
            "  File \"/opt/conda/lib/python3.7/site-packages/sklearn/model_selection/_validation.py\", line 674, in _score\n",
            "    scores = scorer(estimator, X_test, y_test)\n",
            "  File \"/opt/conda/lib/python3.7/site-packages/sklearn/utils/validation.py\", line 74, in inner_f\n",
            "    return f(**kwargs)\n",
            "  File \"/opt/conda/lib/python3.7/site-packages/sklearn/metrics/_classification.py\", line 202, in accuracy_score\n",
            "    y_type, y_true, y_pred = _check_targets(y_true, y_pred)\n",
            "  File \"/opt/conda/lib/python3.7/site-packages/sklearn/metrics/_classification.py\", line 83, in _check_targets\n",
            "    check_consistent_length(y_true, y_pred)\n",
            "  File \"/opt/conda/lib/python3.7/site-packages/sklearn/utils/validation.py\", line 259, in check_consistent_length\n",
            "    lengths = [_num_samples(X) for X in arrays if X is not None]\n",
            "  File \"/opt/conda/lib/python3.7/site-packages/sklearn/utils/validation.py\", line 259, in <listcomp>\n",
            "    lengths = [_num_samples(X) for X in arrays if X is not None]\n",
            "  File \"/opt/conda/lib/python3.7/site-packages/sklearn/utils/validation.py\", line 192, in _num_samples\n",
            "    raise TypeError(message)\n",
            "TypeError: Expected sequence or array-like, got <class 'sklearn.ensemble._bagging.BaggingClassifier'>\n",
            "\n",
            "  UserWarning,\n",
            "/opt/conda/lib/python3.7/site-packages/sklearn/utils/validation.py:63: DataConversionWarning: A column-vector y was passed when a 1d array was expected. Please change the shape of y to (n_samples, ), for example using ravel().\n",
            "  return f(*args, **kwargs)\n",
            "/opt/conda/lib/python3.7/site-packages/sklearn/utils/validation.py:72: FutureWarning: Pass normalize=       y\n",
            "10     0\n",
            "11     0\n",
            "13     0\n",
            "19     0\n",
            "21     0\n",
            "...   ..\n",
            "41148  1\n",
            "41159  1\n",
            "41162  1\n",
            "41168  0\n",
            "41173  0\n",
            "\n",
            "[8235 rows x 1 columns] as keyword args. From version 1.0 (renaming of 0.25) passing these as positional arguments will result in an error\n",
            "  \"will result in an error\", FutureWarning)\n",
            "/opt/conda/lib/python3.7/site-packages/sklearn/model_selection/_validation.py:687: UserWarning: Scoring failed. The score on this train-test partition for these parameters will be set to nan. Details: \n",
            "Traceback (most recent call last):\n",
            "  File \"/opt/conda/lib/python3.7/site-packages/sklearn/model_selection/_validation.py\", line 674, in _score\n",
            "    scores = scorer(estimator, X_test, y_test)\n",
            "  File \"/opt/conda/lib/python3.7/site-packages/sklearn/utils/validation.py\", line 74, in inner_f\n",
            "    return f(**kwargs)\n",
            "  File \"/opt/conda/lib/python3.7/site-packages/sklearn/metrics/_classification.py\", line 202, in accuracy_score\n",
            "    y_type, y_true, y_pred = _check_targets(y_true, y_pred)\n",
            "  File \"/opt/conda/lib/python3.7/site-packages/sklearn/metrics/_classification.py\", line 83, in _check_targets\n",
            "    check_consistent_length(y_true, y_pred)\n",
            "  File \"/opt/conda/lib/python3.7/site-packages/sklearn/utils/validation.py\", line 259, in check_consistent_length\n",
            "    lengths = [_num_samples(X) for X in arrays if X is not None]\n",
            "  File \"/opt/conda/lib/python3.7/site-packages/sklearn/utils/validation.py\", line 259, in <listcomp>\n",
            "    lengths = [_num_samples(X) for X in arrays if X is not None]\n",
            "  File \"/opt/conda/lib/python3.7/site-packages/sklearn/utils/validation.py\", line 192, in _num_samples\n",
            "    raise TypeError(message)\n",
            "TypeError: Expected sequence or array-like, got <class 'sklearn.ensemble._bagging.BaggingClassifier'>\n",
            "\n",
            "  UserWarning,\n",
            "/opt/conda/lib/python3.7/site-packages/sklearn/utils/validation.py:63: DataConversionWarning: A column-vector y was passed when a 1d array was expected. Please change the shape of y to (n_samples, ), for example using ravel().\n",
            "  return f(*args, **kwargs)\n",
            "/opt/conda/lib/python3.7/site-packages/sklearn/utils/validation.py:72: FutureWarning: Pass normalize=       y\n",
            "6      0\n",
            "18     0\n",
            "22     0\n",
            "24     0\n",
            "28     0\n",
            "...   ..\n",
            "41155  0\n",
            "41165  0\n",
            "41166  1\n",
            "41167  0\n",
            "41174  1\n",
            "\n",
            "[8236 rows x 1 columns] as keyword args. From version 1.0 (renaming of 0.25) passing these as positional arguments will result in an error\n",
            "  \"will result in an error\", FutureWarning)\n",
            "/opt/conda/lib/python3.7/site-packages/sklearn/model_selection/_validation.py:687: UserWarning: Scoring failed. The score on this train-test partition for these parameters will be set to nan. Details: \n",
            "Traceback (most recent call last):\n",
            "  File \"/opt/conda/lib/python3.7/site-packages/sklearn/model_selection/_validation.py\", line 674, in _score\n",
            "    scores = scorer(estimator, X_test, y_test)\n",
            "  File \"/opt/conda/lib/python3.7/site-packages/sklearn/utils/validation.py\", line 74, in inner_f\n",
            "    return f(**kwargs)\n",
            "  File \"/opt/conda/lib/python3.7/site-packages/sklearn/metrics/_classification.py\", line 202, in accuracy_score\n",
            "    y_type, y_true, y_pred = _check_targets(y_true, y_pred)\n",
            "  File \"/opt/conda/lib/python3.7/site-packages/sklearn/metrics/_classification.py\", line 83, in _check_targets\n",
            "    check_consistent_length(y_true, y_pred)\n",
            "  File \"/opt/conda/lib/python3.7/site-packages/sklearn/utils/validation.py\", line 259, in check_consistent_length\n",
            "    lengths = [_num_samples(X) for X in arrays if X is not None]\n",
            "  File \"/opt/conda/lib/python3.7/site-packages/sklearn/utils/validation.py\", line 259, in <listcomp>\n",
            "    lengths = [_num_samples(X) for X in arrays if X is not None]\n",
            "  File \"/opt/conda/lib/python3.7/site-packages/sklearn/utils/validation.py\", line 192, in _num_samples\n",
            "    raise TypeError(message)\n",
            "TypeError: Expected sequence or array-like, got <class 'sklearn.ensemble._bagging.BaggingClassifier'>\n",
            "\n",
            "  UserWarning,\n",
            "/opt/conda/lib/python3.7/site-packages/sklearn/utils/validation.py:63: DataConversionWarning: A column-vector y was passed when a 1d array was expected. Please change the shape of y to (n_samples, ), for example using ravel().\n",
            "  return f(*args, **kwargs)\n",
            "/opt/conda/lib/python3.7/site-packages/sklearn/utils/validation.py:72: FutureWarning: Pass normalize=       y\n",
            "3      0\n",
            "4      0\n",
            "7      0\n",
            "17     0\n",
            "29     0\n",
            "...   ..\n",
            "41157  0\n",
            "41161  1\n",
            "41169  1\n",
            "41172  0\n",
            "41175  0\n",
            "\n",
            "[8235 rows x 1 columns] as keyword args. From version 1.0 (renaming of 0.25) passing these as positional arguments will result in an error\n",
            "  \"will result in an error\", FutureWarning)\n",
            "/opt/conda/lib/python3.7/site-packages/sklearn/model_selection/_validation.py:687: UserWarning: Scoring failed. The score on this train-test partition for these parameters will be set to nan. Details: \n",
            "Traceback (most recent call last):\n",
            "  File \"/opt/conda/lib/python3.7/site-packages/sklearn/model_selection/_validation.py\", line 674, in _score\n",
            "    scores = scorer(estimator, X_test, y_test)\n",
            "  File \"/opt/conda/lib/python3.7/site-packages/sklearn/utils/validation.py\", line 74, in inner_f\n",
            "    return f(**kwargs)\n",
            "  File \"/opt/conda/lib/python3.7/site-packages/sklearn/metrics/_classification.py\", line 202, in accuracy_score\n",
            "    y_type, y_true, y_pred = _check_targets(y_true, y_pred)\n",
            "  File \"/opt/conda/lib/python3.7/site-packages/sklearn/metrics/_classification.py\", line 83, in _check_targets\n",
            "    check_consistent_length(y_true, y_pred)\n",
            "  File \"/opt/conda/lib/python3.7/site-packages/sklearn/utils/validation.py\", line 259, in check_consistent_length\n",
            "    lengths = [_num_samples(X) for X in arrays if X is not None]\n",
            "  File \"/opt/conda/lib/python3.7/site-packages/sklearn/utils/validation.py\", line 259, in <listcomp>\n",
            "    lengths = [_num_samples(X) for X in arrays if X is not None]\n",
            "  File \"/opt/conda/lib/python3.7/site-packages/sklearn/utils/validation.py\", line 192, in _num_samples\n",
            "    raise TypeError(message)\n",
            "TypeError: Expected sequence or array-like, got <class 'sklearn.ensemble._bagging.BaggingClassifier'>\n",
            "\n",
            "  UserWarning,\n",
            "/opt/conda/lib/python3.7/site-packages/sklearn/utils/validation.py:63: DataConversionWarning: A column-vector y was passed when a 1d array was expected. Please change the shape of y to (n_samples, ), for example using ravel().\n",
            "  return f(*args, **kwargs)\n",
            "/opt/conda/lib/python3.7/site-packages/sklearn/utils/validation.py:72: FutureWarning: Pass normalize=       y\n",
            "0      0\n",
            "8      0\n",
            "9      0\n",
            "12     0\n",
            "15     0\n",
            "...   ..\n",
            "41123  0\n",
            "41136  1\n",
            "41137  0\n",
            "41150  0\n",
            "41156  0\n",
            "\n",
            "[8235 rows x 1 columns] as keyword args. From version 1.0 (renaming of 0.25) passing these as positional arguments will result in an error\n",
            "  \"will result in an error\", FutureWarning)\n",
            "/opt/conda/lib/python3.7/site-packages/sklearn/model_selection/_validation.py:687: UserWarning: Scoring failed. The score on this train-test partition for these parameters will be set to nan. Details: \n",
            "Traceback (most recent call last):\n",
            "  File \"/opt/conda/lib/python3.7/site-packages/sklearn/model_selection/_validation.py\", line 674, in _score\n",
            "    scores = scorer(estimator, X_test, y_test)\n",
            "  File \"/opt/conda/lib/python3.7/site-packages/sklearn/utils/validation.py\", line 74, in inner_f\n",
            "    return f(**kwargs)\n",
            "  File \"/opt/conda/lib/python3.7/site-packages/sklearn/metrics/_classification.py\", line 202, in accuracy_score\n",
            "    y_type, y_true, y_pred = _check_targets(y_true, y_pred)\n",
            "  File \"/opt/conda/lib/python3.7/site-packages/sklearn/metrics/_classification.py\", line 83, in _check_targets\n",
            "    check_consistent_length(y_true, y_pred)\n",
            "  File \"/opt/conda/lib/python3.7/site-packages/sklearn/utils/validation.py\", line 259, in check_consistent_length\n",
            "    lengths = [_num_samples(X) for X in arrays if X is not None]\n",
            "  File \"/opt/conda/lib/python3.7/site-packages/sklearn/utils/validation.py\", line 259, in <listcomp>\n",
            "    lengths = [_num_samples(X) for X in arrays if X is not None]\n",
            "  File \"/opt/conda/lib/python3.7/site-packages/sklearn/utils/validation.py\", line 192, in _num_samples\n",
            "    raise TypeError(message)\n",
            "TypeError: Expected sequence or array-like, got <class 'sklearn.ensemble._bagging.BaggingClassifier'>\n",
            "\n",
            "  UserWarning,\n",
            "/opt/conda/lib/python3.7/site-packages/sklearn/utils/validation.py:63: DataConversionWarning: A column-vector y was passed when a 1d array was expected. Please change the shape of y to (n_samples, ), for example using ravel().\n",
            "  return f(*args, **kwargs)\n",
            "/opt/conda/lib/python3.7/site-packages/sklearn/utils/validation.py:72: FutureWarning: Pass normalize=       y\n",
            "1      0\n",
            "2      0\n",
            "5      0\n",
            "14     0\n",
            "20     0\n",
            "...   ..\n",
            "41160  1\n",
            "41163  0\n",
            "41164  0\n",
            "41170  0\n",
            "41171  1\n",
            "\n",
            "[8235 rows x 1 columns] as keyword args. From version 1.0 (renaming of 0.25) passing these as positional arguments will result in an error\n",
            "  \"will result in an error\", FutureWarning)\n",
            "/opt/conda/lib/python3.7/site-packages/sklearn/model_selection/_validation.py:687: UserWarning: Scoring failed. The score on this train-test partition for these parameters will be set to nan. Details: \n",
            "Traceback (most recent call last):\n",
            "  File \"/opt/conda/lib/python3.7/site-packages/sklearn/model_selection/_validation.py\", line 674, in _score\n",
            "    scores = scorer(estimator, X_test, y_test)\n",
            "  File \"/opt/conda/lib/python3.7/site-packages/sklearn/utils/validation.py\", line 74, in inner_f\n",
            "    return f(**kwargs)\n",
            "  File \"/opt/conda/lib/python3.7/site-packages/sklearn/metrics/_classification.py\", line 202, in accuracy_score\n",
            "    y_type, y_true, y_pred = _check_targets(y_true, y_pred)\n",
            "  File \"/opt/conda/lib/python3.7/site-packages/sklearn/metrics/_classification.py\", line 83, in _check_targets\n",
            "    check_consistent_length(y_true, y_pred)\n",
            "  File \"/opt/conda/lib/python3.7/site-packages/sklearn/utils/validation.py\", line 259, in check_consistent_length\n",
            "    lengths = [_num_samples(X) for X in arrays if X is not None]\n",
            "  File \"/opt/conda/lib/python3.7/site-packages/sklearn/utils/validation.py\", line 259, in <listcomp>\n",
            "    lengths = [_num_samples(X) for X in arrays if X is not None]\n",
            "  File \"/opt/conda/lib/python3.7/site-packages/sklearn/utils/validation.py\", line 192, in _num_samples\n",
            "    raise TypeError(message)\n",
            "TypeError: Expected sequence or array-like, got <class 'sklearn.ensemble._bagging.BaggingClassifier'>\n",
            "\n",
            "  UserWarning,\n",
            "/opt/conda/lib/python3.7/site-packages/sklearn/utils/validation.py:63: DataConversionWarning: A column-vector y was passed when a 1d array was expected. Please change the shape of y to (n_samples, ), for example using ravel().\n",
            "  return f(*args, **kwargs)\n",
            "/opt/conda/lib/python3.7/site-packages/sklearn/utils/validation.py:72: FutureWarning: Pass normalize=       y\n",
            "10     0\n",
            "11     0\n",
            "13     0\n",
            "19     0\n",
            "21     0\n",
            "...   ..\n",
            "41148  1\n",
            "41159  1\n",
            "41162  1\n",
            "41168  0\n",
            "41173  0\n",
            "\n",
            "[8235 rows x 1 columns] as keyword args. From version 1.0 (renaming of 0.25) passing these as positional arguments will result in an error\n",
            "  \"will result in an error\", FutureWarning)\n",
            "/opt/conda/lib/python3.7/site-packages/sklearn/model_selection/_validation.py:687: UserWarning: Scoring failed. The score on this train-test partition for these parameters will be set to nan. Details: \n",
            "Traceback (most recent call last):\n",
            "  File \"/opt/conda/lib/python3.7/site-packages/sklearn/model_selection/_validation.py\", line 674, in _score\n",
            "    scores = scorer(estimator, X_test, y_test)\n",
            "  File \"/opt/conda/lib/python3.7/site-packages/sklearn/utils/validation.py\", line 74, in inner_f\n",
            "    return f(**kwargs)\n",
            "  File \"/opt/conda/lib/python3.7/site-packages/sklearn/metrics/_classification.py\", line 202, in accuracy_score\n",
            "    y_type, y_true, y_pred = _check_targets(y_true, y_pred)\n",
            "  File \"/opt/conda/lib/python3.7/site-packages/sklearn/metrics/_classification.py\", line 83, in _check_targets\n",
            "    check_consistent_length(y_true, y_pred)\n",
            "  File \"/opt/conda/lib/python3.7/site-packages/sklearn/utils/validation.py\", line 259, in check_consistent_length\n",
            "    lengths = [_num_samples(X) for X in arrays if X is not None]\n",
            "  File \"/opt/conda/lib/python3.7/site-packages/sklearn/utils/validation.py\", line 259, in <listcomp>\n",
            "    lengths = [_num_samples(X) for X in arrays if X is not None]\n",
            "  File \"/opt/conda/lib/python3.7/site-packages/sklearn/utils/validation.py\", line 192, in _num_samples\n",
            "    raise TypeError(message)\n",
            "TypeError: Expected sequence or array-like, got <class 'sklearn.ensemble._bagging.BaggingClassifier'>\n",
            "\n",
            "  UserWarning,\n",
            "/opt/conda/lib/python3.7/site-packages/sklearn/utils/validation.py:63: DataConversionWarning: A column-vector y was passed when a 1d array was expected. Please change the shape of y to (n_samples, ), for example using ravel().\n",
            "  return f(*args, **kwargs)\n",
            "/opt/conda/lib/python3.7/site-packages/sklearn/utils/validation.py:72: FutureWarning: Pass normalize=       y\n",
            "6      0\n",
            "18     0\n",
            "22     0\n",
            "24     0\n",
            "28     0\n",
            "...   ..\n",
            "41155  0\n",
            "41165  0\n",
            "41166  1\n",
            "41167  0\n",
            "41174  1\n",
            "\n",
            "[8236 rows x 1 columns] as keyword args. From version 1.0 (renaming of 0.25) passing these as positional arguments will result in an error\n",
            "  \"will result in an error\", FutureWarning)\n",
            "/opt/conda/lib/python3.7/site-packages/sklearn/model_selection/_validation.py:687: UserWarning: Scoring failed. The score on this train-test partition for these parameters will be set to nan. Details: \n",
            "Traceback (most recent call last):\n",
            "  File \"/opt/conda/lib/python3.7/site-packages/sklearn/model_selection/_validation.py\", line 674, in _score\n",
            "    scores = scorer(estimator, X_test, y_test)\n",
            "  File \"/opt/conda/lib/python3.7/site-packages/sklearn/utils/validation.py\", line 74, in inner_f\n",
            "    return f(**kwargs)\n",
            "  File \"/opt/conda/lib/python3.7/site-packages/sklearn/metrics/_classification.py\", line 202, in accuracy_score\n",
            "    y_type, y_true, y_pred = _check_targets(y_true, y_pred)\n",
            "  File \"/opt/conda/lib/python3.7/site-packages/sklearn/metrics/_classification.py\", line 83, in _check_targets\n",
            "    check_consistent_length(y_true, y_pred)\n",
            "  File \"/opt/conda/lib/python3.7/site-packages/sklearn/utils/validation.py\", line 259, in check_consistent_length\n",
            "    lengths = [_num_samples(X) for X in arrays if X is not None]\n",
            "  File \"/opt/conda/lib/python3.7/site-packages/sklearn/utils/validation.py\", line 259, in <listcomp>\n",
            "    lengths = [_num_samples(X) for X in arrays if X is not None]\n",
            "  File \"/opt/conda/lib/python3.7/site-packages/sklearn/utils/validation.py\", line 192, in _num_samples\n",
            "    raise TypeError(message)\n",
            "TypeError: Expected sequence or array-like, got <class 'sklearn.ensemble._bagging.BaggingClassifier'>\n",
            "\n",
            "  UserWarning,\n",
            "/opt/conda/lib/python3.7/site-packages/sklearn/utils/validation.py:63: DataConversionWarning: A column-vector y was passed when a 1d array was expected. Please change the shape of y to (n_samples, ), for example using ravel().\n",
            "  return f(*args, **kwargs)\n",
            "/opt/conda/lib/python3.7/site-packages/sklearn/utils/validation.py:72: FutureWarning: Pass normalize=       y\n",
            "3      0\n",
            "4      0\n",
            "7      0\n",
            "17     0\n",
            "29     0\n",
            "...   ..\n",
            "41157  0\n",
            "41161  1\n",
            "41169  1\n",
            "41172  0\n",
            "41175  0\n",
            "\n",
            "[8235 rows x 1 columns] as keyword args. From version 1.0 (renaming of 0.25) passing these as positional arguments will result in an error\n",
            "  \"will result in an error\", FutureWarning)\n",
            "/opt/conda/lib/python3.7/site-packages/sklearn/model_selection/_validation.py:687: UserWarning: Scoring failed. The score on this train-test partition for these parameters will be set to nan. Details: \n",
            "Traceback (most recent call last):\n",
            "  File \"/opt/conda/lib/python3.7/site-packages/sklearn/model_selection/_validation.py\", line 674, in _score\n",
            "    scores = scorer(estimator, X_test, y_test)\n",
            "  File \"/opt/conda/lib/python3.7/site-packages/sklearn/utils/validation.py\", line 74, in inner_f\n",
            "    return f(**kwargs)\n",
            "  File \"/opt/conda/lib/python3.7/site-packages/sklearn/metrics/_classification.py\", line 202, in accuracy_score\n",
            "    y_type, y_true, y_pred = _check_targets(y_true, y_pred)\n",
            "  File \"/opt/conda/lib/python3.7/site-packages/sklearn/metrics/_classification.py\", line 83, in _check_targets\n",
            "    check_consistent_length(y_true, y_pred)\n",
            "  File \"/opt/conda/lib/python3.7/site-packages/sklearn/utils/validation.py\", line 259, in check_consistent_length\n",
            "    lengths = [_num_samples(X) for X in arrays if X is not None]\n",
            "  File \"/opt/conda/lib/python3.7/site-packages/sklearn/utils/validation.py\", line 259, in <listcomp>\n",
            "    lengths = [_num_samples(X) for X in arrays if X is not None]\n",
            "  File \"/opt/conda/lib/python3.7/site-packages/sklearn/utils/validation.py\", line 192, in _num_samples\n",
            "    raise TypeError(message)\n",
            "TypeError: Expected sequence or array-like, got <class 'sklearn.ensemble._bagging.BaggingClassifier'>\n",
            "\n",
            "  UserWarning,\n",
            "/opt/conda/lib/python3.7/site-packages/sklearn/utils/validation.py:63: DataConversionWarning: A column-vector y was passed when a 1d array was expected. Please change the shape of y to (n_samples, ), for example using ravel().\n",
            "  return f(*args, **kwargs)\n",
            "/opt/conda/lib/python3.7/site-packages/sklearn/utils/validation.py:72: FutureWarning: Pass normalize=       y\n",
            "0      0\n",
            "8      0\n",
            "9      0\n",
            "12     0\n",
            "15     0\n",
            "...   ..\n",
            "41123  0\n",
            "41136  1\n",
            "41137  0\n",
            "41150  0\n",
            "41156  0\n",
            "\n",
            "[8235 rows x 1 columns] as keyword args. From version 1.0 (renaming of 0.25) passing these as positional arguments will result in an error\n",
            "  \"will result in an error\", FutureWarning)\n",
            "/opt/conda/lib/python3.7/site-packages/sklearn/model_selection/_validation.py:687: UserWarning: Scoring failed. The score on this train-test partition for these parameters will be set to nan. Details: \n",
            "Traceback (most recent call last):\n",
            "  File \"/opt/conda/lib/python3.7/site-packages/sklearn/model_selection/_validation.py\", line 674, in _score\n",
            "    scores = scorer(estimator, X_test, y_test)\n",
            "  File \"/opt/conda/lib/python3.7/site-packages/sklearn/utils/validation.py\", line 74, in inner_f\n",
            "    return f(**kwargs)\n",
            "  File \"/opt/conda/lib/python3.7/site-packages/sklearn/metrics/_classification.py\", line 202, in accuracy_score\n",
            "    y_type, y_true, y_pred = _check_targets(y_true, y_pred)\n",
            "  File \"/opt/conda/lib/python3.7/site-packages/sklearn/metrics/_classification.py\", line 83, in _check_targets\n",
            "    check_consistent_length(y_true, y_pred)\n",
            "  File \"/opt/conda/lib/python3.7/site-packages/sklearn/utils/validation.py\", line 259, in check_consistent_length\n",
            "    lengths = [_num_samples(X) for X in arrays if X is not None]\n",
            "  File \"/opt/conda/lib/python3.7/site-packages/sklearn/utils/validation.py\", line 259, in <listcomp>\n",
            "    lengths = [_num_samples(X) for X in arrays if X is not None]\n",
            "  File \"/opt/conda/lib/python3.7/site-packages/sklearn/utils/validation.py\", line 192, in _num_samples\n",
            "    raise TypeError(message)\n",
            "TypeError: Expected sequence or array-like, got <class 'sklearn.ensemble._bagging.BaggingClassifier'>\n",
            "\n",
            "  UserWarning,\n",
            "/opt/conda/lib/python3.7/site-packages/sklearn/utils/validation.py:63: DataConversionWarning: A column-vector y was passed when a 1d array was expected. Please change the shape of y to (n_samples, ), for example using ravel().\n",
            "  return f(*args, **kwargs)\n",
            "/opt/conda/lib/python3.7/site-packages/sklearn/utils/validation.py:72: FutureWarning: Pass normalize=       y\n",
            "1      0\n",
            "2      0\n",
            "5      0\n",
            "14     0\n",
            "20     0\n",
            "...   ..\n",
            "41160  1\n",
            "41163  0\n",
            "41164  0\n",
            "41170  0\n",
            "41171  1\n",
            "\n",
            "[8235 rows x 1 columns] as keyword args. From version 1.0 (renaming of 0.25) passing these as positional arguments will result in an error\n",
            "  \"will result in an error\", FutureWarning)\n",
            "/opt/conda/lib/python3.7/site-packages/sklearn/model_selection/_validation.py:687: UserWarning: Scoring failed. The score on this train-test partition for these parameters will be set to nan. Details: \n",
            "Traceback (most recent call last):\n",
            "  File \"/opt/conda/lib/python3.7/site-packages/sklearn/model_selection/_validation.py\", line 674, in _score\n",
            "    scores = scorer(estimator, X_test, y_test)\n",
            "  File \"/opt/conda/lib/python3.7/site-packages/sklearn/utils/validation.py\", line 74, in inner_f\n",
            "    return f(**kwargs)\n",
            "  File \"/opt/conda/lib/python3.7/site-packages/sklearn/metrics/_classification.py\", line 202, in accuracy_score\n",
            "    y_type, y_true, y_pred = _check_targets(y_true, y_pred)\n",
            "  File \"/opt/conda/lib/python3.7/site-packages/sklearn/metrics/_classification.py\", line 83, in _check_targets\n",
            "    check_consistent_length(y_true, y_pred)\n",
            "  File \"/opt/conda/lib/python3.7/site-packages/sklearn/utils/validation.py\", line 259, in check_consistent_length\n",
            "    lengths = [_num_samples(X) for X in arrays if X is not None]\n",
            "  File \"/opt/conda/lib/python3.7/site-packages/sklearn/utils/validation.py\", line 259, in <listcomp>\n",
            "    lengths = [_num_samples(X) for X in arrays if X is not None]\n",
            "  File \"/opt/conda/lib/python3.7/site-packages/sklearn/utils/validation.py\", line 192, in _num_samples\n",
            "    raise TypeError(message)\n",
            "TypeError: Expected sequence or array-like, got <class 'sklearn.ensemble._bagging.BaggingClassifier'>\n",
            "\n",
            "  UserWarning,\n",
            "/opt/conda/lib/python3.7/site-packages/sklearn/utils/validation.py:63: DataConversionWarning: A column-vector y was passed when a 1d array was expected. Please change the shape of y to (n_samples, ), for example using ravel().\n",
            "  return f(*args, **kwargs)\n",
            "/opt/conda/lib/python3.7/site-packages/sklearn/utils/validation.py:72: FutureWarning: Pass normalize=       y\n",
            "10     0\n",
            "11     0\n",
            "13     0\n",
            "19     0\n",
            "21     0\n",
            "...   ..\n",
            "41148  1\n",
            "41159  1\n",
            "41162  1\n",
            "41168  0\n",
            "41173  0\n",
            "\n",
            "[8235 rows x 1 columns] as keyword args. From version 1.0 (renaming of 0.25) passing these as positional arguments will result in an error\n",
            "  \"will result in an error\", FutureWarning)\n",
            "/opt/conda/lib/python3.7/site-packages/sklearn/model_selection/_validation.py:687: UserWarning: Scoring failed. The score on this train-test partition for these parameters will be set to nan. Details: \n",
            "Traceback (most recent call last):\n",
            "  File \"/opt/conda/lib/python3.7/site-packages/sklearn/model_selection/_validation.py\", line 674, in _score\n",
            "    scores = scorer(estimator, X_test, y_test)\n",
            "  File \"/opt/conda/lib/python3.7/site-packages/sklearn/utils/validation.py\", line 74, in inner_f\n",
            "    return f(**kwargs)\n",
            "  File \"/opt/conda/lib/python3.7/site-packages/sklearn/metrics/_classification.py\", line 202, in accuracy_score\n",
            "    y_type, y_true, y_pred = _check_targets(y_true, y_pred)\n",
            "  File \"/opt/conda/lib/python3.7/site-packages/sklearn/metrics/_classification.py\", line 83, in _check_targets\n",
            "    check_consistent_length(y_true, y_pred)\n",
            "  File \"/opt/conda/lib/python3.7/site-packages/sklearn/utils/validation.py\", line 259, in check_consistent_length\n",
            "    lengths = [_num_samples(X) for X in arrays if X is not None]\n",
            "  File \"/opt/conda/lib/python3.7/site-packages/sklearn/utils/validation.py\", line 259, in <listcomp>\n",
            "    lengths = [_num_samples(X) for X in arrays if X is not None]\n",
            "  File \"/opt/conda/lib/python3.7/site-packages/sklearn/utils/validation.py\", line 192, in _num_samples\n",
            "    raise TypeError(message)\n",
            "TypeError: Expected sequence or array-like, got <class 'sklearn.ensemble._bagging.BaggingClassifier'>\n",
            "\n",
            "  UserWarning,\n",
            "/opt/conda/lib/python3.7/site-packages/sklearn/model_selection/_search.py:921: UserWarning: One or more of the test scores are non-finite: [nan nan nan nan nan nan nan nan nan]\n",
            "  category=UserWarning\n",
            "/opt/conda/lib/python3.7/site-packages/sklearn/utils/validation.py:63: DataConversionWarning: A column-vector y was passed when a 1d array was expected. Please change the shape of y to (n_samples, ), for example using ravel().\n",
            "  return f(*args, **kwargs)\n"
          ],
          "name": "stderr"
        },
        {
          "output_type": "execute_result",
          "data": {
            "text/plain": [
              "RandomizedSearchCV(cv=KFold(n_splits=5, random_state=0, shuffle=True),\n",
              "                   estimator=BaggingClassifier(base_estimator=LogisticRegression(),\n",
              "                                               random_state=0),\n",
              "                   param_distributions={'n_estimators': array([1, 2, 3, 4, 5, 6, 7, 8, 9])},\n",
              "                   scoring=<function accuracy_score at 0x7f28759ae710>)"
            ]
          },
          "metadata": {
            "tags": []
          },
          "execution_count": 80
        }
      ]
    },
    {
      "cell_type": "code",
      "metadata": {
        "execution": {
          "iopub.execute_input": "2021-04-12T07:17:12.017382Z",
          "iopub.status.busy": "2021-04-12T07:17:12.016419Z",
          "iopub.status.idle": "2021-04-12T07:17:12.019747Z",
          "shell.execute_reply": "2021-04-12T07:17:12.020267Z"
        },
        "papermill": {
          "duration": 0.185043,
          "end_time": "2021-04-12T07:17:12.020482",
          "exception": false,
          "start_time": "2021-04-12T07:17:11.835439",
          "status": "completed"
        },
        "tags": [],
        "id": "painted-genome",
        "outputId": "857f1c1b-0776-4601-db19-814cddc3f321"
      },
      "source": [
        "# print(LR_Bagged_GS.best_params_)\n",
        "print(LR_Bagged_RS.best_params_)\n",
        "# LR_RS_n_estimators = LR_Bagged_RS['n_estimators']"
      ],
      "id": "painted-genome",
      "execution_count": null,
      "outputs": [
        {
          "output_type": "stream",
          "text": [
            "{'n_estimators': 1}\n"
          ],
          "name": "stdout"
        }
      ]
    },
    {
      "cell_type": "code",
      "metadata": {
        "execution": {
          "iopub.execute_input": "2021-04-12T07:17:12.395412Z",
          "iopub.status.busy": "2021-04-12T07:17:12.394653Z",
          "iopub.status.idle": "2021-04-12T07:17:12.825304Z",
          "shell.execute_reply": "2021-04-12T07:17:12.826321Z"
        },
        "papermill": {
          "duration": 0.623595,
          "end_time": "2021-04-12T07:17:12.826693",
          "exception": false,
          "start_time": "2021-04-12T07:17:12.203098",
          "status": "completed"
        },
        "tags": [],
        "id": "mighty-phrase",
        "outputId": "02c347b6-4fe6-48eb-e97a-0c69762e0469"
      },
      "source": [
        "LR_Bagged_Kfold = BaggingClassifier(base_estimator=LR,n_estimators=1,random_state=0)\n",
        "\n",
        "# Train your model\n",
        "LR_Bagged_Kfold.fit(os_X,os_y)\n",
        "\n",
        "# Predict your model\n",
        "LR_Bagged_Kfold_predicted_y = LR_Bagged_Kfold.predict(X_test)"
      ],
      "id": "mighty-phrase",
      "execution_count": null,
      "outputs": [
        {
          "output_type": "stream",
          "text": [
            "/opt/conda/lib/python3.7/site-packages/sklearn/utils/validation.py:63: DataConversionWarning: A column-vector y was passed when a 1d array was expected. Please change the shape of y to (n_samples, ), for example using ravel().\n",
            "  return f(*args, **kwargs)\n"
          ],
          "name": "stderr"
        }
      ]
    },
    {
      "cell_type": "code",
      "metadata": {
        "execution": {
          "iopub.execute_input": "2021-04-12T07:17:13.241798Z",
          "iopub.status.busy": "2021-04-12T07:17:13.240931Z",
          "iopub.status.idle": "2021-04-12T07:17:13.296152Z",
          "shell.execute_reply": "2021-04-12T07:17:13.295298Z"
        },
        "papermill": {
          "duration": 0.23856,
          "end_time": "2021-04-12T07:17:13.296334",
          "exception": false,
          "start_time": "2021-04-12T07:17:13.057774",
          "status": "completed"
        },
        "tags": [],
        "id": "searching-federal",
        "outputId": "8702860f-df90-438d-a2a3-f7fefaeeaa98"
      },
      "source": [
        "# Confusion Matrix\n",
        "LR_Bagged_Kfold_CM = confusion_matrix(y_test,LR_Bagged_Kfold_predicted_y)\n",
        "print(LR_Bagged_Kfold_CM)\n",
        "\n",
        "# Accuracy Score\n",
        "LR_Bagged_Kfold_Accuracy = round(accuracy_score(y_test,LR_Bagged_Kfold_predicted_y)*100,2)\n",
        "print('LR_Bagged_Kfold_Accuracy is ', LR_Bagged_Kfold_Accuracy)\n",
        "\n",
        "# Classification Report\n",
        "print(classification_report(y_test,LR_Bagged_Kfold_predicted_y))"
      ],
      "id": "searching-federal",
      "execution_count": null,
      "outputs": [
        {
          "output_type": "stream",
          "text": [
            "[[4506 6413]\n",
            " [ 377 1057]]\n",
            "LR_Bagged_Kfold_Accuracy is  45.03\n",
            "              precision    recall  f1-score   support\n",
            "\n",
            "           0       0.92      0.41      0.57     10919\n",
            "           1       0.14      0.74      0.24      1434\n",
            "\n",
            "    accuracy                           0.45     12353\n",
            "   macro avg       0.53      0.57      0.40     12353\n",
            "weighted avg       0.83      0.45      0.53     12353\n",
            "\n"
          ],
          "name": "stdout"
        }
      ]
    },
    {
      "cell_type": "code",
      "metadata": {
        "execution": {
          "iopub.execute_input": "2021-04-12T07:17:13.656411Z",
          "iopub.status.busy": "2021-04-12T07:17:13.655599Z",
          "iopub.status.idle": "2021-04-12T07:17:13.660017Z",
          "shell.execute_reply": "2021-04-12T07:17:13.659390Z"
        },
        "papermill": {
          "duration": 0.187029,
          "end_time": "2021-04-12T07:17:13.660192",
          "exception": false,
          "start_time": "2021-04-12T07:17:13.473163",
          "status": "completed"
        },
        "tags": [],
        "id": "finite-guarantee",
        "outputId": "6720e8ca-a3e8-430e-9eea-afdccee1d83e"
      },
      "source": [
        "print(4506/(4506+377))\n",
        "print(1057/(1057+6413))"
      ],
      "id": "finite-guarantee",
      "execution_count": null,
      "outputs": [
        {
          "output_type": "stream",
          "text": [
            "0.9227933647347942\n",
            "0.14149933065595716\n"
          ],
          "name": "stdout"
        }
      ]
    },
    {
      "cell_type": "markdown",
      "metadata": {
        "papermill": {
          "duration": 0.200773,
          "end_time": "2021-04-12T07:17:52.910653",
          "exception": false,
          "start_time": "2021-04-12T07:17:52.709880",
          "status": "completed"
        },
        "tags": [],
        "id": "neural-renaissance"
      },
      "source": [
        ""
      ],
      "id": "neural-renaissance"
    },
    {
      "cell_type": "markdown",
      "metadata": {
        "papermill": {
          "duration": 0.224543,
          "end_time": "2021-04-12T07:18:24.430446",
          "exception": false,
          "start_time": "2021-04-12T07:18:24.205903",
          "status": "completed"
        },
        "tags": [],
        "id": "legitimate-extreme"
      },
      "source": [
        "## Model 5:- SVM"
      ],
      "id": "legitimate-extreme"
    },
    {
      "cell_type": "code",
      "metadata": {
        "execution": {
          "iopub.execute_input": "2021-04-12T07:18:24.875793Z",
          "iopub.status.busy": "2021-04-12T07:18:24.874628Z",
          "iopub.status.idle": "2021-04-12T07:18:24.878665Z",
          "shell.execute_reply": "2021-04-12T07:18:24.878020Z"
        },
        "papermill": {
          "duration": 0.226883,
          "end_time": "2021-04-12T07:18:24.878858",
          "exception": false,
          "start_time": "2021-04-12T07:18:24.651975",
          "status": "completed"
        },
        "tags": [],
        "id": "vital-spider"
      },
      "source": [
        "from sklearn.svm import SVC"
      ],
      "id": "vital-spider",
      "execution_count": null,
      "outputs": []
    },
    {
      "cell_type": "code",
      "metadata": {
        "execution": {
          "iopub.execute_input": "2021-04-12T07:18:25.323312Z",
          "iopub.status.busy": "2021-04-12T07:18:25.321902Z",
          "iopub.status.idle": "2021-04-12T07:21:20.985231Z",
          "shell.execute_reply": "2021-04-12T07:21:20.984479Z"
        },
        "papermill": {
          "duration": 175.889118,
          "end_time": "2021-04-12T07:21:20.985472",
          "exception": false,
          "start_time": "2021-04-12T07:18:25.096354",
          "status": "completed"
        },
        "tags": [],
        "id": "comic-ethics",
        "outputId": "f37cac84-f6e6-462e-dc11-84d4a96bd356"
      },
      "source": [
        "SVM = SVC()\n",
        "\n",
        "SVM.fit(os_X,os_y)\n",
        "\n",
        "SVM_predicted_y = SVM.predict(X_test)"
      ],
      "id": "comic-ethics",
      "execution_count": null,
      "outputs": [
        {
          "output_type": "stream",
          "text": [
            "/opt/conda/lib/python3.7/site-packages/sklearn/utils/validation.py:63: DataConversionWarning: A column-vector y was passed when a 1d array was expected. Please change the shape of y to (n_samples, ), for example using ravel().\n",
            "  return f(*args, **kwargs)\n"
          ],
          "name": "stderr"
        }
      ]
    },
    {
      "cell_type": "code",
      "metadata": {
        "execution": {
          "iopub.execute_input": "2021-04-12T07:21:21.453892Z",
          "iopub.status.busy": "2021-04-12T07:21:21.452711Z",
          "iopub.status.idle": "2021-04-12T07:21:21.510989Z",
          "shell.execute_reply": "2021-04-12T07:21:21.511552Z"
        },
        "papermill": {
          "duration": 0.293388,
          "end_time": "2021-04-12T07:21:21.511820",
          "exception": false,
          "start_time": "2021-04-12T07:21:21.218432",
          "status": "completed"
        },
        "tags": [],
        "id": "incorporated-character",
        "outputId": "9d4f2c87-e6af-4cc4-f560-e5f56144a281"
      },
      "source": [
        "# Confusion Matrix\n",
        "SVM_CM = confusion_matrix(y_test,SVM_predicted_y)\n",
        "print(SVM_CM)\n",
        "\n",
        "# Accuracy Score\n",
        "SVM_Accuracy_Score = round(accuracy_score(y_test,SVM_predicted_y)*100,2)\n",
        "print('SVM_Accuracy_Score is ', SVM_Accuracy_Score)\n",
        "\n",
        "# Classification Report\n",
        "print(classification_report(y_test,SVM_predicted_y))"
      ],
      "id": "incorporated-character",
      "execution_count": null,
      "outputs": [
        {
          "output_type": "stream",
          "text": [
            "[[5830 5089]\n",
            " [ 457  977]]\n",
            "SVM_Accuracy_Score is  55.1\n",
            "              precision    recall  f1-score   support\n",
            "\n",
            "           0       0.93      0.53      0.68     10919\n",
            "           1       0.16      0.68      0.26      1434\n",
            "\n",
            "    accuracy                           0.55     12353\n",
            "   macro avg       0.54      0.61      0.47     12353\n",
            "weighted avg       0.84      0.55      0.63     12353\n",
            "\n"
          ],
          "name": "stdout"
        }
      ]
    },
    {
      "cell_type": "markdown",
      "metadata": {
        "papermill": {
          "duration": 0.227727,
          "end_time": "2021-04-12T07:21:21.964369",
          "exception": false,
          "start_time": "2021-04-12T07:21:21.736642",
          "status": "completed"
        },
        "tags": [],
        "id": "determined-trick"
      },
      "source": [
        "## Model 6:- Naive Bias"
      ],
      "id": "determined-trick"
    },
    {
      "cell_type": "code",
      "metadata": {
        "execution": {
          "iopub.execute_input": "2021-04-12T07:21:22.422248Z",
          "iopub.status.busy": "2021-04-12T07:21:22.421358Z",
          "iopub.status.idle": "2021-04-12T07:21:22.425878Z",
          "shell.execute_reply": "2021-04-12T07:21:22.425003Z"
        },
        "papermill": {
          "duration": 0.234218,
          "end_time": "2021-04-12T07:21:22.426071",
          "exception": false,
          "start_time": "2021-04-12T07:21:22.191853",
          "status": "completed"
        },
        "tags": [],
        "id": "dressed-galaxy"
      },
      "source": [
        "from sklearn.naive_bayes import GaussianNB"
      ],
      "id": "dressed-galaxy",
      "execution_count": null,
      "outputs": []
    },
    {
      "cell_type": "code",
      "metadata": {
        "execution": {
          "iopub.execute_input": "2021-04-12T07:21:22.891332Z",
          "iopub.status.busy": "2021-04-12T07:21:22.890531Z",
          "iopub.status.idle": "2021-04-12T07:21:22.912652Z",
          "shell.execute_reply": "2021-04-12T07:21:22.913204Z"
        },
        "papermill": {
          "duration": 0.258947,
          "end_time": "2021-04-12T07:21:22.913434",
          "exception": false,
          "start_time": "2021-04-12T07:21:22.654487",
          "status": "completed"
        },
        "tags": [],
        "id": "protective-engagement",
        "outputId": "f314da5b-717a-4250-b04f-559fab2ce580"
      },
      "source": [
        "NB = GaussianNB()\n",
        "\n",
        "NB.fit(os_X,os_y)\n",
        "\n",
        "NB_predicted_y = NB.predict(X_test)"
      ],
      "id": "protective-engagement",
      "execution_count": null,
      "outputs": [
        {
          "output_type": "stream",
          "text": [
            "/opt/conda/lib/python3.7/site-packages/sklearn/utils/validation.py:63: DataConversionWarning: A column-vector y was passed when a 1d array was expected. Please change the shape of y to (n_samples, ), for example using ravel().\n",
            "  return f(*args, **kwargs)\n"
          ],
          "name": "stderr"
        }
      ]
    },
    {
      "cell_type": "code",
      "metadata": {
        "execution": {
          "iopub.execute_input": "2021-04-12T07:21:23.372868Z",
          "iopub.status.busy": "2021-04-12T07:21:23.371967Z",
          "iopub.status.idle": "2021-04-12T07:21:23.427825Z",
          "shell.execute_reply": "2021-04-12T07:21:23.426746Z"
        },
        "papermill": {
          "duration": 0.288784,
          "end_time": "2021-04-12T07:21:23.428051",
          "exception": false,
          "start_time": "2021-04-12T07:21:23.139267",
          "status": "completed"
        },
        "tags": [],
        "id": "crude-voltage",
        "outputId": "62b53fd6-f925-4b63-cfbb-83083f8da21d"
      },
      "source": [
        "# Confusion Matrix\n",
        "NB_CM = confusion_matrix(y_test,NB_predicted_y)\n",
        "print(NB_CM)\n",
        "\n",
        "# Accuracy Score\n",
        "NB_Accuracy_Score = round(accuracy_score(y_test,NB_predicted_y)*100,2)\n",
        "print('NB_Accuracy_Score is ', NB_Accuracy_Score)\n",
        "\n",
        "# Classification Report\n",
        "print(classification_report(y_test,NB_predicted_y))"
      ],
      "id": "crude-voltage",
      "execution_count": null,
      "outputs": [
        {
          "output_type": "stream",
          "text": [
            "[[3449 7470]\n",
            " [ 211 1223]]\n",
            "NB_Accuracy_Score is  37.82\n",
            "              precision    recall  f1-score   support\n",
            "\n",
            "           0       0.94      0.32      0.47     10919\n",
            "           1       0.14      0.85      0.24      1434\n",
            "\n",
            "    accuracy                           0.38     12353\n",
            "   macro avg       0.54      0.58      0.36     12353\n",
            "weighted avg       0.85      0.38      0.45     12353\n",
            "\n"
          ],
          "name": "stdout"
        }
      ]
    },
    {
      "cell_type": "markdown",
      "metadata": {
        "papermill": {
          "duration": 0.223498,
          "end_time": "2021-04-12T07:21:23.876874",
          "exception": false,
          "start_time": "2021-04-12T07:21:23.653376",
          "status": "completed"
        },
        "tags": [],
        "id": "neither-creature"
      },
      "source": [
        "#### Note : Finally I choose the model GaussianNB as best model to identify potential customers who opening the term deposit. Even though the model has very low accuracy but the FPR rate is very less.\n",
        "####        For better Accuracy model, we can take KNN model as 75.58 % Accuracy Score.[](http://)"
      ],
      "id": "neither-creature"
    },
    {
      "cell_type": "code",
      "metadata": {
        "papermill": {
          "duration": 0.234505,
          "end_time": "2021-04-12T07:21:24.336247",
          "exception": false,
          "start_time": "2021-04-12T07:21:24.101742",
          "status": "completed"
        },
        "tags": [],
        "id": "medium-vietnamese"
      },
      "source": [
        ""
      ],
      "id": "medium-vietnamese",
      "execution_count": null,
      "outputs": []
    }
  ]
}